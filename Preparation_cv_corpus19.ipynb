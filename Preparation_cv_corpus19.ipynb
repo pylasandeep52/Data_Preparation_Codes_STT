{
 "cells": [
  {
   "cell_type": "code",
   "execution_count": 2,
   "id": "f084dad6-6f2b-491b-bcf2-279d56197849",
   "metadata": {},
   "outputs": [
    {
     "name": "stdout",
     "output_type": "stream",
     "text": [
      " Current working directory is now: /home/jovyan\n"
     ]
    }
   ],
   "source": [
    "os.chdir(os.path.expanduser(\"~\"))  # Changes to your user home directory\n",
    "print(\" Current working directory is now:\", os.getcwd())"
   ]
  },
  {
   "cell_type": "code",
   "execution_count": 3,
   "id": "565292e1-bfed-414c-ab60-08c47f8f4dac",
   "metadata": {},
   "outputs": [
    {
     "name": "stdout",
     "output_type": "stream",
     "text": [
      "Current working directory is now: /home/jovyan/work/Datasets\n"
     ]
    }
   ],
   "source": [
    "# Change to the desired directory\n",
    "os.chdir(\"/home/jovyan/work/Datasets\")\n",
    "print(\"Current working directory is now:\", os.getcwd())"
   ]
  },
  {
   "cell_type": "code",
   "execution_count": 6,
   "id": "fbc28854-4814-48f4-99e4-4ebcb35cc9bf",
   "metadata": {},
   "outputs": [
    {
     "name": "stdout",
     "output_type": "stream",
     "text": [
      "total 8957276\n",
      "-rw-r--r-- 1 jovyan users       6614 May 22 07:50 Download.ipynb\n",
      "-rw-r--r-- 1 jovyan users      33957 May 22 15:00 Preparation.ipynb\n",
      "-rw-r--r-- 1 jovyan users       1772 May 23 14:04 Preparation_updated.ipynb\n",
      "-rw-r--r-- 1 jovyan users        618 May 22 07:55 Preprocessing.ipynb\n",
      "-rw-r--r-- 1 root   users 9172195398 May 22 07:17 cv-corpus-19.0-2024-09-13-ta.tar.gz\n"
     ]
    }
   ],
   "source": [
    "!ls -l"
   ]
  },
  {
   "cell_type": "code",
   "execution_count": 7,
   "id": "5ff8ad79-1a2c-426b-a53d-a4d4be9a06fb",
   "metadata": {},
   "outputs": [
    {
     "data": {
      "text/plain": [
       "9172195398"
      ]
     },
     "execution_count": 7,
     "metadata": {},
     "output_type": "execute_result"
    }
   ],
   "source": [
    "os.path.getsize(\"/home/jovyan/work/Datasets/cv-corpus-19.0-2024-09-13-ta.tar.gz\")"
   ]
  },
  {
   "cell_type": "code",
   "execution_count": 236,
   "id": "b9d52374-0592-40dc-8c33-3c5097904c6c",
   "metadata": {},
   "outputs": [],
   "source": [
    "#import tarfile\n",
    "#file_path = \"/home/jovyan/work/Datasets/cv-corpus-19.0-2024-09-13-ta.tar.gz\" # Define the file path and extract location\n",
    "#extract_to = \"/home/jovyan/work/Datasets/cv-corpus/\"  # Change this if needed\n",
    "#with tarfile.open(file_path, \"r:gz\") as tar: # Open the .tar.gz file and extract all contents\n",
    "#    tar.extractall(path=extract_to)\n",
    "#print(f\"Extracted contents to: {extract_to}\")"
   ]
  },
  {
   "cell_type": "code",
   "execution_count": 9,
   "id": "c2efc021-bbdb-471a-b509-137ad7e5a826",
   "metadata": {},
   "outputs": [
    {
     "name": "stdout",
     "output_type": "stream",
     "text": [
      "Scanning dataset at: /home/jovyan/work/Datasets/cv-corpus/\n",
      "\n",
      "Folder: root\n",
      "Total files: 0\n",
      "Folder: cv-corpus-19.0-2024-09-13\n",
      "Total files: 0\n",
      "Folder: cv-corpus-19.0-2024-09-13/ta\n",
      "Total files: 10\n",
      "Folder: cv-corpus-19.0-2024-09-13/ta/clips\n",
      "Total files: 246840\n"
     ]
    }
   ],
   "source": [
    "import os\n",
    "dataset_path = \"/home/jovyan/work/Datasets/cv-corpus/\"\n",
    "if not os.path.exists(dataset_path):\n",
    "    print(\"Dataset path does not exist.\")\n",
    "else:\n",
    "    print(f\"Scanning dataset at: {dataset_path}\\n\")\n",
    "    for root, dirs, files in os.walk(dataset_path):\n",
    "        rel_path = os.path.relpath(root, dataset_path)\n",
    "        folder_name = rel_path if rel_path != \".\" else \"root\"\n",
    "        print(f\"Folder: {folder_name}\")\n",
    "        print(f\"Total files: {len(files)}\")"
   ]
  },
  {
   "cell_type": "code",
   "execution_count": 10,
   "id": "6243b5fb-55fe-466d-bbc6-8c386d3d65a7",
   "metadata": {},
   "outputs": [
    {
     "name": "stdout",
     "output_type": "stream",
     "text": [
      "First 10 files: ['common_voice_ta_19071679.mp3', 'common_voice_ta_19071680.mp3', 'common_voice_ta_19071681.mp3', 'common_voice_ta_19071682.mp3', 'common_voice_ta_19071683.mp3', 'common_voice_ta_19071709.mp3', 'common_voice_ta_19071710.mp3', 'common_voice_ta_19071711.mp3', 'common_voice_ta_19071712.mp3', 'common_voice_ta_19071713.mp3']\n",
      "Total number of files: 246840\n"
     ]
    }
   ],
   "source": [
    "clips_path = \"/home/jovyan/work/Datasets/cv-corpus/cv-corpus-19.0-2024-09-13/ta/clips\"\n",
    "clips_files = os.listdir(clips_path) # List all files in the directory\n",
    "print(\"First 10 files:\", clips_files[:10]) # Print the first 10 files and total count\n",
    "print(\"Total number of files:\", len(clips_files))"
   ]
  },
  {
   "cell_type": "markdown",
   "id": "61b906c1-06b6-4ef8-98e5-665b1c21e38d",
   "metadata": {},
   "source": [
    "**For Dev.tsv file**"
   ]
  },
  {
   "cell_type": "code",
   "execution_count": 234,
   "id": "863e09af-6cbf-47b4-a432-68e75f1e3ad0",
   "metadata": {},
   "outputs": [],
   "source": [
    "dev_tsv_file_path = \"/home/jovyan/work/Datasets/cv-corpus/cv-corpus-19.0-2024-09-13/ta/dev.tsv\"\n",
    "df = pd.read_csv(dev_tsv_file_path, sep='\\t' , encoding = \"utf-8\") # Load and preview the TSV file\n",
    "#df = pd.read_table(dev_tsv_file_path) \n",
    "#print(df.head(10)) # Display the first 10 rows\n",
    "#print(\"Total rows:\", df.shape[0]) # Show the number of rows and columns\n",
    "#print(\"Total columns:\", df.shape[1])"
   ]
  },
  {
   "cell_type": "code",
   "execution_count": 235,
   "id": "6ac76fb0-9846-43e5-a1e1-55381b834db2",
   "metadata": {},
   "outputs": [
    {
     "name": "stdout",
     "output_type": "stream",
     "text": [
      "10303\n"
     ]
    }
   ],
   "source": [
    "print(len(df))"
   ]
  },
  {
   "cell_type": "code",
   "execution_count": 14,
   "id": "ecaf864e-3039-4866-92b2-fe6c31ca909a",
   "metadata": {},
   "outputs": [
    {
     "name": "stdout",
     "output_type": "stream",
     "text": [
      "                                               client_id  \\\n",
      "10293  aa4fc24757a92f02a0a702c82b4a6ac6045b1d8d1163c7...   \n",
      "10294  aa4fc24757a92f02a0a702c82b4a6ac6045b1d8d1163c7...   \n",
      "10295  aa4fc24757a92f02a0a702c82b4a6ac6045b1d8d1163c7...   \n",
      "10296  aa4fc24757a92f02a0a702c82b4a6ac6045b1d8d1163c7...   \n",
      "10297  aa4fc24757a92f02a0a702c82b4a6ac6045b1d8d1163c7...   \n",
      "10298  aa4fc24757a92f02a0a702c82b4a6ac6045b1d8d1163c7...   \n",
      "10299  aa4fc24757a92f02a0a702c82b4a6ac6045b1d8d1163c7...   \n",
      "10300  aa4fc24757a92f02a0a702c82b4a6ac6045b1d8d1163c7...   \n",
      "10301  aa4fc24757a92f02a0a702c82b4a6ac6045b1d8d1163c7...   \n",
      "10302  aa4fc24757a92f02a0a702c82b4a6ac6045b1d8d1163c7...   \n",
      "\n",
      "                               path  \\\n",
      "10293  common_voice_ta_26918916.mp3   \n",
      "10294  common_voice_ta_26918951.mp3   \n",
      "10295  common_voice_ta_26918974.mp3   \n",
      "10296  common_voice_ta_26919006.mp3   \n",
      "10297  common_voice_ta_26919010.mp3   \n",
      "10298  common_voice_ta_26920928.mp3   \n",
      "10299  common_voice_ta_26920950.mp3   \n",
      "10300  common_voice_ta_26920966.mp3   \n",
      "10301  common_voice_ta_26921021.mp3   \n",
      "10302  common_voice_ta_26921028.mp3   \n",
      "\n",
      "                                             sentence_id  \\\n",
      "10293  0ec691e0f9c2240f7882b62d5d9f84c4f0878aeb3db648...   \n",
      "10294  0f18fe1c6a09a6c281ffaf494e30d5834e36ecdd28e10c...   \n",
      "10295  131c4999e512f5c5af9f00a3b44190b5832656e9e38fdb...   \n",
      "10296  0f37a007938f61b018742de7767761cb672a1371627f7d...   \n",
      "10297  0f817f7c4457a33057e4b04308353170e917c68e605b6d...   \n",
      "10298  0f304d17670a2dabc152062ae27fda929f28d6fd656f4a...   \n",
      "10299  0d1dc2091b4853289e70177d1b28a159aab9ac3058ae36...   \n",
      "10300  0d123fcb9ef401296dd7a2cbe8bd77cf36f61924c38f3a...   \n",
      "10301  0a7dfd233811075bbb907daac83e7bca8938b282c87425...   \n",
      "10302  076c9f0045c2268a1bbf67fdd185fd80630e6339d20897...   \n",
      "\n",
      "                                                sentence  sentence_domain  \\\n",
      "10293   நமக்கு ஸ்வரங்களில் எல்லாம் வித்தியாசம் தோன்றாது.              NaN   \n",
      "10294  ஆனால், கம்பெனி நிர்வாகிகளுக்கு பொருளாசை உண்டு,...              NaN   \n",
      "10295   என்று அழுதுகொண்டே திரும்ப வீட்டிற்குள் வருகிறது.              NaN   \n",
      "10296  அவனுக்காக இறைவன் தந்தியை விலகச் சொன்னாரா என்று...              NaN   \n",
      "10297  எதையாவது படித்துக் கொண்டோ அல்லது தொலைக்காட்சிய...              NaN   \n",
      "10298  ஆகவே பக்தி ரசமமைந்த இச்சிறு நாடகத்தில் நடிப்பத...              NaN   \n",
      "10299  வழிபாட்டு முறைகள், மந்திரங்கள், அர்ச்சனைகள், ப...              NaN   \n",
      "10300  எட்டுக் கரங்கள், சூலம், தனு, கசம், அங்குசம், ச...              NaN   \n",
      "10301  குமரன் அவ்வாறு வெளிப்படையாகத் தன்னுடைய மனத்தில...              NaN   \n",
      "10302  போதாக்குறைக்கு மதுபானக்கடையும் ஸ்தாபிக்கப் பெற...              NaN   \n",
      "\n",
      "       up_votes  down_votes       age           gender  accents  variant  \\\n",
      "10293         2           0  thirties  female_feminine      NaN      NaN   \n",
      "10294         2           0  thirties  female_feminine      NaN      NaN   \n",
      "10295         2           1  thirties  female_feminine      NaN      NaN   \n",
      "10296         2           1  thirties  female_feminine      NaN      NaN   \n",
      "10297         2           0  thirties  female_feminine      NaN      NaN   \n",
      "10298         2           0  thirties  female_feminine      NaN      NaN   \n",
      "10299         2           0  thirties  female_feminine      NaN      NaN   \n",
      "10300         2           0  thirties  female_feminine      NaN      NaN   \n",
      "10301         2           0  thirties  female_feminine      NaN      NaN   \n",
      "10302         2           0  thirties  female_feminine      NaN      NaN   \n",
      "\n",
      "      locale  segment  \n",
      "10293     ta      NaN  \n",
      "10294     ta      NaN  \n",
      "10295     ta      NaN  \n",
      "10296     ta      NaN  \n",
      "10297     ta      NaN  \n",
      "10298     ta      NaN  \n",
      "10299     ta      NaN  \n",
      "10300     ta      NaN  \n",
      "10301     ta      NaN  \n",
      "10302     ta      NaN  \n"
     ]
    }
   ],
   "source": [
    "print(df.tail(10))"
   ]
  },
  {
   "cell_type": "code",
   "execution_count": 15,
   "id": "b9fdd219-a17e-4e5e-877f-5bca307326b3",
   "metadata": {},
   "outputs": [
    {
     "name": "stdout",
     "output_type": "stream",
     "text": [
      "Total rows: 10303\n"
     ]
    }
   ],
   "source": [
    "df = pd.read_csv(dev_tsv_file_path) # sep='\\t'\n",
    "print(\"Total rows:\", len(df))"
   ]
  },
  {
   "cell_type": "code",
   "execution_count": 228,
   "id": "6a770050-4850-4ad5-a376-89ea4f707690",
   "metadata": {},
   "outputs": [
    {
     "data": {
      "text/plain": [
       "Index(['path', 'sentence'], dtype='object')"
      ]
     },
     "execution_count": 228,
     "metadata": {},
     "output_type": "execute_result"
    }
   ],
   "source": [
    "df.columns"
   ]
  },
  {
   "cell_type": "code",
   "execution_count": 17,
   "id": "13c4a5cd-30d9-4577-a38b-ecb2a2f2801f",
   "metadata": {},
   "outputs": [
    {
     "name": "stdout",
     "output_type": "stream",
     "text": [
      "Total lines (including header): 12112\n",
      "Total data rows: 12111\n"
     ]
    }
   ],
   "source": [
    "with open(dev_tsv_file_path, 'r', encoding='utf-8') as file:\n",
    "    total_lines = sum(1 for line in file)\n",
    "print(\"Total lines (including header):\", total_lines)\n",
    "print(\"Total data rows:\", total_lines - 1)"
   ]
  },
  {
   "cell_type": "code",
   "execution_count": 18,
   "id": "565babb9-25cf-49be-8b06-50b98f246505",
   "metadata": {},
   "outputs": [
    {
     "name": "stdout",
     "output_type": "stream",
     "text": [
      "Number of bad lines: 0\n",
      "Example bad line: None\n"
     ]
    }
   ],
   "source": [
    "bad_lines = []\n",
    "with open(dev_tsv_file_path, 'r', encoding='utf-8') as file:\n",
    "    for i, line in enumerate(file):\n",
    "        if line.count('\\t') != 12:  # 13 columns → 12 tabs\n",
    "            bad_lines.append((i, line.strip()))\n",
    "\n",
    "print(f\"Number of bad lines: {len(bad_lines)}\")\n",
    "print(\"Example bad line:\", bad_lines[0] if bad_lines else \"None\")\n"
   ]
  },
  {
   "cell_type": "code",
   "execution_count": 19,
   "id": "61b25b29-73ed-4e12-8eeb-ca3688dae515",
   "metadata": {},
   "outputs": [
    {
     "name": "stdout",
     "output_type": "stream",
     "text": [
      "Total rows: 10303\n"
     ]
    }
   ],
   "source": [
    "df = pd.read_csv(dev_tsv_file_path, sep='\\t')\n",
    "print(\"Total rows:\", len(df))"
   ]
  },
  {
   "cell_type": "code",
   "execution_count": 21,
   "id": "022b35d9-1218-46ac-9835-44fd67d58bd8",
   "metadata": {},
   "outputs": [
    {
     "name": "stdout",
     "output_type": "stream",
     "text": [
      "Rows loaded: 10303\n"
     ]
    }
   ],
   "source": [
    "# Load raw TSV again\n",
    "dev_tsv_file_path = \"/home/jovyan/work/Datasets/cv-corpus/cv-corpus-19.0-2024-09-13/ta/dev.tsv\"\n",
    "df = pd.read_csv(dev_tsv_file_path, sep='\\t', dtype=str)  # Keep all as string to avoid parsing issues\n",
    "print(\"Rows loaded:\", len(df)) # Check total number of rows loaded"
   ]
  },
  {
   "cell_type": "code",
   "execution_count": 22,
   "id": "a395c87b-1a83-4dcc-9341-cfddd675594d",
   "metadata": {},
   "outputs": [
    {
     "name": "stdout",
     "output_type": "stream",
     "text": [
      "Completely empty rows: 0\n"
     ]
    }
   ],
   "source": [
    "empty_rows = df.isnull().all(axis=1).sum() # Check how many rows are completely empty (NaN in all columns)\n",
    "print(\"Completely empty rows:\", empty_rows)"
   ]
  },
  {
   "cell_type": "code",
   "execution_count": 23,
   "id": "de11aeab-0e1c-41f6-b61e-f973af99c80a",
   "metadata": {},
   "outputs": [
    {
     "name": "stdout",
     "output_type": "stream",
     "text": [
      "Rows with missing sentence: 0\n"
     ]
    }
   ],
   "source": [
    "# Check for rows with NaN in essential columns (like 'sentence')\n",
    "nan_sentences = df['sentence'].isnull().sum()\n",
    "print(\"Rows with missing sentence:\", nan_sentences)"
   ]
  },
  {
   "cell_type": "code",
   "execution_count": 24,
   "id": "5eac17de-3309-4a92-a657-08cd2054eff8",
   "metadata": {},
   "outputs": [
    {
     "name": "stdout",
     "output_type": "stream",
     "text": [
      "Duplicate header rows: 0\n"
     ]
    }
   ],
   "source": [
    "with open(dev_tsv_file_path, \"r\", encoding=\"utf-8\") as f:\n",
    "    header_line = f.readline().strip()\n",
    "    duplicate_header_count = sum(1 for line in f if line.strip() == header_line)\n",
    "print(\"Duplicate header rows:\", duplicate_header_count)"
   ]
  },
  {
   "cell_type": "code",
   "execution_count": 25,
   "id": "13c923ca-6286-41ee-bb30-e7785034b950",
   "metadata": {},
   "outputs": [
    {
     "name": "stdout",
     "output_type": "stream",
     "text": [
      "Rows loaded (with warnings): 12111\n"
     ]
    }
   ],
   "source": [
    "df_all = pd.read_csv(\n",
    "    dev_tsv_file_path,\n",
    "    sep='\\t',\n",
    "    quoting=3,  # Ignore quote handling\n",
    "    on_bad_lines='warn',\n",
    "    encoding='utf-8'\n",
    ")\n",
    "print(\"Rows loaded (with warnings):\", len(df_all))\n"
   ]
  },
  {
   "cell_type": "code",
   "execution_count": 26,
   "id": "ac33dc90-bfb2-41fe-81a1-48d38eabb1d9",
   "metadata": {},
   "outputs": [
    {
     "name": "stdout",
     "output_type": "stream",
     "text": [
      "Columns:\n",
      " ['client_id', 'path', 'sentence_id', 'sentence', 'sentence_domain', 'up_votes', 'down_votes', 'age', 'gender', 'accents', 'variant', 'locale', 'segment']\n",
      "\n",
      "Shape (rows, columns): (10303, 13)\n",
      "\n",
      "Total Rows: 10303\n",
      "Total Columns: 13\n"
     ]
    }
   ],
   "source": [
    "print(\"Columns:\\n\", df.columns.tolist()) # View column names\n",
    "print(\"\\nShape (rows, columns):\", df.shape) # View number of rows and columns\n",
    "print(\"\\nTotal Rows:\", df.shape[0])\n",
    "print(\"Total Columns:\", df.shape[1])"
   ]
  },
  {
   "cell_type": "code",
   "execution_count": 27,
   "id": "190f8cea-f6c9-4a31-b59f-1d7e2bc12fa1",
   "metadata": {},
   "outputs": [
    {
     "name": "stdout",
     "output_type": "stream",
     "text": [
      "Columns:\n",
      " ['client_id', 'path', 'sentence_id', 'sentence', 'sentence_domain', 'up_votes', 'down_votes', 'age', 'gender', 'accents', 'variant', 'locale', 'segment']\n",
      "\n",
      "Shape (rows, columns): (12111, 13)\n",
      "\n",
      "Total Rows: 12111\n",
      "Total Columns: 13\n"
     ]
    }
   ],
   "source": [
    "print(\"Columns:\\n\", df_all.columns.tolist()) # View column names\n",
    "print(\"\\nShape (rows, columns):\", df_all.shape) # View number of rows and columns\n",
    "print(\"\\nTotal Rows:\", df_all.shape[0])\n",
    "print(\"Total Columns:\", df_all.shape[1])"
   ]
  },
  {
   "cell_type": "code",
   "execution_count": 30,
   "id": "c5670ad8-f59b-4ed6-8f6a-15896c993dfb",
   "metadata": {},
   "outputs": [
    {
     "name": "stdout",
     "output_type": "stream",
     "text": [
      "First 5 rows:\n"
     ]
    },
    {
     "data": {
      "text/html": [
       "<div>\n",
       "<style scoped>\n",
       "    .dataframe tbody tr th:only-of-type {\n",
       "        vertical-align: middle;\n",
       "    }\n",
       "\n",
       "    .dataframe tbody tr th {\n",
       "        vertical-align: top;\n",
       "    }\n",
       "\n",
       "    .dataframe thead th {\n",
       "        text-align: right;\n",
       "    }\n",
       "</style>\n",
       "<table border=\"1\" class=\"dataframe\">\n",
       "  <thead>\n",
       "    <tr style=\"text-align: right;\">\n",
       "      <th></th>\n",
       "      <th>path</th>\n",
       "      <th>sentence</th>\n",
       "    </tr>\n",
       "  </thead>\n",
       "  <tbody>\n",
       "    <tr>\n",
       "      <th>0</th>\n",
       "      <td>common_voice_ta_24959711.mp3</td>\n",
       "      <td>பாலாஜி என்பது பாலன் என்ற பொருளுடையது.</td>\n",
       "    </tr>\n",
       "    <tr>\n",
       "      <th>1</th>\n",
       "      <td>common_voice_ta_24959713.mp3</td>\n",
       "      <td>சீக்கிரத்தில் ஐநூறு ரூபாய் செலவழித்து அவரது மு...</td>\n",
       "    </tr>\n",
       "    <tr>\n",
       "      <th>2</th>\n",
       "      <td>common_voice_ta_24959750.mp3</td>\n",
       "      <td>பகலில் இயங்கிக் கொண்டே இருப்பர்.</td>\n",
       "    </tr>\n",
       "    <tr>\n",
       "      <th>3</th>\n",
       "      <td>common_voice_ta_24959754.mp3</td>\n",
       "      <td>மிகுதியும் பயன் விளையும்.</td>\n",
       "    </tr>\n",
       "    <tr>\n",
       "      <th>4</th>\n",
       "      <td>common_voice_ta_24959762.mp3</td>\n",
       "      <td>புதுப்புனலில் பாய்ந்து நீந்தி விளையாடுகிறாள்.</td>\n",
       "    </tr>\n",
       "  </tbody>\n",
       "</table>\n",
       "</div>"
      ],
      "text/plain": [
       "                           path  \\\n",
       "0  common_voice_ta_24959711.mp3   \n",
       "1  common_voice_ta_24959713.mp3   \n",
       "2  common_voice_ta_24959750.mp3   \n",
       "3  common_voice_ta_24959754.mp3   \n",
       "4  common_voice_ta_24959762.mp3   \n",
       "\n",
       "                                            sentence  \n",
       "0              பாலாஜி என்பது பாலன் என்ற பொருளுடையது.  \n",
       "1  சீக்கிரத்தில் ஐநூறு ரூபாய் செலவழித்து அவரது மு...  \n",
       "2                   பகலில் இயங்கிக் கொண்டே இருப்பர்.  \n",
       "3                          மிகுதியும் பயன் விளையும்.  \n",
       "4      புதுப்புனலில் பாய்ந்து நீந்தி விளையாடுகிறாள்.  "
      ]
     },
     "metadata": {},
     "output_type": "display_data"
    },
    {
     "name": "stdout",
     "output_type": "stream",
     "text": [
      "None\n"
     ]
    }
   ],
   "source": [
    "print(\"First 5 rows:\") # Display first 5 rows of 'path' and 'sentence'\n",
    "print(display(df_all[['path', 'sentence']].head()))"
   ]
  },
  {
   "cell_type": "code",
   "execution_count": 31,
   "id": "164ff845-9b51-4901-86a4-06cd72858613",
   "metadata": {},
   "outputs": [
    {
     "name": "stdout",
     "output_type": "stream",
     "text": [
      "Last 5 rows:\n"
     ]
    },
    {
     "data": {
      "text/html": [
       "<div>\n",
       "<style scoped>\n",
       "    .dataframe tbody tr th:only-of-type {\n",
       "        vertical-align: middle;\n",
       "    }\n",
       "\n",
       "    .dataframe tbody tr th {\n",
       "        vertical-align: top;\n",
       "    }\n",
       "\n",
       "    .dataframe thead th {\n",
       "        text-align: right;\n",
       "    }\n",
       "</style>\n",
       "<table border=\"1\" class=\"dataframe\">\n",
       "  <thead>\n",
       "    <tr style=\"text-align: right;\">\n",
       "      <th></th>\n",
       "      <th>path</th>\n",
       "      <th>sentence</th>\n",
       "    </tr>\n",
       "  </thead>\n",
       "  <tbody>\n",
       "    <tr>\n",
       "      <th>12106</th>\n",
       "      <td>common_voice_ta_26920928.mp3</td>\n",
       "      <td>ஆகவே பக்தி ரசமமைந்த இச்சிறு நாடகத்தில் நடிப்பத...</td>\n",
       "    </tr>\n",
       "    <tr>\n",
       "      <th>12107</th>\n",
       "      <td>common_voice_ta_26920950.mp3</td>\n",
       "      <td>வழிபாட்டு முறைகள், மந்திரங்கள், அர்ச்சனைகள், ப...</td>\n",
       "    </tr>\n",
       "    <tr>\n",
       "      <th>12108</th>\n",
       "      <td>common_voice_ta_26920966.mp3</td>\n",
       "      <td>எட்டுக் கரங்கள், சூலம், தனு, கசம், அங்குசம், ச...</td>\n",
       "    </tr>\n",
       "    <tr>\n",
       "      <th>12109</th>\n",
       "      <td>common_voice_ta_26921021.mp3</td>\n",
       "      <td>குமரன் அவ்வாறு வெளிப்படையாகத் தன்னுடைய மனத்தில...</td>\n",
       "    </tr>\n",
       "    <tr>\n",
       "      <th>12110</th>\n",
       "      <td>common_voice_ta_26921028.mp3</td>\n",
       "      <td>போதாக்குறைக்கு மதுபானக்கடையும் ஸ்தாபிக்கப் பெற...</td>\n",
       "    </tr>\n",
       "  </tbody>\n",
       "</table>\n",
       "</div>"
      ],
      "text/plain": [
       "                               path  \\\n",
       "12106  common_voice_ta_26920928.mp3   \n",
       "12107  common_voice_ta_26920950.mp3   \n",
       "12108  common_voice_ta_26920966.mp3   \n",
       "12109  common_voice_ta_26921021.mp3   \n",
       "12110  common_voice_ta_26921028.mp3   \n",
       "\n",
       "                                                sentence  \n",
       "12106  ஆகவே பக்தி ரசமமைந்த இச்சிறு நாடகத்தில் நடிப்பத...  \n",
       "12107  வழிபாட்டு முறைகள், மந்திரங்கள், அர்ச்சனைகள், ப...  \n",
       "12108  எட்டுக் கரங்கள், சூலம், தனு, கசம், அங்குசம், ச...  \n",
       "12109  குமரன் அவ்வாறு வெளிப்படையாகத் தன்னுடைய மனத்தில...  \n",
       "12110  போதாக்குறைக்கு மதுபானக்கடையும் ஸ்தாபிக்கப் பெற...  "
      ]
     },
     "metadata": {},
     "output_type": "display_data"
    },
    {
     "name": "stdout",
     "output_type": "stream",
     "text": [
      "None\n"
     ]
    }
   ],
   "source": [
    "print(\"Last 5 rows:\") # Display last 5 rows of 'path' and 'sentence'\n",
    "print(display(df_all[['path', 'sentence']].tail()))"
   ]
  },
  {
   "cell_type": "markdown",
   "id": "69b16faa-c5a3-4d3c-9ae7-bba1d130e218",
   "metadata": {},
   "source": [
    "For dev_path_sentence_updated csv file"
   ]
  },
  {
   "cell_type": "code",
   "execution_count": 32,
   "id": "e3834db5-d91e-4da7-91f1-1d1f98633a2a",
   "metadata": {},
   "outputs": [],
   "source": [
    "df_dev_path_sentence = df_all[['path', 'sentence']].copy() # Select only the 'path' and 'sentence' columns"
   ]
  },
  {
   "cell_type": "code",
   "execution_count": 33,
   "id": "009afc5e-0a87-4b82-9fb5-033bbacf4446",
   "metadata": {},
   "outputs": [
    {
     "name": "stdout",
     "output_type": "stream",
     "text": [
      "Shape: (12111, 2)\n"
     ]
    }
   ],
   "source": [
    "# Optional: Check the shape and preview to ensure data integrity\n",
    "print(\"Shape:\", df_dev_path_sentence.shape)"
   ]
  },
  {
   "cell_type": "code",
   "execution_count": 34,
   "id": "8823aad7-d3a8-4381-8230-3e8fddcb854e",
   "metadata": {},
   "outputs": [
    {
     "name": "stdout",
     "output_type": "stream",
     "text": [
      "                           path  \\\n",
      "0  common_voice_ta_24959711.mp3   \n",
      "1  common_voice_ta_24959713.mp3   \n",
      "2  common_voice_ta_24959750.mp3   \n",
      "3  common_voice_ta_24959754.mp3   \n",
      "4  common_voice_ta_24959762.mp3   \n",
      "\n",
      "                                            sentence  \n",
      "0              பாலாஜி என்பது பாலன் என்ற பொருளுடையது.  \n",
      "1  சீக்கிரத்தில் ஐநூறு ரூபாய் செலவழித்து அவரது மு...  \n",
      "2                   பகலில் இயங்கிக் கொண்டே இருப்பர்.  \n",
      "3                          மிகுதியும் பயன் விளையும்.  \n",
      "4      புதுப்புனலில் பாய்ந்து நீந்தி விளையாடுகிறாள்.  \n"
     ]
    }
   ],
   "source": [
    "print(df_dev_path_sentence.head())"
   ]
  },
  {
   "cell_type": "code",
   "execution_count": 35,
   "id": "c6965ddb-f90c-441b-8ab3-9bd5a0fc1ad8",
   "metadata": {},
   "outputs": [
    {
     "name": "stdout",
     "output_type": "stream",
     "text": [
      "                               path  \\\n",
      "12106  common_voice_ta_26920928.mp3   \n",
      "12107  common_voice_ta_26920950.mp3   \n",
      "12108  common_voice_ta_26920966.mp3   \n",
      "12109  common_voice_ta_26921021.mp3   \n",
      "12110  common_voice_ta_26921028.mp3   \n",
      "\n",
      "                                                sentence  \n",
      "12106  ஆகவே பக்தி ரசமமைந்த இச்சிறு நாடகத்தில் நடிப்பத...  \n",
      "12107  வழிபாட்டு முறைகள், மந்திரங்கள், அர்ச்சனைகள், ப...  \n",
      "12108  எட்டுக் கரங்கள், சூலம், தனு, கசம், அங்குசம், ச...  \n",
      "12109  குமரன் அவ்வாறு வெளிப்படையாகத் தன்னுடைய மனத்தில...  \n",
      "12110  போதாக்குறைக்கு மதுபானக்கடையும் ஸ்தாபிக்கப் பெற...  \n"
     ]
    }
   ],
   "source": [
    "print(df_dev_path_sentence.tail())"
   ]
  },
  {
   "cell_type": "code",
   "execution_count": 41,
   "id": "23b09890-1ced-497b-9af4-2ac91bc5c0c1",
   "metadata": {},
   "outputs": [],
   "source": [
    "df_dev_path_sentence.index = range(1, len(df_dev_path_sentence) + 1) # Reset the index and then set it to start from 1"
   ]
  },
  {
   "cell_type": "code",
   "execution_count": 42,
   "id": "dc8e9de0-2cff-4d9a-895b-91cdba521c5f",
   "metadata": {},
   "outputs": [
    {
     "name": "stdout",
     "output_type": "stream",
     "text": [
      "                           path  \\\n",
      "1  common_voice_ta_24959711.mp3   \n",
      "2  common_voice_ta_24959713.mp3   \n",
      "3  common_voice_ta_24959750.mp3   \n",
      "4  common_voice_ta_24959754.mp3   \n",
      "5  common_voice_ta_24959762.mp3   \n",
      "\n",
      "                                            sentence  \n",
      "1              பாலாஜி என்பது பாலன் என்ற பொருளுடையது.  \n",
      "2  சீக்கிரத்தில் ஐநூறு ரூபாய் செலவழித்து அவரது மு...  \n",
      "3                   பகலில் இயங்கிக் கொண்டே இருப்பர்.  \n",
      "4                          மிகுதியும் பயன் விளையும்.  \n",
      "5      புதுப்புனலில் பாய்ந்து நீந்தி விளையாடுகிறாள்.  \n"
     ]
    }
   ],
   "source": [
    "print(df_dev_path_sentence.head()) # Now if you print head or tail, index starts from 1"
   ]
  },
  {
   "cell_type": "code",
   "execution_count": 43,
   "id": "632bf31e-5dca-4da3-b331-28990aacd359",
   "metadata": {},
   "outputs": [
    {
     "name": "stdout",
     "output_type": "stream",
     "text": [
      "                               path  \\\n",
      "12107  common_voice_ta_26920928.mp3   \n",
      "12108  common_voice_ta_26920950.mp3   \n",
      "12109  common_voice_ta_26920966.mp3   \n",
      "12110  common_voice_ta_26921021.mp3   \n",
      "12111  common_voice_ta_26921028.mp3   \n",
      "\n",
      "                                                sentence  \n",
      "12107  ஆகவே பக்தி ரசமமைந்த இச்சிறு நாடகத்தில் நடிப்பத...  \n",
      "12108  வழிபாட்டு முறைகள், மந்திரங்கள், அர்ச்சனைகள், ப...  \n",
      "12109  எட்டுக் கரங்கள், சூலம், தனு, கசம், அங்குசம், ச...  \n",
      "12110  குமரன் அவ்வாறு வெளிப்படையாகத் தன்னுடைய மனத்தில...  \n",
      "12111  போதாக்குறைக்கு மதுபானக்கடையும் ஸ்தாபிக்கப் பெற...  \n"
     ]
    }
   ],
   "source": [
    "print(df_dev_path_sentence.tail())"
   ]
  },
  {
   "cell_type": "markdown",
   "id": "fc60635b-5464-498b-a261-d5bd04599c4a",
   "metadata": {},
   "source": [
    "# Save to CSV, keep the index in the file\n",
    "df_dev_path_sentence.to_csv('dev_path_sentence.csv', index=True)"
   ]
  },
  {
   "cell_type": "code",
   "execution_count": 45,
   "id": "70ed6fef-7a47-443f-8d66-91d714f2e60e",
   "metadata": {},
   "outputs": [],
   "source": [
    "df_dev_path_sentence.to_csv('dev_path_sentence_updated.csv', index=False) # Save to CSV, keep the index in the file"
   ]
  },
  {
   "cell_type": "markdown",
   "id": "23a6f6a4-15dd-4547-9221-ef04c8a60198",
   "metadata": {},
   "source": [
    "**For Invalidated.tsv file**"
   ]
  },
  {
   "cell_type": "code",
   "execution_count": 48,
   "id": "3b56f47c-4df9-454a-9b2a-9e780a239fb0",
   "metadata": {},
   "outputs": [
    {
     "name": "stdout",
     "output_type": "stream",
     "text": [
      "                                           client_id  \\\n",
      "0  241bdb890336e245aa0eb04f7693dd6ff0f6522b909823...   \n",
      "1  e7f76d7dedd9e6999478ab1cec1f9fd0a4289101d39cb6...   \n",
      "2  e7f76d7dedd9e6999478ab1cec1f9fd0a4289101d39cb6...   \n",
      "3  e7f76d7dedd9e6999478ab1cec1f9fd0a4289101d39cb6...   \n",
      "4  6622032a09c9f7e0fbb3bddc0a33304509ca3f33ec79fe...   \n",
      "5  6622032a09c9f7e0fbb3bddc0a33304509ca3f33ec79fe...   \n",
      "6  6622032a09c9f7e0fbb3bddc0a33304509ca3f33ec79fe...   \n",
      "7  6622032a09c9f7e0fbb3bddc0a33304509ca3f33ec79fe...   \n",
      "8  6622032a09c9f7e0fbb3bddc0a33304509ca3f33ec79fe...   \n",
      "9  6622032a09c9f7e0fbb3bddc0a33304509ca3f33ec79fe...   \n",
      "\n",
      "                           path  \\\n",
      "0  common_voice_ta_19071681.mp3   \n",
      "1  common_voice_ta_19083966.mp3   \n",
      "2  common_voice_ta_19083970.mp3   \n",
      "3  common_voice_ta_19084099.mp3   \n",
      "4  common_voice_ta_19093477.mp3   \n",
      "5  common_voice_ta_19093489.mp3   \n",
      "6  common_voice_ta_19093491.mp3   \n",
      "7  common_voice_ta_19093496.mp3   \n",
      "8  common_voice_ta_19093533.mp3   \n",
      "9  common_voice_ta_19093535.mp3   \n",
      "\n",
      "                                         sentence_id  \\\n",
      "0  14dcb8c679d159444fcbc561746f870e6edd6a80c700eb...   \n",
      "1  01418f6897f4145b0fbca99fd3537a9250ba17507313cb...   \n",
      "2  08f9c301dfc749505eba8432974f31bd03dccaf8cb8955...   \n",
      "3  0d6632cfd29c4a699f4ec9094754a7f5474b19554f4d88...   \n",
      "4  19c952736937e5643fde41319c1a977d336e667b38d5d6...   \n",
      "5  00d3bc2a786e59244f8012a2cb31608db3671e64611f75...   \n",
      "6  196ce20c1d8d1c9c3d357c0bf2246d3c714a4cd81c57dd...   \n",
      "7  09efd104e31858d424a020d5cbeac21eb67a977e6bc272...   \n",
      "8  205ad36557893e5ef11a3355df725ca52c5b941ac397d3...   \n",
      "9  08de578b6b3e850bba860c8ebc591ccf4139b1929da4c8...   \n",
      "\n",
      "                                  sentence  sentence_domain  up_votes  \\\n",
      "0         துணைவன் இறந்தபின் வேறு துணைதேடச்              NaN         0   \n",
      "1          சூரியன் ஒரு நடுவயது நட்சத்திரம்              NaN         1   \n",
      "2                         நாங்கள், ஆண்மைச்              NaN         1   \n",
      "3        பசியால் அண்ணன் பதைபதைக் கின்றான்;              NaN         1   \n",
      "4       மன்னாதி மன்னர்களே, என்விண் ணப்பம்!              NaN         0   \n",
      "5         வில்லாய் வளைந்தது மேனி; அவர்தோள்              NaN         1   \n",
      "6    சொற்கண்டு மலைக்காதே உன்பகுத் தறி வால்              NaN         0   \n",
      "7             தீராதி தீரரென் றூதூது சங்கே!              NaN         0   \n",
      "8  நிறைகுணப் பேறெய்தும் 'தொழல்' எதுவெனவும்              NaN         1   \n",
      "9         புதியதோர் உலகம் செய்வோம் - கெட்ட              NaN         1   \n",
      "\n",
      "   down_votes       age          gender accents  variant locale segment  \n",
      "0           2  twenties  male_masculine     NaN      NaN     ta     NaN  \n",
      "1           2  thirties  male_masculine     NaN      NaN     ta     NaN  \n",
      "2           2  thirties  male_masculine     NaN      NaN     ta     NaN  \n",
      "3           2  thirties  male_masculine     NaN      NaN     ta     NaN  \n",
      "4           2  twenties  male_masculine     NaN      NaN     ta     NaN  \n",
      "5           2  twenties  male_masculine     NaN      NaN     ta     NaN  \n",
      "6           2  twenties  male_masculine     NaN      NaN     ta     NaN  \n",
      "7           2  twenties  male_masculine     NaN      NaN     ta     NaN  \n",
      "8           2  twenties  male_masculine     NaN      NaN     ta     NaN  \n",
      "9           2  twenties  male_masculine     NaN      NaN     ta     NaN  \n",
      "Total rows: 5578\n",
      "Total columns: 13\n"
     ]
    }
   ],
   "source": [
    "invalidated_tsv_file_path = \"/home/jovyan/work/Datasets/cv-corpus/cv-corpus-19.0-2024-09-13/ta/invalidated.tsv\"\n",
    "df = pd.read_csv(invalidated_tsv_file_path, sep='\\t') # Load and preview the TSV file\n",
    "print(df.head(10)) # Display the first 10 rows\n",
    "print(\"Total rows:\", df.shape[0]) # Show the number of rows and columns\n",
    "print(\"Total columns:\", df.shape[1])"
   ]
  },
  {
   "cell_type": "code",
   "execution_count": 49,
   "id": "66079b03-b378-4438-9cdd-11fb5268312b",
   "metadata": {},
   "outputs": [
    {
     "name": "stdout",
     "output_type": "stream",
     "text": [
      "                                           client_id  \\\n",
      "0  241bdb890336e245aa0eb04f7693dd6ff0f6522b909823...   \n",
      "1  e7f76d7dedd9e6999478ab1cec1f9fd0a4289101d39cb6...   \n",
      "2  e7f76d7dedd9e6999478ab1cec1f9fd0a4289101d39cb6...   \n",
      "3  e7f76d7dedd9e6999478ab1cec1f9fd0a4289101d39cb6...   \n",
      "4  6622032a09c9f7e0fbb3bddc0a33304509ca3f33ec79fe...   \n",
      "\n",
      "                           path  \\\n",
      "0  common_voice_ta_19071681.mp3   \n",
      "1  common_voice_ta_19083966.mp3   \n",
      "2  common_voice_ta_19083970.mp3   \n",
      "3  common_voice_ta_19084099.mp3   \n",
      "4  common_voice_ta_19093477.mp3   \n",
      "\n",
      "                                         sentence_id  \\\n",
      "0  14dcb8c679d159444fcbc561746f870e6edd6a80c700eb...   \n",
      "1  01418f6897f4145b0fbca99fd3537a9250ba17507313cb...   \n",
      "2  08f9c301dfc749505eba8432974f31bd03dccaf8cb8955...   \n",
      "3  0d6632cfd29c4a699f4ec9094754a7f5474b19554f4d88...   \n",
      "4  19c952736937e5643fde41319c1a977d336e667b38d5d6...   \n",
      "\n",
      "                             sentence  sentence_domain  up_votes  down_votes  \\\n",
      "0    துணைவன் இறந்தபின் வேறு துணைதேடச்              NaN         0           2   \n",
      "1     சூரியன் ஒரு நடுவயது நட்சத்திரம்              NaN         1           2   \n",
      "2                    நாங்கள், ஆண்மைச்              NaN         1           2   \n",
      "3   பசியால் அண்ணன் பதைபதைக் கின்றான்;              NaN         1           2   \n",
      "4  மன்னாதி மன்னர்களே, என்விண் ணப்பம்!              NaN         0           2   \n",
      "\n",
      "        age          gender accents  variant locale segment  \n",
      "0  twenties  male_masculine     NaN      NaN     ta     NaN  \n",
      "1  thirties  male_masculine     NaN      NaN     ta     NaN  \n",
      "2  thirties  male_masculine     NaN      NaN     ta     NaN  \n",
      "3  thirties  male_masculine     NaN      NaN     ta     NaN  \n",
      "4  twenties  male_masculine     NaN      NaN     ta     NaN  \n"
     ]
    }
   ],
   "source": [
    "print(df.head(5))"
   ]
  },
  {
   "cell_type": "code",
   "execution_count": 50,
   "id": "b1f1fa92-7a18-4690-9bea-29767dc6a209",
   "metadata": {},
   "outputs": [
    {
     "name": "stdout",
     "output_type": "stream",
     "text": [
      "                                              client_id  \\\n",
      "5573  c3a8cc78425e7b085a176666590036fd1f062559a8b64c...   \n",
      "5574  c3a8cc78425e7b085a176666590036fd1f062559a8b64c...   \n",
      "5575  c3a8cc78425e7b085a176666590036fd1f062559a8b64c...   \n",
      "5576  4b19221d5a55ed116fc86ffecf97966e95ade0d94e7c4c...   \n",
      "5577  045714cafb60986f17baf367bfda81b8ce86947ac0449b...   \n",
      "\n",
      "                              path  \\\n",
      "5573  common_voice_ta_37380566.mp3   \n",
      "5574  common_voice_ta_37382522.mp3   \n",
      "5575  common_voice_ta_37382533.mp3   \n",
      "5576  common_voice_ta_38522355.mp3   \n",
      "5577  common_voice_ta_38671127.mp3   \n",
      "\n",
      "                                            sentence_id  \\\n",
      "5573  acf8cef5c4dd2030ace0f7042a17d35c1834dc48484177...   \n",
      "5574  afcc57c8d8927b8f4310fb5079735d8a911a6049e7dc81...   \n",
      "5575  a85fff4f2c3f4b81ae7078c9facedd48218af85b377a45...   \n",
      "5576  aacb5972517eedbbeb330d1e42337bc186d6891d591319...   \n",
      "5577  b2b29df1fa4b5650b870fe32b3255baa17afa39135bf22...   \n",
      "\n",
      "                                               sentence  sentence_domain  \\\n",
      "5573  அபிமன் வாளைக் கொண்டே அவன் தேர்களையும் வில் களை...              NaN   \n",
      "5574                           கெளத முனிவர் கூறுகிறார்.              NaN   \n",
      "5575  இதைத்தான் திருவள்ளுவர் உலகந் தழீஇயது ஒட்பம் என...              NaN   \n",
      "5576  அவளைப் பற்றிய விவரங்கள் யாவும் அடங்கிய ஓலை யொன...              NaN   \n",
      "5577  அகத்தியனை முத்தமிழ் முனிவன் எனக் காஞ்சிப் புரா...              NaN   \n",
      "\n",
      "      up_votes  down_votes       age           gender  \\\n",
      "5573         0           2  twenties  female_feminine   \n",
      "5574         0           2  twenties  female_feminine   \n",
      "5575         0           2  twenties  female_feminine   \n",
      "5576         0           2       NaN              NaN   \n",
      "5577         0           3   fifties  female_feminine   \n",
      "\n",
      "                               accents  variant locale segment  \n",
      "5573                      Normal tamil      NaN     ta     NaN  \n",
      "5574                      Normal tamil      NaN     ta     NaN  \n",
      "5575                      Normal tamil      NaN     ta     NaN  \n",
      "5576             Normal tamil speaking      NaN     ta     NaN  \n",
      "5577  யாழ்ப்பாணத் தமிழ்,இலங்கைத் தமிழ்      NaN     ta     NaN  \n"
     ]
    }
   ],
   "source": [
    "print(df.tail(5))"
   ]
  },
  {
   "cell_type": "code",
   "execution_count": 52,
   "id": "a6cb4c21-4816-4f3f-b042-dbb272faa631",
   "metadata": {},
   "outputs": [
    {
     "name": "stdout",
     "output_type": "stream",
     "text": [
      "Total rows: 5578\n"
     ]
    }
   ],
   "source": [
    "print(\"Total rows:\", len(df))"
   ]
  },
  {
   "cell_type": "code",
   "execution_count": 53,
   "id": "7bde2b96-b28f-4cce-ba63-978460b74856",
   "metadata": {},
   "outputs": [
    {
     "name": "stdout",
     "output_type": "stream",
     "text": [
      "Total lines (including header): 5706\n",
      "Total data rows: 5705\n"
     ]
    }
   ],
   "source": [
    "with open(invalidated_tsv_file_path, 'r', encoding='utf-8') as file:\n",
    "    total_lines = sum(1 for line in file)\n",
    "print(\"Total lines (including header):\", total_lines)\n",
    "print(\"Total data rows:\", total_lines - 1)"
   ]
  },
  {
   "cell_type": "code",
   "execution_count": 54,
   "id": "f8f8a47d-aea4-42f3-be84-479bb5e4e4cd",
   "metadata": {},
   "outputs": [
    {
     "name": "stdout",
     "output_type": "stream",
     "text": [
      "Number of bad lines: 0\n",
      "Example bad line: None\n"
     ]
    }
   ],
   "source": [
    "invalidated_bad_lines = []\n",
    "with open(invalidated_tsv_file_path, 'r', encoding='utf-8') as file:\n",
    "    for i, line in enumerate(file):\n",
    "        if line.count('\\t') != 12:  # 13 columns → 12 tabs\n",
    "            invalidated_bad_lines.append((i, line.strip()))\n",
    "print(f\"Number of bad lines: {len(invalidated_bad_lines)}\")\n",
    "print(\"Example bad line:\", invalidated_bad_lines[0] if invalidated_bad_lines else \"None\")"
   ]
  },
  {
   "cell_type": "code",
   "execution_count": 55,
   "id": "6361608c-ca27-4658-a686-1367fd367d55",
   "metadata": {},
   "outputs": [
    {
     "name": "stdout",
     "output_type": "stream",
     "text": [
      "Rows loaded: 5578\n"
     ]
    }
   ],
   "source": [
    "df = pd.read_csv(invalidated_tsv_file_path, sep='\\t', dtype=str)  # Keep all as string to avoid parsing issues\n",
    "print(\"Rows loaded:\", len(df)) # Check total number of rows loaded"
   ]
  },
  {
   "cell_type": "code",
   "execution_count": 56,
   "id": "d832c5c9-0cf2-4cd1-8867-f081eed3073d",
   "metadata": {},
   "outputs": [
    {
     "name": "stdout",
     "output_type": "stream",
     "text": [
      "Completely empty rows: 0\n",
      "Rows with missing sentence: 0\n"
     ]
    }
   ],
   "source": [
    "empty_rows = df.isnull().all(axis=1).sum() # Check how many rows are completely empty (NaN in all columns)\n",
    "print(\"Completely empty rows:\", empty_rows)\n",
    "nan_sentences = df['sentence'].isnull().sum() # Check for rows with NaN in essential columns (like 'sentence')\n",
    "print(\"Rows with missing sentence:\", nan_sentences)"
   ]
  },
  {
   "cell_type": "code",
   "execution_count": 57,
   "id": "b4a04bcd-3286-4223-b236-bcff98241150",
   "metadata": {},
   "outputs": [
    {
     "name": "stdout",
     "output_type": "stream",
     "text": [
      "Duplicate header rows: 0\n"
     ]
    }
   ],
   "source": [
    "with open(invalidated_tsv_file_path, \"r\", encoding=\"utf-8\") as f:\n",
    "    header_line = f.readline().strip()\n",
    "    duplicate_header_count = sum(1 for line in f if line.strip() == header_line)\n",
    "print(\"Duplicate header rows:\", duplicate_header_count)"
   ]
  },
  {
   "cell_type": "code",
   "execution_count": 58,
   "id": "561aed40-0396-40f4-94a8-a5b98aea8e96",
   "metadata": {},
   "outputs": [
    {
     "name": "stdout",
     "output_type": "stream",
     "text": [
      "Rows loaded (with warnings): 5705\n"
     ]
    }
   ],
   "source": [
    "df_invalidated_all = pd.read_csv(\n",
    "    invalidated_tsv_file_path,\n",
    "    sep='\\t',\n",
    "    quoting=3,  # Ignore quote handling\n",
    "    on_bad_lines='warn',\n",
    "    encoding='utf-8'\n",
    ")\n",
    "print(\"Rows loaded (with warnings):\", len(df_invalidated_all))"
   ]
  },
  {
   "cell_type": "code",
   "execution_count": 59,
   "id": "8f5032c7-1096-4ff3-a8d4-97637880da6c",
   "metadata": {},
   "outputs": [
    {
     "name": "stdout",
     "output_type": "stream",
     "text": [
      "Columns:\n",
      " ['client_id', 'path', 'sentence_id', 'sentence', 'sentence_domain', 'up_votes', 'down_votes', 'age', 'gender', 'accents', 'variant', 'locale', 'segment']\n",
      "\n",
      "Shape (rows, columns): (5578, 13)\n",
      "\n",
      "Total Rows: 5578\n",
      "Total Columns: 13\n"
     ]
    }
   ],
   "source": [
    "#checking\n",
    "print(\"Columns:\\n\", df.columns.tolist()) # View column names\n",
    "print(\"\\nShape (rows, columns):\", df.shape) # View number of rows and columns\n",
    "print(\"\\nTotal Rows:\", df.shape[0])\n",
    "print(\"Total Columns:\", df.shape[1])"
   ]
  },
  {
   "cell_type": "code",
   "execution_count": 60,
   "id": "4bcf3f30-98ad-4b8f-b9c1-77c3f477e1f1",
   "metadata": {},
   "outputs": [
    {
     "name": "stdout",
     "output_type": "stream",
     "text": [
      "Columns:\n",
      " ['client_id', 'path', 'sentence_id', 'sentence', 'sentence_domain', 'up_votes', 'down_votes', 'age', 'gender', 'accents', 'variant', 'locale', 'segment']\n",
      "\n",
      "Shape (rows, columns): (5705, 13)\n",
      "\n",
      "Total Rows: 5705\n",
      "Total Columns: 13\n"
     ]
    }
   ],
   "source": [
    "print(\"Columns:\\n\", df_invalidated_all.columns.tolist()) # View column names\n",
    "print(\"\\nShape (rows, columns):\", df_invalidated_all.shape) # View number of rows and columns\n",
    "print(\"\\nTotal Rows:\", df_invalidated_all.shape[0])\n",
    "print(\"Total Columns:\", df_invalidated_all.shape[1])"
   ]
  },
  {
   "cell_type": "code",
   "execution_count": 61,
   "id": "4a8c94e7-d81f-4e74-8bdb-40b322791c89",
   "metadata": {},
   "outputs": [
    {
     "name": "stdout",
     "output_type": "stream",
     "text": [
      "First 5 rows:\n"
     ]
    },
    {
     "data": {
      "text/html": [
       "<div>\n",
       "<style scoped>\n",
       "    .dataframe tbody tr th:only-of-type {\n",
       "        vertical-align: middle;\n",
       "    }\n",
       "\n",
       "    .dataframe tbody tr th {\n",
       "        vertical-align: top;\n",
       "    }\n",
       "\n",
       "    .dataframe thead th {\n",
       "        text-align: right;\n",
       "    }\n",
       "</style>\n",
       "<table border=\"1\" class=\"dataframe\">\n",
       "  <thead>\n",
       "    <tr style=\"text-align: right;\">\n",
       "      <th></th>\n",
       "      <th>path</th>\n",
       "      <th>sentence</th>\n",
       "    </tr>\n",
       "  </thead>\n",
       "  <tbody>\n",
       "    <tr>\n",
       "      <th>0</th>\n",
       "      <td>common_voice_ta_19071681.mp3</td>\n",
       "      <td>துணைவன் இறந்தபின் வேறு துணைதேடச்</td>\n",
       "    </tr>\n",
       "    <tr>\n",
       "      <th>1</th>\n",
       "      <td>common_voice_ta_19083966.mp3</td>\n",
       "      <td>சூரியன் ஒரு நடுவயது நட்சத்திரம்</td>\n",
       "    </tr>\n",
       "    <tr>\n",
       "      <th>2</th>\n",
       "      <td>common_voice_ta_19083970.mp3</td>\n",
       "      <td>நாங்கள், ஆண்மைச்</td>\n",
       "    </tr>\n",
       "    <tr>\n",
       "      <th>3</th>\n",
       "      <td>common_voice_ta_19084099.mp3</td>\n",
       "      <td>பசியால் அண்ணன் பதைபதைக் கின்றான்;</td>\n",
       "    </tr>\n",
       "    <tr>\n",
       "      <th>4</th>\n",
       "      <td>common_voice_ta_19093477.mp3</td>\n",
       "      <td>மன்னாதி மன்னர்களே, என்விண் ணப்பம்!</td>\n",
       "    </tr>\n",
       "  </tbody>\n",
       "</table>\n",
       "</div>"
      ],
      "text/plain": [
       "                           path                            sentence\n",
       "0  common_voice_ta_19071681.mp3    துணைவன் இறந்தபின் வேறு துணைதேடச்\n",
       "1  common_voice_ta_19083966.mp3     சூரியன் ஒரு நடுவயது நட்சத்திரம்\n",
       "2  common_voice_ta_19083970.mp3                    நாங்கள், ஆண்மைச்\n",
       "3  common_voice_ta_19084099.mp3   பசியால் அண்ணன் பதைபதைக் கின்றான்;\n",
       "4  common_voice_ta_19093477.mp3  மன்னாதி மன்னர்களே, என்விண் ணப்பம்!"
      ]
     },
     "metadata": {},
     "output_type": "display_data"
    },
    {
     "name": "stdout",
     "output_type": "stream",
     "text": [
      "None\n"
     ]
    }
   ],
   "source": [
    "print(\"First 5 rows:\") # Display first 5 rows of 'path' and 'sentence'\n",
    "print(display(df_invalidated_all[['path', 'sentence']].head()))"
   ]
  },
  {
   "cell_type": "code",
   "execution_count": 62,
   "id": "cecce8b3-7902-4e70-bd4b-152e58633ddf",
   "metadata": {},
   "outputs": [
    {
     "name": "stdout",
     "output_type": "stream",
     "text": [
      "Last 5 rows:\n"
     ]
    },
    {
     "data": {
      "text/html": [
       "<div>\n",
       "<style scoped>\n",
       "    .dataframe tbody tr th:only-of-type {\n",
       "        vertical-align: middle;\n",
       "    }\n",
       "\n",
       "    .dataframe tbody tr th {\n",
       "        vertical-align: top;\n",
       "    }\n",
       "\n",
       "    .dataframe thead th {\n",
       "        text-align: right;\n",
       "    }\n",
       "</style>\n",
       "<table border=\"1\" class=\"dataframe\">\n",
       "  <thead>\n",
       "    <tr style=\"text-align: right;\">\n",
       "      <th></th>\n",
       "      <th>path</th>\n",
       "      <th>sentence</th>\n",
       "    </tr>\n",
       "  </thead>\n",
       "  <tbody>\n",
       "    <tr>\n",
       "      <th>5700</th>\n",
       "      <td>common_voice_ta_37380566.mp3</td>\n",
       "      <td>அபிமன் வாளைக் கொண்டே அவன் தேர்களையும் வில் களை...</td>\n",
       "    </tr>\n",
       "    <tr>\n",
       "      <th>5701</th>\n",
       "      <td>common_voice_ta_37382522.mp3</td>\n",
       "      <td>கெளத முனிவர் கூறுகிறார்.</td>\n",
       "    </tr>\n",
       "    <tr>\n",
       "      <th>5702</th>\n",
       "      <td>common_voice_ta_37382533.mp3</td>\n",
       "      <td>இதைத்தான் திருவள்ளுவர் உலகந் தழீஇயது ஒட்பம் என...</td>\n",
       "    </tr>\n",
       "    <tr>\n",
       "      <th>5703</th>\n",
       "      <td>common_voice_ta_38522355.mp3</td>\n",
       "      <td>அவளைப் பற்றிய விவரங்கள் யாவும் அடங்கிய ஓலை யொன...</td>\n",
       "    </tr>\n",
       "    <tr>\n",
       "      <th>5704</th>\n",
       "      <td>common_voice_ta_38671127.mp3</td>\n",
       "      <td>அகத்தியனை முத்தமிழ் முனிவன் எனக் காஞ்சிப் புரா...</td>\n",
       "    </tr>\n",
       "  </tbody>\n",
       "</table>\n",
       "</div>"
      ],
      "text/plain": [
       "                              path  \\\n",
       "5700  common_voice_ta_37380566.mp3   \n",
       "5701  common_voice_ta_37382522.mp3   \n",
       "5702  common_voice_ta_37382533.mp3   \n",
       "5703  common_voice_ta_38522355.mp3   \n",
       "5704  common_voice_ta_38671127.mp3   \n",
       "\n",
       "                                               sentence  \n",
       "5700  அபிமன் வாளைக் கொண்டே அவன் தேர்களையும் வில் களை...  \n",
       "5701                           கெளத முனிவர் கூறுகிறார்.  \n",
       "5702  இதைத்தான் திருவள்ளுவர் உலகந் தழீஇயது ஒட்பம் என...  \n",
       "5703  அவளைப் பற்றிய விவரங்கள் யாவும் அடங்கிய ஓலை யொன...  \n",
       "5704  அகத்தியனை முத்தமிழ் முனிவன் எனக் காஞ்சிப் புரா...  "
      ]
     },
     "metadata": {},
     "output_type": "display_data"
    },
    {
     "name": "stdout",
     "output_type": "stream",
     "text": [
      "None\n"
     ]
    }
   ],
   "source": [
    "print(\"Last 5 rows:\") # Display last 5 rows of 'path' and 'sentence'\n",
    "print(display(df_invalidated_all[['path', 'sentence']].tail()))"
   ]
  },
  {
   "cell_type": "markdown",
   "id": "609d8e46-53ad-416e-97c2-e5a86b8ab551",
   "metadata": {},
   "source": [
    "For invalidated_path_sentence_updated csv file"
   ]
  },
  {
   "cell_type": "code",
   "execution_count": 63,
   "id": "06eb3ee6-93d7-49a8-a9cd-d652027c0b56",
   "metadata": {},
   "outputs": [],
   "source": [
    "df_invalidated_path_sentence = df_invalidated_all[['path', 'sentence']].copy() # Select only the 'path' and 'sentence' columns"
   ]
  },
  {
   "cell_type": "code",
   "execution_count": 64,
   "id": "e74d4791-9775-49fc-8784-8d44924818bf",
   "metadata": {},
   "outputs": [
    {
     "name": "stdout",
     "output_type": "stream",
     "text": [
      "Shape: (5705, 2)\n"
     ]
    }
   ],
   "source": [
    "# Optional: Check the shape and preview to ensure data integrity\n",
    "print(\"Shape:\", df_invalidated_path_sentence.shape)"
   ]
  },
  {
   "cell_type": "code",
   "execution_count": 65,
   "id": "7a758dae-d8d4-461e-88f5-c72fe197ecaa",
   "metadata": {},
   "outputs": [],
   "source": [
    "df_invalidated_path_sentence.index = range(1, len(df_invalidated_path_sentence) + 1) # Reset the index and then set it to start from 1"
   ]
  },
  {
   "cell_type": "code",
   "execution_count": 66,
   "id": "7d60c06b-f785-436e-aea0-612710053d7c",
   "metadata": {},
   "outputs": [
    {
     "name": "stdout",
     "output_type": "stream",
     "text": [
      "                           path                            sentence\n",
      "1  common_voice_ta_19071681.mp3    துணைவன் இறந்தபின் வேறு துணைதேடச்\n",
      "2  common_voice_ta_19083966.mp3     சூரியன் ஒரு நடுவயது நட்சத்திரம்\n",
      "3  common_voice_ta_19083970.mp3                    நாங்கள், ஆண்மைச்\n",
      "4  common_voice_ta_19084099.mp3   பசியால் அண்ணன் பதைபதைக் கின்றான்;\n",
      "5  common_voice_ta_19093477.mp3  மன்னாதி மன்னர்களே, என்விண் ணப்பம்!\n"
     ]
    }
   ],
   "source": [
    "print(df_invalidated_path_sentence.head()) # Now if you print head or tail, index starts from 1"
   ]
  },
  {
   "cell_type": "code",
   "execution_count": 67,
   "id": "8fbd4b8e-33ab-41d2-b696-1323cc52677e",
   "metadata": {},
   "outputs": [
    {
     "name": "stdout",
     "output_type": "stream",
     "text": [
      "                              path  \\\n",
      "5701  common_voice_ta_37380566.mp3   \n",
      "5702  common_voice_ta_37382522.mp3   \n",
      "5703  common_voice_ta_37382533.mp3   \n",
      "5704  common_voice_ta_38522355.mp3   \n",
      "5705  common_voice_ta_38671127.mp3   \n",
      "\n",
      "                                               sentence  \n",
      "5701  அபிமன் வாளைக் கொண்டே அவன் தேர்களையும் வில் களை...  \n",
      "5702                           கெளத முனிவர் கூறுகிறார்.  \n",
      "5703  இதைத்தான் திருவள்ளுவர் உலகந் தழீஇயது ஒட்பம் என...  \n",
      "5704  அவளைப் பற்றிய விவரங்கள் யாவும் அடங்கிய ஓலை யொன...  \n",
      "5705  அகத்தியனை முத்தமிழ் முனிவன் எனக் காஞ்சிப் புரா...  \n"
     ]
    }
   ],
   "source": [
    "print(df_invalidated_path_sentence.tail())"
   ]
  },
  {
   "cell_type": "code",
   "execution_count": 68,
   "id": "6dbd2cd7-86f2-42b2-a128-b3caf79d14b6",
   "metadata": {},
   "outputs": [],
   "source": [
    "df_invalidated_path_sentence.to_csv('invalidated_path_sentence_updated.csv', index=False) # Save to CSV, keep the index in the file"
   ]
  },
  {
   "cell_type": "markdown",
   "id": "9d9d3e52-c1c6-49f9-815b-6d9ded652d40",
   "metadata": {},
   "source": [
    "**For other.tsv file**"
   ]
  },
  {
   "cell_type": "code",
   "execution_count": 69,
   "id": "c38d8a5a-84eb-4f8d-9dfe-71ddf3e94487",
   "metadata": {},
   "outputs": [
    {
     "name": "stdout",
     "output_type": "stream",
     "text": [
      "                                           client_id  \\\n",
      "0  bf648dab1b4490f07144c3dc2ae933e8c8d9850de275ee...   \n",
      "1  e2222245041f03ae0f444c01c77524acb97955fe2ba784...   \n",
      "2  e2222245041f03ae0f444c01c77524acb97955fe2ba784...   \n",
      "3  e2222245041f03ae0f444c01c77524acb97955fe2ba784...   \n",
      "4  e2222245041f03ae0f444c01c77524acb97955fe2ba784...   \n",
      "5  7d61a7238caeb62624af2b9c202edbfc534e7955658646...   \n",
      "6  e2222245041f03ae0f444c01c77524acb97955fe2ba784...   \n",
      "7  7d61a7238caeb62624af2b9c202edbfc534e7955658646...   \n",
      "8  7d61a7238caeb62624af2b9c202edbfc534e7955658646...   \n",
      "9  7d61a7238caeb62624af2b9c202edbfc534e7955658646...   \n",
      "\n",
      "                           path  \\\n",
      "0  common_voice_ta_19924583.mp3   \n",
      "1  common_voice_ta_19924634.mp3   \n",
      "2  common_voice_ta_19924723.mp3   \n",
      "3  common_voice_ta_19924810.mp3   \n",
      "4  common_voice_ta_19924873.mp3   \n",
      "5  common_voice_ta_19924902.mp3   \n",
      "6  common_voice_ta_19928465.mp3   \n",
      "7  common_voice_ta_19930105.mp3   \n",
      "8  common_voice_ta_19930131.mp3   \n",
      "9  common_voice_ta_19930146.mp3   \n",
      "\n",
      "                                         sentence_id  \\\n",
      "0  a31eca7c44ab179911e3147fe32c40396fedf7d398bbfd...   \n",
      "1  aa4db0f1a4fe1f7ad66640bb52c49a1a3b0b9cbb892775...   \n",
      "2  ac86f1f676df169f3f5de30ae6db779fad8f5b1819dbdd...   \n",
      "3  b370ee74a3d165c31c7eadc47d473852481f238f4c5ff6...   \n",
      "4  ba2b12373f751a1d416a9576cc8ab539835ec6f8cfc152...   \n",
      "5  b55bcae9a1d82e4dac4f48e192c548befc3090316af5ec...   \n",
      "6  b1f5b9913ce63c4b137fa0eb99c2a7c773039b10f511b2...   \n",
      "7  95941d4428938467efb7168098006e4befea6db17d3ef5...   \n",
      "8  b2072bd194ebeee4584ca38b4ccf24efa5b1ac9da32d60...   \n",
      "9  abd62181b392137ef098edbbc4175d02e4c15cd3cdfa1f...   \n",
      "\n",
      "                                            sentence  sentence_domain  \\\n",
      "0                             குட்டை மனத்தாலே - அவர்              NaN   \n",
      "1             என்றாள். \"வெந்நீர் இருக்குமா\" என்றான்.              NaN   \n",
      "2                இதுஅதுவாய் மாறிவிடும் மறுக ணத்தில்.              NaN   \n",
      "3  குன்றெடுக்கும் பெருந்தோளான் கொடைகொடுக்கும் கைய...              NaN   \n",
      "4                         என் எழுதுகோலைக் காணவில்லை.              NaN   \n",
      "5         தாடியும்பொய்! என்றன் தலைப்பாகை யும்பொய்யே!              NaN   \n",
      "6     சாணிக்குப் பொட்டிட்டுச் சாமிஎன்பார் செய்கைக்கு              NaN   \n",
      "7  செறிவறிந்து சீர்மை பயக்கும் அறிவறிந்து ஆற்றின்...              NaN   \n",
      "8          நெஞ்சையும் காதையும் நேராக வைத்திருந்தார்:              NaN   \n",
      "9         நிலம்விளைந்த பைங்கூழ் நிலைமையும் அம்மட்டே.              NaN   \n",
      "\n",
      "   up_votes  down_votes       age           gender accents  variant locale  \\\n",
      "0         1           0  thirties   male_masculine     NaN      NaN     ta   \n",
      "1         1           0  thirties  female_feminine     NaN      NaN     ta   \n",
      "2         1           0  thirties  female_feminine     NaN      NaN     ta   \n",
      "3         1           0  thirties  female_feminine     NaN      NaN     ta   \n",
      "4         1           0  thirties  female_feminine     NaN      NaN     ta   \n",
      "5         1           0  twenties  female_feminine     NaN      NaN     ta   \n",
      "6         1           0  thirties  female_feminine     NaN      NaN     ta   \n",
      "7         1           0  twenties  female_feminine     NaN      NaN     ta   \n",
      "8         1           0  twenties  female_feminine     NaN      NaN     ta   \n",
      "9         1           0  twenties  female_feminine     NaN      NaN     ta   \n",
      "\n",
      "  segment  \n",
      "0     NaN  \n",
      "1     NaN  \n",
      "2     NaN  \n",
      "3     NaN  \n",
      "4     NaN  \n",
      "5     NaN  \n",
      "6     NaN  \n",
      "7     NaN  \n",
      "8     NaN  \n",
      "9     NaN  \n",
      "Total rows: 105054\n",
      "Total columns: 13\n"
     ]
    },
    {
     "name": "stderr",
     "output_type": "stream",
     "text": [
      "/tmp/ipykernel_1448709/1045138310.py:2: DtypeWarning: Columns (12) have mixed types. Specify dtype option on import or set low_memory=False.\n",
      "  df = pd.read_csv(other_tsv_file_path, sep='\\t') # Load and preview the TSV file\n"
     ]
    }
   ],
   "source": [
    "other_tsv_file_path = \"/home/jovyan/work/Datasets/cv-corpus/cv-corpus-19.0-2024-09-13/ta/other.tsv\"\n",
    "df = pd.read_csv(other_tsv_file_path, sep='\\t') # Load and preview the TSV file\n",
    "print(df.head(10)) # Display the first 10 rows\n",
    "print(\"Total rows:\", df.shape[0]) # Show the number of rows and columns\n",
    "print(\"Total columns:\", df.shape[1])"
   ]
  },
  {
   "cell_type": "code",
   "execution_count": 70,
   "id": "ca5bfa74-005b-45bb-8ce5-4578ee040c80",
   "metadata": {},
   "outputs": [
    {
     "name": "stdout",
     "output_type": "stream",
     "text": [
      "                                           client_id  \\\n",
      "0  bf648dab1b4490f07144c3dc2ae933e8c8d9850de275ee...   \n",
      "1  e2222245041f03ae0f444c01c77524acb97955fe2ba784...   \n",
      "2  e2222245041f03ae0f444c01c77524acb97955fe2ba784...   \n",
      "3  e2222245041f03ae0f444c01c77524acb97955fe2ba784...   \n",
      "4  e2222245041f03ae0f444c01c77524acb97955fe2ba784...   \n",
      "\n",
      "                           path  \\\n",
      "0  common_voice_ta_19924583.mp3   \n",
      "1  common_voice_ta_19924634.mp3   \n",
      "2  common_voice_ta_19924723.mp3   \n",
      "3  common_voice_ta_19924810.mp3   \n",
      "4  common_voice_ta_19924873.mp3   \n",
      "\n",
      "                                         sentence_id  \\\n",
      "0  a31eca7c44ab179911e3147fe32c40396fedf7d398bbfd...   \n",
      "1  aa4db0f1a4fe1f7ad66640bb52c49a1a3b0b9cbb892775...   \n",
      "2  ac86f1f676df169f3f5de30ae6db779fad8f5b1819dbdd...   \n",
      "3  b370ee74a3d165c31c7eadc47d473852481f238f4c5ff6...   \n",
      "4  ba2b12373f751a1d416a9576cc8ab539835ec6f8cfc152...   \n",
      "\n",
      "                                            sentence  sentence_domain  \\\n",
      "0                             குட்டை மனத்தாலே - அவர்              NaN   \n",
      "1             என்றாள். \"வெந்நீர் இருக்குமா\" என்றான்.              NaN   \n",
      "2                இதுஅதுவாய் மாறிவிடும் மறுக ணத்தில்.              NaN   \n",
      "3  குன்றெடுக்கும் பெருந்தோளான் கொடைகொடுக்கும் கைய...              NaN   \n",
      "4                         என் எழுதுகோலைக் காணவில்லை.              NaN   \n",
      "\n",
      "   up_votes  down_votes       age           gender accents  variant locale  \\\n",
      "0         1           0  thirties   male_masculine     NaN      NaN     ta   \n",
      "1         1           0  thirties  female_feminine     NaN      NaN     ta   \n",
      "2         1           0  thirties  female_feminine     NaN      NaN     ta   \n",
      "3         1           0  thirties  female_feminine     NaN      NaN     ta   \n",
      "4         1           0  thirties  female_feminine     NaN      NaN     ta   \n",
      "\n",
      "  segment  \n",
      "0     NaN  \n",
      "1     NaN  \n",
      "2     NaN  \n",
      "3     NaN  \n",
      "4     NaN  \n"
     ]
    }
   ],
   "source": [
    "print(df.head(5))"
   ]
  },
  {
   "cell_type": "code",
   "execution_count": 71,
   "id": "a0fc6be9-843a-45fc-acbe-84968aaa11ff",
   "metadata": {},
   "outputs": [
    {
     "name": "stdout",
     "output_type": "stream",
     "text": [
      "                                                client_id  \\\n",
      "105049  25008f58459bb9bdd0edfc20d9b263a32f578999dcef6e...   \n",
      "105050  25008f58459bb9bdd0edfc20d9b263a32f578999dcef6e...   \n",
      "105051  25008f58459bb9bdd0edfc20d9b263a32f578999dcef6e...   \n",
      "105052  defb4239d96279350af8040e43d88682201bffc9b9fe87...   \n",
      "105053  defb4239d96279350af8040e43d88682201bffc9b9fe87...   \n",
      "\n",
      "                                path  \\\n",
      "105049  common_voice_ta_41104913.mp3   \n",
      "105050  common_voice_ta_41104914.mp3   \n",
      "105051  common_voice_ta_41104915.mp3   \n",
      "105052  common_voice_ta_41206047.mp3   \n",
      "105053  common_voice_ta_41206048.mp3   \n",
      "\n",
      "                                              sentence_id  \\\n",
      "105049  00fe48e8f70ac2b4333dbd5d7ab38e6b82e52379c28f49...   \n",
      "105050  01446461830aa7dc750bcdadc60797e7cbdfa95777cec2...   \n",
      "105051  fe6019363f878bf176b1ad313e99f0eab002cb39134b53...   \n",
      "105052  fdd0b2b32b6eb9ccd81420557513ffed1d2049a4843689...   \n",
      "105053  fffd4387d41bc1fd540270acbb711f8b36e56ac2e34be1...   \n",
      "\n",
      "                                                 sentence  sentence_domain  \\\n",
      "105049  போட்டி போட்டு ஒருவர்க்கொருவர் சுருட்டு விலையைக...              NaN   \n",
      "105050  மலையின்மேல் உள்ள இந்தக் கழுகுக்கூடு என்ற கோட்ட...              NaN   \n",
      "105051  அந்தத் துன்பத்தையும் மறக்க அவன் அவ்வப்போது வெள...              NaN   \n",
      "105052  பாட்னா நகர் சென்ற காந்தியார், ராஜன் பாபு வீட்ட...              NaN   \n",
      "105053  கலை என்பது அழகு ணர்ச்சியிலே பிறந்து அவனுக்கு ஆ...              NaN   \n",
      "\n",
      "        up_votes  down_votes  age gender accents  variant locale segment  \n",
      "105049         0           0  NaN    NaN     NaN      NaN     ta     NaN  \n",
      "105050         0           0  NaN    NaN     NaN      NaN     ta     NaN  \n",
      "105051         0           0  NaN    NaN     NaN      NaN     ta     NaN  \n",
      "105052         0           0  NaN    NaN     NaN      NaN     ta     NaN  \n",
      "105053         0           0  NaN    NaN     NaN      NaN     ta     NaN  \n"
     ]
    }
   ],
   "source": [
    "print(df.tail(5))"
   ]
  },
  {
   "cell_type": "code",
   "execution_count": 72,
   "id": "54a645d7-6d5c-40a4-85fa-1b305a0b32bf",
   "metadata": {},
   "outputs": [
    {
     "name": "stdout",
     "output_type": "stream",
     "text": [
      "Total rows: 105054\n"
     ]
    }
   ],
   "source": [
    "print(\"Total rows:\", len(df))"
   ]
  },
  {
   "cell_type": "code",
   "execution_count": 73,
   "id": "ba9a058d-2a3a-4770-93a3-ecc6a5f389d2",
   "metadata": {},
   "outputs": [
    {
     "name": "stdout",
     "output_type": "stream",
     "text": [
      "Total lines (including header): 105055\n",
      "Total data rows: 105054\n"
     ]
    }
   ],
   "source": [
    "with open(other_tsv_file_path, 'r', encoding='utf-8') as file:\n",
    "    total_lines = sum(1 for line in file)\n",
    "print(\"Total lines (including header):\", total_lines)\n",
    "print(\"Total data rows:\", total_lines - 1)"
   ]
  },
  {
   "cell_type": "code",
   "execution_count": 75,
   "id": "ec3bbb5c-d223-4b9c-b3cb-e56e39b988dd",
   "metadata": {},
   "outputs": [
    {
     "name": "stdout",
     "output_type": "stream",
     "text": [
      "Rows loaded (with warnings): 105054\n"
     ]
    },
    {
     "name": "stderr",
     "output_type": "stream",
     "text": [
      "/tmp/ipykernel_1448709/3744506028.py:1: DtypeWarning: Columns (12) have mixed types. Specify dtype option on import or set low_memory=False.\n",
      "  df_other_all = pd.read_csv(\n"
     ]
    }
   ],
   "source": [
    "df_other_all = pd.read_csv(\n",
    "    other_tsv_file_path,\n",
    "    sep='\\t',\n",
    "    quoting=3,  # Ignore quote handling\n",
    "    on_bad_lines='warn',\n",
    "    encoding='utf-8'\n",
    ")\n",
    "print(\"Rows loaded (with warnings):\", len(df_other_all))"
   ]
  },
  {
   "cell_type": "code",
   "execution_count": 76,
   "id": "15235ce2-5f5a-48b4-929a-07fd6061363d",
   "metadata": {},
   "outputs": [
    {
     "name": "stdout",
     "output_type": "stream",
     "text": [
      "Columns:\n",
      " ['client_id', 'path', 'sentence_id', 'sentence', 'sentence_domain', 'up_votes', 'down_votes', 'age', 'gender', 'accents', 'variant', 'locale', 'segment']\n",
      "\n",
      "Shape (rows, columns): (105054, 13)\n",
      "\n",
      "Total Rows: 105054\n",
      "Total Columns: 13\n"
     ]
    }
   ],
   "source": [
    "print(\"Columns:\\n\", df_other_all.columns.tolist()) # View column names\n",
    "print(\"\\nShape (rows, columns):\", df_other_all.shape) # View number of rows and columns\n",
    "print(\"\\nTotal Rows:\", df_other_all.shape[0])\n",
    "print(\"Total Columns:\", df_other_all.shape[1])"
   ]
  },
  {
   "cell_type": "code",
   "execution_count": 77,
   "id": "5154f832-b2a0-49d7-b99a-67ac89920bbb",
   "metadata": {},
   "outputs": [
    {
     "name": "stdout",
     "output_type": "stream",
     "text": [
      "First 5 rows:\n"
     ]
    },
    {
     "data": {
      "text/html": [
       "<div>\n",
       "<style scoped>\n",
       "    .dataframe tbody tr th:only-of-type {\n",
       "        vertical-align: middle;\n",
       "    }\n",
       "\n",
       "    .dataframe tbody tr th {\n",
       "        vertical-align: top;\n",
       "    }\n",
       "\n",
       "    .dataframe thead th {\n",
       "        text-align: right;\n",
       "    }\n",
       "</style>\n",
       "<table border=\"1\" class=\"dataframe\">\n",
       "  <thead>\n",
       "    <tr style=\"text-align: right;\">\n",
       "      <th></th>\n",
       "      <th>path</th>\n",
       "      <th>sentence</th>\n",
       "    </tr>\n",
       "  </thead>\n",
       "  <tbody>\n",
       "    <tr>\n",
       "      <th>0</th>\n",
       "      <td>common_voice_ta_19924583.mp3</td>\n",
       "      <td>குட்டை மனத்தாலே - அவர்</td>\n",
       "    </tr>\n",
       "    <tr>\n",
       "      <th>1</th>\n",
       "      <td>common_voice_ta_19924634.mp3</td>\n",
       "      <td>என்றாள். \"வெந்நீர் இருக்குமா\" என்றான்.</td>\n",
       "    </tr>\n",
       "    <tr>\n",
       "      <th>2</th>\n",
       "      <td>common_voice_ta_19924723.mp3</td>\n",
       "      <td>இதுஅதுவாய் மாறிவிடும் மறுக ணத்தில்.</td>\n",
       "    </tr>\n",
       "    <tr>\n",
       "      <th>3</th>\n",
       "      <td>common_voice_ta_19924810.mp3</td>\n",
       "      <td>குன்றெடுக்கும் பெருந்தோளான் கொடைகொடுக்கும் கைய...</td>\n",
       "    </tr>\n",
       "    <tr>\n",
       "      <th>4</th>\n",
       "      <td>common_voice_ta_19924873.mp3</td>\n",
       "      <td>என் எழுதுகோலைக் காணவில்லை.</td>\n",
       "    </tr>\n",
       "  </tbody>\n",
       "</table>\n",
       "</div>"
      ],
      "text/plain": [
       "                           path  \\\n",
       "0  common_voice_ta_19924583.mp3   \n",
       "1  common_voice_ta_19924634.mp3   \n",
       "2  common_voice_ta_19924723.mp3   \n",
       "3  common_voice_ta_19924810.mp3   \n",
       "4  common_voice_ta_19924873.mp3   \n",
       "\n",
       "                                            sentence  \n",
       "0                             குட்டை மனத்தாலே - அவர்  \n",
       "1             என்றாள். \"வெந்நீர் இருக்குமா\" என்றான்.  \n",
       "2                இதுஅதுவாய் மாறிவிடும் மறுக ணத்தில்.  \n",
       "3  குன்றெடுக்கும் பெருந்தோளான் கொடைகொடுக்கும் கைய...  \n",
       "4                         என் எழுதுகோலைக் காணவில்லை.  "
      ]
     },
     "metadata": {},
     "output_type": "display_data"
    },
    {
     "name": "stdout",
     "output_type": "stream",
     "text": [
      "None\n"
     ]
    }
   ],
   "source": [
    "print(\"First 5 rows:\") # Display first 5 rows of 'path' and 'sentence'\n",
    "print(display(df_other_all[['path', 'sentence']].head()))"
   ]
  },
  {
   "cell_type": "code",
   "execution_count": 78,
   "id": "6f3ad1c4-986a-41f1-8796-3552e12ae4b1",
   "metadata": {},
   "outputs": [
    {
     "name": "stdout",
     "output_type": "stream",
     "text": [
      "Last 5 rows:\n"
     ]
    },
    {
     "data": {
      "text/html": [
       "<div>\n",
       "<style scoped>\n",
       "    .dataframe tbody tr th:only-of-type {\n",
       "        vertical-align: middle;\n",
       "    }\n",
       "\n",
       "    .dataframe tbody tr th {\n",
       "        vertical-align: top;\n",
       "    }\n",
       "\n",
       "    .dataframe thead th {\n",
       "        text-align: right;\n",
       "    }\n",
       "</style>\n",
       "<table border=\"1\" class=\"dataframe\">\n",
       "  <thead>\n",
       "    <tr style=\"text-align: right;\">\n",
       "      <th></th>\n",
       "      <th>path</th>\n",
       "      <th>sentence</th>\n",
       "    </tr>\n",
       "  </thead>\n",
       "  <tbody>\n",
       "    <tr>\n",
       "      <th>105049</th>\n",
       "      <td>common_voice_ta_41104913.mp3</td>\n",
       "      <td>போட்டி போட்டு ஒருவர்க்கொருவர் சுருட்டு விலையைக...</td>\n",
       "    </tr>\n",
       "    <tr>\n",
       "      <th>105050</th>\n",
       "      <td>common_voice_ta_41104914.mp3</td>\n",
       "      <td>மலையின்மேல் உள்ள இந்தக் கழுகுக்கூடு என்ற கோட்ட...</td>\n",
       "    </tr>\n",
       "    <tr>\n",
       "      <th>105051</th>\n",
       "      <td>common_voice_ta_41104915.mp3</td>\n",
       "      <td>அந்தத் துன்பத்தையும் மறக்க அவன் அவ்வப்போது வெள...</td>\n",
       "    </tr>\n",
       "    <tr>\n",
       "      <th>105052</th>\n",
       "      <td>common_voice_ta_41206047.mp3</td>\n",
       "      <td>பாட்னா நகர் சென்ற காந்தியார், ராஜன் பாபு வீட்ட...</td>\n",
       "    </tr>\n",
       "    <tr>\n",
       "      <th>105053</th>\n",
       "      <td>common_voice_ta_41206048.mp3</td>\n",
       "      <td>கலை என்பது அழகு ணர்ச்சியிலே பிறந்து அவனுக்கு ஆ...</td>\n",
       "    </tr>\n",
       "  </tbody>\n",
       "</table>\n",
       "</div>"
      ],
      "text/plain": [
       "                                path  \\\n",
       "105049  common_voice_ta_41104913.mp3   \n",
       "105050  common_voice_ta_41104914.mp3   \n",
       "105051  common_voice_ta_41104915.mp3   \n",
       "105052  common_voice_ta_41206047.mp3   \n",
       "105053  common_voice_ta_41206048.mp3   \n",
       "\n",
       "                                                 sentence  \n",
       "105049  போட்டி போட்டு ஒருவர்க்கொருவர் சுருட்டு விலையைக...  \n",
       "105050  மலையின்மேல் உள்ள இந்தக் கழுகுக்கூடு என்ற கோட்ட...  \n",
       "105051  அந்தத் துன்பத்தையும் மறக்க அவன் அவ்வப்போது வெள...  \n",
       "105052  பாட்னா நகர் சென்ற காந்தியார், ராஜன் பாபு வீட்ட...  \n",
       "105053  கலை என்பது அழகு ணர்ச்சியிலே பிறந்து அவனுக்கு ஆ...  "
      ]
     },
     "metadata": {},
     "output_type": "display_data"
    },
    {
     "name": "stdout",
     "output_type": "stream",
     "text": [
      "None\n"
     ]
    }
   ],
   "source": [
    "print(\"Last 5 rows:\") # Display last 5 rows of 'path' and 'sentence'\n",
    "print(display(df_other_all[['path', 'sentence']].tail()))"
   ]
  },
  {
   "cell_type": "markdown",
   "id": "9c79a1a4-bbef-4dd6-880d-9fc362b0e3f8",
   "metadata": {},
   "source": [
    "For other_path_sentence_updated csv file"
   ]
  },
  {
   "cell_type": "code",
   "execution_count": 79,
   "id": "458f1ad5-0d5c-412e-8b68-41ffef5f5248",
   "metadata": {},
   "outputs": [],
   "source": [
    "df_other_path_sentence = df_other_all[['path', 'sentence']].copy() # Select only the 'path' and 'sentence' columns"
   ]
  },
  {
   "cell_type": "code",
   "execution_count": 80,
   "id": "f5c3fefa-3c5c-48d2-9509-1b701d77e904",
   "metadata": {},
   "outputs": [
    {
     "name": "stdout",
     "output_type": "stream",
     "text": [
      "Shape: (105054, 2)\n"
     ]
    }
   ],
   "source": [
    "# Optional: Check the shape and preview to ensure data integrity\n",
    "print(\"Shape:\", df_other_path_sentence.shape)"
   ]
  },
  {
   "cell_type": "code",
   "execution_count": 81,
   "id": "57078732-e2b7-46e4-91e8-53cc6cbf4f7e",
   "metadata": {},
   "outputs": [],
   "source": [
    "df_other_path_sentence.index = range(1, len(df_other_path_sentence) + 1) # Reset the index and then set it to start from 1"
   ]
  },
  {
   "cell_type": "code",
   "execution_count": 82,
   "id": "a999efd0-683c-4c09-8f39-5426d8025132",
   "metadata": {},
   "outputs": [
    {
     "name": "stdout",
     "output_type": "stream",
     "text": [
      "                           path  \\\n",
      "1  common_voice_ta_19924583.mp3   \n",
      "2  common_voice_ta_19924634.mp3   \n",
      "3  common_voice_ta_19924723.mp3   \n",
      "4  common_voice_ta_19924810.mp3   \n",
      "5  common_voice_ta_19924873.mp3   \n",
      "\n",
      "                                            sentence  \n",
      "1                             குட்டை மனத்தாலே - அவர்  \n",
      "2             என்றாள். \"வெந்நீர் இருக்குமா\" என்றான்.  \n",
      "3                இதுஅதுவாய் மாறிவிடும் மறுக ணத்தில்.  \n",
      "4  குன்றெடுக்கும் பெருந்தோளான் கொடைகொடுக்கும் கைய...  \n",
      "5                         என் எழுதுகோலைக் காணவில்லை.  \n"
     ]
    }
   ],
   "source": [
    "print(df_other_path_sentence.head()) # Now if you print head or tail, index starts from 1"
   ]
  },
  {
   "cell_type": "code",
   "execution_count": 83,
   "id": "905ae7c8-7d1a-40d2-80b6-87c7af4c5c14",
   "metadata": {},
   "outputs": [
    {
     "name": "stdout",
     "output_type": "stream",
     "text": [
      "                                path  \\\n",
      "105050  common_voice_ta_41104913.mp3   \n",
      "105051  common_voice_ta_41104914.mp3   \n",
      "105052  common_voice_ta_41104915.mp3   \n",
      "105053  common_voice_ta_41206047.mp3   \n",
      "105054  common_voice_ta_41206048.mp3   \n",
      "\n",
      "                                                 sentence  \n",
      "105050  போட்டி போட்டு ஒருவர்க்கொருவர் சுருட்டு விலையைக...  \n",
      "105051  மலையின்மேல் உள்ள இந்தக் கழுகுக்கூடு என்ற கோட்ட...  \n",
      "105052  அந்தத் துன்பத்தையும் மறக்க அவன் அவ்வப்போது வெள...  \n",
      "105053  பாட்னா நகர் சென்ற காந்தியார், ராஜன் பாபு வீட்ட...  \n",
      "105054  கலை என்பது அழகு ணர்ச்சியிலே பிறந்து அவனுக்கு ஆ...  \n"
     ]
    }
   ],
   "source": [
    "print(df_other_path_sentence.tail()) "
   ]
  },
  {
   "cell_type": "code",
   "execution_count": 84,
   "id": "6a766061-702d-4e68-afe0-6db2658d8c36",
   "metadata": {},
   "outputs": [],
   "source": [
    "df_other_path_sentence.to_csv('other_path_sentence_updated.csv', index=False) # Save to CSV"
   ]
  },
  {
   "cell_type": "markdown",
   "id": "0c3b9dce-0a49-44ac-8f11-0ce9ad1acdbb",
   "metadata": {},
   "source": [
    "**For test.tsv file**"
   ]
  },
  {
   "cell_type": "code",
   "execution_count": 96,
   "id": "d75c461c-ebfe-4673-886f-5555883f54cb",
   "metadata": {},
   "outputs": [
    {
     "name": "stdout",
     "output_type": "stream",
     "text": [
      "                                           client_id  \\\n",
      "0  01d7a8109646317f5c18c445cdc1455d3531ac1b63c19c...   \n",
      "1  031844188d789537f91c8368a4c2229289567727ff76d7...   \n",
      "2  049b3de3ae6801ef5033ec9f70f62ec00b5f76d907293d...   \n",
      "3  0d57f897226d23d7bcfd55f2322f195cfc3ccbd74b2199...   \n",
      "4  15eeac1471cd225a23830c8d11e23bd55972283274fca9...   \n",
      "5  1dd6f154f831155c19fbbc4aacf6240ecba021a4f0d4f9...   \n",
      "6  2812849479fbeedb77ef323bd4b2b584cf2fb2351a71cc...   \n",
      "7  32f319fef90857525e86d7208896001809972742bf85c2...   \n",
      "8  36c8e60e3f933bfd70de6359683546d72a35b337a1df1e...   \n",
      "9  424e6a8b49c709a75b609d505713ae1a594282a2385f6a...   \n",
      "\n",
      "                           path  \\\n",
      "0  common_voice_ta_28441667.mp3   \n",
      "1  common_voice_ta_30465365.mp3   \n",
      "2  common_voice_ta_26622621.mp3   \n",
      "3  common_voice_ta_24996970.mp3   \n",
      "4  common_voice_ta_27058221.mp3   \n",
      "5  common_voice_ta_28781016.mp3   \n",
      "6  common_voice_ta_37163911.mp3   \n",
      "7  common_voice_ta_29624933.mp3   \n",
      "8  common_voice_ta_34938447.mp3   \n",
      "9  common_voice_ta_38775030.mp3   \n",
      "\n",
      "                                         sentence_id  \\\n",
      "0  4ece3b00fb6122f171a053ba9b1d88dac709392f8f693b...   \n",
      "1  2290ed298076073a66ae3d299cd6d50cd977366f950dd6...   \n",
      "2  9ddf575639ea30252381fb38eb815bb0481e534a75dc65...   \n",
      "3  0f8d8590713f64c96711dac47a3717ae9d8d9d058a58eb...   \n",
      "4  177f22c6cb0eb06387af659e226b3ce32205da2fa35b5b...   \n",
      "5  95fb9d62d0ba605138d1032e871ed5cc662030a9280cab...   \n",
      "6  a36f2964c3f716e78a3c0ce5d4d8184745158a4f7ede67...   \n",
      "7  e7af2bfeab96bbaf48cdcdc9f97d357e8626c12059605d...   \n",
      "8  9da5fc3a340c276b6f67f474c9889086c345c66e868832...   \n",
      "9  b298beb8adf6668cc21e7aab3d725f58bc100483913fff...   \n",
      "\n",
      "                                            sentence  sentence_domain  \\\n",
      "0  மக்களிடையே மீண்டும் சாதீய மனோநிலைகளைத் தோற்றுவ...              NaN   \n",
      "1  கிரேக்கர்கள் இந்த மாதிரியான வீண் கனவு காண்பதில...              NaN   \n",
      "2                              உங்கள் நோக்கு புதிது.              NaN   \n",
      "3                  இந்த நாளில் அது மறைந்து வருகிறது.              NaN   \n",
      "4  அந்தப் பாட்டின் இரண்டாவது பகுதியில் இறைவனது தி...              NaN   \n",
      "5       இவர்களிடம் இன்சொல்லை எவ்வாறு எதிர்பார்ப்பது?              NaN   \n",
      "6                          இதைப் பிரித்தவர்கள் யார்?              NaN   \n",
      "7               இவர்கள் ஜரிஷ் புரட்சிக் கூட்டத்தார்.              NaN   \n",
      "8  நான் ஒடிப்போய் அதனிடமிருந்து தப்பிவரத் தாமதமாய...              NaN   \n",
      "9  மருத்துவத் துறையிலும் உணவுத் துறையிலும் பயன்பட...              NaN   \n",
      "\n",
      "   up_votes  down_votes       age           gender accents  variant locale  \\\n",
      "0         2           1  twenties   male_masculine     NaN      NaN     ta   \n",
      "1         2           0  thirties   male_masculine     NaN      NaN     ta   \n",
      "2         3           2       NaN              NaN     NaN      NaN     ta   \n",
      "3         2           0       NaN              NaN     NaN      NaN     ta   \n",
      "4         3           0  thirties   male_masculine     NaN      NaN     ta   \n",
      "5         2           0       NaN              NaN     NaN      NaN     ta   \n",
      "6         2           0  twenties   male_masculine     NaN      NaN     ta   \n",
      "7         2           0  twenties  female_feminine     NaN      NaN     ta   \n",
      "8         2           0  fourties   male_masculine     NaN      NaN     ta   \n",
      "9         2           0       NaN              NaN     NaN      NaN     ta   \n",
      "\n",
      "  segment  \n",
      "0     NaN  \n",
      "1     NaN  \n",
      "2     NaN  \n",
      "3     NaN  \n",
      "4     NaN  \n",
      "5     NaN  \n",
      "6     NaN  \n",
      "7     NaN  \n",
      "8     NaN  \n",
      "9     NaN  \n",
      "Total rows: 7948\n",
      "Total columns: 13\n"
     ]
    }
   ],
   "source": [
    "test_tsv_file_path = \"/home/jovyan/work/Datasets/cv-corpus/cv-corpus-19.0-2024-09-13/ta/test.tsv\"\n",
    "df = pd.read_csv(test_tsv_file_path, sep='\\t') # Load and preview the TSV file\n",
    "print(df.head(10)) # Display the first 10 rows\n",
    "print(\"Total rows:\", df.shape[0]) # Show the number of rows and columns\n",
    "print(\"Total columns:\", df.shape[1])"
   ]
  },
  {
   "cell_type": "code",
   "execution_count": 97,
   "id": "65aed168-ce82-42df-8f39-aeee66b35270",
   "metadata": {},
   "outputs": [
    {
     "name": "stdout",
     "output_type": "stream",
     "text": [
      "                                           client_id  \\\n",
      "0  01d7a8109646317f5c18c445cdc1455d3531ac1b63c19c...   \n",
      "1  031844188d789537f91c8368a4c2229289567727ff76d7...   \n",
      "2  049b3de3ae6801ef5033ec9f70f62ec00b5f76d907293d...   \n",
      "3  0d57f897226d23d7bcfd55f2322f195cfc3ccbd74b2199...   \n",
      "4  15eeac1471cd225a23830c8d11e23bd55972283274fca9...   \n",
      "\n",
      "                           path  \\\n",
      "0  common_voice_ta_28441667.mp3   \n",
      "1  common_voice_ta_30465365.mp3   \n",
      "2  common_voice_ta_26622621.mp3   \n",
      "3  common_voice_ta_24996970.mp3   \n",
      "4  common_voice_ta_27058221.mp3   \n",
      "\n",
      "                                         sentence_id  \\\n",
      "0  4ece3b00fb6122f171a053ba9b1d88dac709392f8f693b...   \n",
      "1  2290ed298076073a66ae3d299cd6d50cd977366f950dd6...   \n",
      "2  9ddf575639ea30252381fb38eb815bb0481e534a75dc65...   \n",
      "3  0f8d8590713f64c96711dac47a3717ae9d8d9d058a58eb...   \n",
      "4  177f22c6cb0eb06387af659e226b3ce32205da2fa35b5b...   \n",
      "\n",
      "                                            sentence  sentence_domain  \\\n",
      "0  மக்களிடையே மீண்டும் சாதீய மனோநிலைகளைத் தோற்றுவ...              NaN   \n",
      "1  கிரேக்கர்கள் இந்த மாதிரியான வீண் கனவு காண்பதில...              NaN   \n",
      "2                              உங்கள் நோக்கு புதிது.              NaN   \n",
      "3                  இந்த நாளில் அது மறைந்து வருகிறது.              NaN   \n",
      "4  அந்தப் பாட்டின் இரண்டாவது பகுதியில் இறைவனது தி...              NaN   \n",
      "\n",
      "   up_votes  down_votes       age          gender accents  variant locale  \\\n",
      "0         2           1  twenties  male_masculine     NaN      NaN     ta   \n",
      "1         2           0  thirties  male_masculine     NaN      NaN     ta   \n",
      "2         3           2       NaN             NaN     NaN      NaN     ta   \n",
      "3         2           0       NaN             NaN     NaN      NaN     ta   \n",
      "4         3           0  thirties  male_masculine     NaN      NaN     ta   \n",
      "\n",
      "  segment  \n",
      "0     NaN  \n",
      "1     NaN  \n",
      "2     NaN  \n",
      "3     NaN  \n",
      "4     NaN  \n"
     ]
    }
   ],
   "source": [
    "print(df.head(5))"
   ]
  },
  {
   "cell_type": "code",
   "execution_count": 98,
   "id": "14715136-4fb1-4c2a-8b3e-e8fd689f5b02",
   "metadata": {},
   "outputs": [
    {
     "name": "stdout",
     "output_type": "stream",
     "text": [
      "                                              client_id  \\\n",
      "7943  866ca904291f8d25f1b04ff418ddb2a2d4cf1021eb0f39...   \n",
      "7944  866ca904291f8d25f1b04ff418ddb2a2d4cf1021eb0f39...   \n",
      "7945  866ca904291f8d25f1b04ff418ddb2a2d4cf1021eb0f39...   \n",
      "7946  866ca904291f8d25f1b04ff418ddb2a2d4cf1021eb0f39...   \n",
      "7947  866ca904291f8d25f1b04ff418ddb2a2d4cf1021eb0f39...   \n",
      "\n",
      "                              path  \\\n",
      "7943  common_voice_ta_27638600.mp3   \n",
      "7944  common_voice_ta_27638601.mp3   \n",
      "7945  common_voice_ta_27638647.mp3   \n",
      "7946  common_voice_ta_27638648.mp3   \n",
      "7947  common_voice_ta_27638650.mp3   \n",
      "\n",
      "                                            sentence_id  \\\n",
      "7943  3fbc62aeb2ea28c31e2784c0b08cd61c5a1f35e24e02e9...   \n",
      "7944  32b91de21009b3cf3b7462439f2cee752316ff6091cd95...   \n",
      "7945  3f9804cce601c3ba43389366ab1b4afddfe4bb67c34a78...   \n",
      "7946  3ee8b8a24ecd71f8b622d60b7862ac9332b106b9c922b0...   \n",
      "7947  3d97f70619ba678728754796723c36280735532208ed3d...   \n",
      "\n",
      "                                               sentence  sentence_domain  \\\n",
      "7943  நிச்சயமாகச் சொல்லுகிறோம், இன்னொரு முறை குற்றம்...              NaN   \n",
      "7944  திருடனை உடனே கண்டுபிடிக்க வேண்டும் என்று அரசனி...              NaN   \n",
      "7945  மரங்கள் மண்ணிலிருந்து தண்ணிர், உரம் எடுத்துக் ...              NaN   \n",
      "7946  நாங்கள் சைதாப் பேட்டைக்கு வந்த நாளிலிருந்தே பா...              NaN   \n",
      "7947  அவருக்கு மட்டுமன்று பெருநோய் அவருடைய அன்பு மகள...              NaN   \n",
      "\n",
      "      up_votes  down_votes       age          gender accents  variant locale  \\\n",
      "7943         2           0  twenties  male_masculine     NaN      NaN     ta   \n",
      "7944         2           0  twenties  male_masculine     NaN      NaN     ta   \n",
      "7945         2           0  twenties  male_masculine     NaN      NaN     ta   \n",
      "7946         2           0  twenties  male_masculine     NaN      NaN     ta   \n",
      "7947         2           1  twenties  male_masculine     NaN      NaN     ta   \n",
      "\n",
      "     segment  \n",
      "7943     NaN  \n",
      "7944     NaN  \n",
      "7945     NaN  \n",
      "7946     NaN  \n",
      "7947     NaN  \n"
     ]
    }
   ],
   "source": [
    "print(df.tail(5))"
   ]
  },
  {
   "cell_type": "code",
   "execution_count": 99,
   "id": "c8db83c4-454c-4a6b-9055-3fc8d39eabee",
   "metadata": {},
   "outputs": [
    {
     "name": "stdout",
     "output_type": "stream",
     "text": [
      "Total rows: 7948\n"
     ]
    }
   ],
   "source": [
    "print(\"Total rows:\", len(df))"
   ]
  },
  {
   "cell_type": "code",
   "execution_count": 100,
   "id": "83126d4b-c43d-4502-b5ce-a58b527e9601",
   "metadata": {},
   "outputs": [
    {
     "name": "stdout",
     "output_type": "stream",
     "text": [
      "Total lines (including header): 12190\n",
      "Total data rows: 12189\n"
     ]
    }
   ],
   "source": [
    "with open(test_tsv_file_path, 'r', encoding='utf-8') as file:\n",
    "    total_lines = sum(1 for line in file)\n",
    "print(\"Total lines (including header):\", total_lines)\n",
    "print(\"Total data rows:\", total_lines - 1)"
   ]
  },
  {
   "cell_type": "code",
   "execution_count": 101,
   "id": "141f4fbf-79c5-48b4-a7ac-1b20ae3253bd",
   "metadata": {},
   "outputs": [
    {
     "name": "stdout",
     "output_type": "stream",
     "text": [
      "Number of bad lines: 0\n",
      "Example bad line: None\n"
     ]
    }
   ],
   "source": [
    "other_bad_lines = []\n",
    "with open(other_tsv_file_path, 'r', encoding='utf-8') as file:\n",
    "    for i, line in enumerate(file):\n",
    "        if line.count('\\t') != 12:  # 13 columns \n",
    "            other_bad_lines.append((i, line.strip()))\n",
    "print(f\"Number of bad lines: {len(other_bad_lines)}\")\n",
    "print(\"Example bad line:\", other_bad_lines[0] if other_bad_lines else \"None\")"
   ]
  },
  {
   "cell_type": "code",
   "execution_count": 102,
   "id": "9174f462-19bd-4a80-a5fa-3e9896a7c1e0",
   "metadata": {},
   "outputs": [
    {
     "name": "stdout",
     "output_type": "stream",
     "text": [
      "Rows loaded: 7948\n",
      "Completely empty rows: 0\n",
      "Rows with missing sentence: 0\n",
      "Duplicate header rows: 0\n"
     ]
    }
   ],
   "source": [
    "df = pd.read_csv(test_tsv_file_path, sep='\\t', dtype=str)  # Keep all as string to avoid parsing issues\n",
    "print(\"Rows loaded:\", len(df)) # Check total number of rows loaded\n",
    "empty_rows = df.isnull().all(axis=1).sum() # Check how many rows are completely empty (NaN in all columns)\n",
    "print(\"Completely empty rows:\", empty_rows)\n",
    "nan_sentences = df['sentence'].isnull().sum() # Check for rows with NaN in essential columns (like 'sentence')\n",
    "print(\"Rows with missing sentence:\", nan_sentences)\n",
    "with open(test_tsv_file_path, \"r\", encoding=\"utf-8\") as f:\n",
    "    header_line = f.readline().strip()\n",
    "    duplicate_header_count = sum(1 for line in f if line.strip() == header_line)\n",
    "print(\"Duplicate header rows:\", duplicate_header_count)"
   ]
  },
  {
   "cell_type": "code",
   "execution_count": 103,
   "id": "b512ce7f-cec6-487f-976b-888b74d1b670",
   "metadata": {},
   "outputs": [
    {
     "name": "stdout",
     "output_type": "stream",
     "text": [
      "Columns:\n",
      " ['client_id', 'path', 'sentence_id', 'sentence', 'sentence_domain', 'up_votes', 'down_votes', 'age', 'gender', 'accents', 'variant', 'locale', 'segment']\n",
      "\n",
      "Shape (rows, columns): (7948, 13)\n",
      "\n",
      "Total Rows: 7948\n",
      "Total Columns: 13\n"
     ]
    }
   ],
   "source": [
    "#checking\n",
    "print(\"Columns:\\n\", df.columns.tolist()) # View column names\n",
    "print(\"\\nShape (rows, columns):\", df.shape) # View number of rows and columns\n",
    "print(\"\\nTotal Rows:\", df.shape[0])\n",
    "print(\"Total Columns:\", df.shape[1])"
   ]
  },
  {
   "cell_type": "code",
   "execution_count": 104,
   "id": "009382df-16f8-424e-abac-e7299e42b3a4",
   "metadata": {},
   "outputs": [
    {
     "name": "stdout",
     "output_type": "stream",
     "text": [
      "Rows loaded (with warnings): 12189\n"
     ]
    }
   ],
   "source": [
    "df_test_all = pd.read_csv(\n",
    "    test_tsv_file_path,\n",
    "    sep='\\t',\n",
    "    quoting=3,  # Ignore quote handling\n",
    "    on_bad_lines='warn',\n",
    "    encoding='utf-8'\n",
    ")\n",
    "print(\"Rows loaded (with warnings):\", len(df_test_all))"
   ]
  },
  {
   "cell_type": "code",
   "execution_count": 105,
   "id": "b68bc830-7c36-4b6f-998c-fc169615337f",
   "metadata": {},
   "outputs": [
    {
     "name": "stdout",
     "output_type": "stream",
     "text": [
      "Columns:\n",
      " ['client_id', 'path', 'sentence_id', 'sentence', 'sentence_domain', 'up_votes', 'down_votes', 'age', 'gender', 'accents', 'variant', 'locale', 'segment']\n",
      "\n",
      "Shape (rows, columns): (12189, 13)\n",
      "\n",
      "Total Rows: 12189\n",
      "Total Columns: 13\n"
     ]
    }
   ],
   "source": [
    "print(\"Columns:\\n\", df_test_all.columns.tolist()) # View column names\n",
    "print(\"\\nShape (rows, columns):\", df_test_all.shape) # View number of rows and columns\n",
    "print(\"\\nTotal Rows:\", df_test_all.shape[0])\n",
    "print(\"Total Columns:\", df_test_all.shape[1])"
   ]
  },
  {
   "cell_type": "code",
   "execution_count": 106,
   "id": "0b07996b-070e-468b-9973-0f3d87a7ce73",
   "metadata": {},
   "outputs": [
    {
     "name": "stdout",
     "output_type": "stream",
     "text": [
      "First 5 rows:\n"
     ]
    },
    {
     "data": {
      "text/html": [
       "<div>\n",
       "<style scoped>\n",
       "    .dataframe tbody tr th:only-of-type {\n",
       "        vertical-align: middle;\n",
       "    }\n",
       "\n",
       "    .dataframe tbody tr th {\n",
       "        vertical-align: top;\n",
       "    }\n",
       "\n",
       "    .dataframe thead th {\n",
       "        text-align: right;\n",
       "    }\n",
       "</style>\n",
       "<table border=\"1\" class=\"dataframe\">\n",
       "  <thead>\n",
       "    <tr style=\"text-align: right;\">\n",
       "      <th></th>\n",
       "      <th>path</th>\n",
       "      <th>sentence</th>\n",
       "    </tr>\n",
       "  </thead>\n",
       "  <tbody>\n",
       "    <tr>\n",
       "      <th>0</th>\n",
       "      <td>common_voice_ta_28441667.mp3</td>\n",
       "      <td>மக்களிடையே மீண்டும் சாதீய மனோநிலைகளைத் தோற்றுவ...</td>\n",
       "    </tr>\n",
       "    <tr>\n",
       "      <th>1</th>\n",
       "      <td>common_voice_ta_30465365.mp3</td>\n",
       "      <td>கிரேக்கர்கள் இந்த மாதிரியான வீண் கனவு காண்பதில...</td>\n",
       "    </tr>\n",
       "    <tr>\n",
       "      <th>2</th>\n",
       "      <td>common_voice_ta_26622621.mp3</td>\n",
       "      <td>உங்கள் நோக்கு புதிது.</td>\n",
       "    </tr>\n",
       "    <tr>\n",
       "      <th>3</th>\n",
       "      <td>common_voice_ta_24996970.mp3</td>\n",
       "      <td>இந்த நாளில் அது மறைந்து வருகிறது.</td>\n",
       "    </tr>\n",
       "    <tr>\n",
       "      <th>4</th>\n",
       "      <td>common_voice_ta_27058221.mp3</td>\n",
       "      <td>அந்தப் பாட்டின் இரண்டாவது பகுதியில் இறைவனது தி...</td>\n",
       "    </tr>\n",
       "  </tbody>\n",
       "</table>\n",
       "</div>"
      ],
      "text/plain": [
       "                           path  \\\n",
       "0  common_voice_ta_28441667.mp3   \n",
       "1  common_voice_ta_30465365.mp3   \n",
       "2  common_voice_ta_26622621.mp3   \n",
       "3  common_voice_ta_24996970.mp3   \n",
       "4  common_voice_ta_27058221.mp3   \n",
       "\n",
       "                                            sentence  \n",
       "0  மக்களிடையே மீண்டும் சாதீய மனோநிலைகளைத் தோற்றுவ...  \n",
       "1  கிரேக்கர்கள் இந்த மாதிரியான வீண் கனவு காண்பதில...  \n",
       "2                              உங்கள் நோக்கு புதிது.  \n",
       "3                  இந்த நாளில் அது மறைந்து வருகிறது.  \n",
       "4  அந்தப் பாட்டின் இரண்டாவது பகுதியில் இறைவனது தி...  "
      ]
     },
     "metadata": {},
     "output_type": "display_data"
    },
    {
     "name": "stdout",
     "output_type": "stream",
     "text": [
      "None\n"
     ]
    }
   ],
   "source": [
    "print(\"First 5 rows:\") # Display first 5 rows of 'path' and 'sentence'\n",
    "print(display(df_test_all[['path', 'sentence']].head()))"
   ]
  },
  {
   "cell_type": "code",
   "execution_count": 107,
   "id": "21289d0a-0e0e-4c31-af32-aa0d475dcd04",
   "metadata": {},
   "outputs": [
    {
     "name": "stdout",
     "output_type": "stream",
     "text": [
      "Last 5 rows:\n"
     ]
    },
    {
     "data": {
      "text/html": [
       "<div>\n",
       "<style scoped>\n",
       "    .dataframe tbody tr th:only-of-type {\n",
       "        vertical-align: middle;\n",
       "    }\n",
       "\n",
       "    .dataframe tbody tr th {\n",
       "        vertical-align: top;\n",
       "    }\n",
       "\n",
       "    .dataframe thead th {\n",
       "        text-align: right;\n",
       "    }\n",
       "</style>\n",
       "<table border=\"1\" class=\"dataframe\">\n",
       "  <thead>\n",
       "    <tr style=\"text-align: right;\">\n",
       "      <th></th>\n",
       "      <th>path</th>\n",
       "      <th>sentence</th>\n",
       "    </tr>\n",
       "  </thead>\n",
       "  <tbody>\n",
       "    <tr>\n",
       "      <th>12184</th>\n",
       "      <td>common_voice_ta_27638600.mp3</td>\n",
       "      <td>நிச்சயமாகச் சொல்லுகிறோம், இன்னொரு முறை குற்றம்...</td>\n",
       "    </tr>\n",
       "    <tr>\n",
       "      <th>12185</th>\n",
       "      <td>common_voice_ta_27638601.mp3</td>\n",
       "      <td>திருடனை உடனே கண்டுபிடிக்க வேண்டும் என்று அரசனி...</td>\n",
       "    </tr>\n",
       "    <tr>\n",
       "      <th>12186</th>\n",
       "      <td>common_voice_ta_27638647.mp3</td>\n",
       "      <td>மரங்கள் மண்ணிலிருந்து தண்ணிர், உரம் எடுத்துக் ...</td>\n",
       "    </tr>\n",
       "    <tr>\n",
       "      <th>12187</th>\n",
       "      <td>common_voice_ta_27638648.mp3</td>\n",
       "      <td>நாங்கள் சைதாப் பேட்டைக்கு வந்த நாளிலிருந்தே பா...</td>\n",
       "    </tr>\n",
       "    <tr>\n",
       "      <th>12188</th>\n",
       "      <td>common_voice_ta_27638650.mp3</td>\n",
       "      <td>அவருக்கு மட்டுமன்று பெருநோய் அவருடைய அன்பு மகள...</td>\n",
       "    </tr>\n",
       "  </tbody>\n",
       "</table>\n",
       "</div>"
      ],
      "text/plain": [
       "                               path  \\\n",
       "12184  common_voice_ta_27638600.mp3   \n",
       "12185  common_voice_ta_27638601.mp3   \n",
       "12186  common_voice_ta_27638647.mp3   \n",
       "12187  common_voice_ta_27638648.mp3   \n",
       "12188  common_voice_ta_27638650.mp3   \n",
       "\n",
       "                                                sentence  \n",
       "12184  நிச்சயமாகச் சொல்லுகிறோம், இன்னொரு முறை குற்றம்...  \n",
       "12185  திருடனை உடனே கண்டுபிடிக்க வேண்டும் என்று அரசனி...  \n",
       "12186  மரங்கள் மண்ணிலிருந்து தண்ணிர், உரம் எடுத்துக் ...  \n",
       "12187  நாங்கள் சைதாப் பேட்டைக்கு வந்த நாளிலிருந்தே பா...  \n",
       "12188  அவருக்கு மட்டுமன்று பெருநோய் அவருடைய அன்பு மகள...  "
      ]
     },
     "metadata": {},
     "output_type": "display_data"
    },
    {
     "name": "stdout",
     "output_type": "stream",
     "text": [
      "None\n"
     ]
    }
   ],
   "source": [
    "print(\"Last 5 rows:\") # Display last 5 rows of 'path' and 'sentence'\n",
    "print(display(df_test_all[['path', 'sentence']].tail()))"
   ]
  },
  {
   "cell_type": "markdown",
   "id": "823d62aa-b48d-48d8-90b6-bcb9846c5351",
   "metadata": {},
   "source": [
    "For test_path_sentence_updated csv file"
   ]
  },
  {
   "cell_type": "code",
   "execution_count": 108,
   "id": "5537ca6f-0d13-44d6-ad8c-6663d5ed4b25",
   "metadata": {},
   "outputs": [],
   "source": [
    "df_test_path_sentence = df_test_all[['path', 'sentence']].copy() # Select only the 'path' and 'sentence' columns"
   ]
  },
  {
   "cell_type": "code",
   "execution_count": 109,
   "id": "19306c32-22a6-4fd5-9293-e90dd8563e57",
   "metadata": {},
   "outputs": [
    {
     "name": "stdout",
     "output_type": "stream",
     "text": [
      "Shape: (12189, 2)\n"
     ]
    }
   ],
   "source": [
    "# Optional: Check the shape and preview to ensure data integrity\n",
    "print(\"Shape:\", df_test_path_sentence.shape)"
   ]
  },
  {
   "cell_type": "code",
   "execution_count": 110,
   "id": "9a57fbc5-13ab-4461-92bd-1fe1bdab0bd0",
   "metadata": {},
   "outputs": [],
   "source": [
    "df_test_path_sentence.index = range(1, len(df_test_path_sentence) + 1) # Reset the index and then set it to start from 1"
   ]
  },
  {
   "cell_type": "code",
   "execution_count": 111,
   "id": "a7951a04-288c-4160-995b-4126097cd2e1",
   "metadata": {},
   "outputs": [
    {
     "name": "stdout",
     "output_type": "stream",
     "text": [
      "                           path  \\\n",
      "1  common_voice_ta_28441667.mp3   \n",
      "2  common_voice_ta_30465365.mp3   \n",
      "3  common_voice_ta_26622621.mp3   \n",
      "4  common_voice_ta_24996970.mp3   \n",
      "5  common_voice_ta_27058221.mp3   \n",
      "\n",
      "                                            sentence  \n",
      "1  மக்களிடையே மீண்டும் சாதீய மனோநிலைகளைத் தோற்றுவ...  \n",
      "2  கிரேக்கர்கள் இந்த மாதிரியான வீண் கனவு காண்பதில...  \n",
      "3                              உங்கள் நோக்கு புதிது.  \n",
      "4                  இந்த நாளில் அது மறைந்து வருகிறது.  \n",
      "5  அந்தப் பாட்டின் இரண்டாவது பகுதியில் இறைவனது தி...  \n"
     ]
    }
   ],
   "source": [
    "print(df_test_path_sentence.head()) # Now if you print head or tail, index starts from 1"
   ]
  },
  {
   "cell_type": "code",
   "execution_count": 112,
   "id": "3bdeb0f1-6d4b-4b7b-b0f0-0dab53a2aec9",
   "metadata": {},
   "outputs": [
    {
     "name": "stdout",
     "output_type": "stream",
     "text": [
      "                               path  \\\n",
      "12185  common_voice_ta_27638600.mp3   \n",
      "12186  common_voice_ta_27638601.mp3   \n",
      "12187  common_voice_ta_27638647.mp3   \n",
      "12188  common_voice_ta_27638648.mp3   \n",
      "12189  common_voice_ta_27638650.mp3   \n",
      "\n",
      "                                                sentence  \n",
      "12185  நிச்சயமாகச் சொல்லுகிறோம், இன்னொரு முறை குற்றம்...  \n",
      "12186  திருடனை உடனே கண்டுபிடிக்க வேண்டும் என்று அரசனி...  \n",
      "12187  மரங்கள் மண்ணிலிருந்து தண்ணிர், உரம் எடுத்துக் ...  \n",
      "12188  நாங்கள் சைதாப் பேட்டைக்கு வந்த நாளிலிருந்தே பா...  \n",
      "12189  அவருக்கு மட்டுமன்று பெருநோய் அவருடைய அன்பு மகள...  \n"
     ]
    }
   ],
   "source": [
    "print(df_test_path_sentence.tail())"
   ]
  },
  {
   "cell_type": "code",
   "execution_count": 113,
   "id": "df343c87-da1f-4db2-8353-97fe87fc09e0",
   "metadata": {},
   "outputs": [],
   "source": [
    "df_test_path_sentence.to_csv('test_path_sentence_updated.csv', index=False) # Save to CSV, keep the index in the file"
   ]
  },
  {
   "cell_type": "markdown",
   "id": "68b0822e-a351-4107-9bb6-e39b9c9cda12",
   "metadata": {},
   "source": [
    "**For Train.tsv**"
   ]
  },
  {
   "cell_type": "code",
   "execution_count": 114,
   "id": "b45a28b9-ef4c-48c4-a350-bfc4a25834c8",
   "metadata": {},
   "outputs": [
    {
     "name": "stdout",
     "output_type": "stream",
     "text": [
      "                                           client_id  \\\n",
      "0  a1252dd9f1a6c970da7b1a330ad07f9546330b5007dcd8...   \n",
      "1  a1252dd9f1a6c970da7b1a330ad07f9546330b5007dcd8...   \n",
      "2  a1252dd9f1a6c970da7b1a330ad07f9546330b5007dcd8...   \n",
      "3  a1252dd9f1a6c970da7b1a330ad07f9546330b5007dcd8...   \n",
      "4  a1252dd9f1a6c970da7b1a330ad07f9546330b5007dcd8...   \n",
      "5  a1252dd9f1a6c970da7b1a330ad07f9546330b5007dcd8...   \n",
      "6  a1252dd9f1a6c970da7b1a330ad07f9546330b5007dcd8...   \n",
      "7  a1252dd9f1a6c970da7b1a330ad07f9546330b5007dcd8...   \n",
      "8  a1252dd9f1a6c970da7b1a330ad07f9546330b5007dcd8...   \n",
      "9  a1252dd9f1a6c970da7b1a330ad07f9546330b5007dcd8...   \n",
      "\n",
      "                           path  \\\n",
      "0  common_voice_ta_26650298.mp3   \n",
      "1  common_voice_ta_26650300.mp3   \n",
      "2  common_voice_ta_26650301.mp3   \n",
      "3  common_voice_ta_26650302.mp3   \n",
      "4  common_voice_ta_26650308.mp3   \n",
      "5  common_voice_ta_26650309.mp3   \n",
      "6  common_voice_ta_26650310.mp3   \n",
      "7  common_voice_ta_26650311.mp3   \n",
      "8  common_voice_ta_26650313.mp3   \n",
      "9  common_voice_ta_26650314.mp3   \n",
      "\n",
      "                                         sentence_id  \\\n",
      "0  a3b005b1247373349d5e0447e9e4902d604c3b76480084...   \n",
      "1  9bc81b349ef9bf803575b248f9a47fd042509e9f052086...   \n",
      "2  a0d04a925abcaccf483f41c140c2ddea640e19e32ce892...   \n",
      "3  a8064c6e96615d511ea238bb83a4e1e4dd23e02343d5f1...   \n",
      "4  a6db67c889502d5fe6f21d64e299495e55eef749532f46...   \n",
      "5  a7e61acf43e64f7b615e8997337c4be8736bb03b923916...   \n",
      "6  a5873639e4c2474f9b2233ee163609cbdb518eddd5c20a...   \n",
      "7  a450c71b1242faac1b81300c119472fdcbbc9ce3c47f4e...   \n",
      "8  a7c139726273562e9baf7e17c8d28ac48d0c075702f098...   \n",
      "9  a80204523dedbbf5f1b1c1ecc55c1098745329e7b83147...   \n",
      "\n",
      "                                            sentence  sentence_domain  \\\n",
      "0  அவரைப் பொதுமக்கள் விடாமல் பின்னாலேயே துரத்திக்...              NaN   \n",
      "1                    மனிதனுடைய இன்பங்கள் இரண்டு வகை.              NaN   \n",
      "2  ஆனால் குடியிருக்கும் போதாவது அது நமக்கு முழுச்...              NaN   \n",
      "3  எட்டையபுர ஜமீன்தார் அவர்கள் தன்னுடைய பெரிய வீட...              NaN   \n",
      "4  கல்லிலே பெரும் பகுதியைப் பெருமானுக்கும் கருடனு...              NaN   \n",
      "5  கொங்குநாடும் அதன் வளமிக்க குறிஞ்சியான கொல்லியு...              NaN   \n",
      "6  வெளிச்சத்தில் பாலுவை ரத்தம் தோய்ந்த பிச்சுவாவு...              NaN   \n",
      "7           பித்திகை முகையை எழுத்தாணியாகக் கொண்டாள்.              NaN   \n",
      "8  விருப்பு வெறுப்பு என்பது அவனிடம் இருப்புக் கொள...              NaN   \n",
      "9  பெரும்பாலும், மக்களுக்குள் அவை மறைந்தும் இருந்...              NaN   \n",
      "\n",
      "   up_votes  down_votes      age           gender  accents  variant locale  \\\n",
      "0         2           0  fifties  female_feminine      NaN      NaN     ta   \n",
      "1         2           0  fifties  female_feminine      NaN      NaN     ta   \n",
      "2         2           0  fifties  female_feminine      NaN      NaN     ta   \n",
      "3         2           0  fifties  female_feminine      NaN      NaN     ta   \n",
      "4         2           0  fifties  female_feminine      NaN      NaN     ta   \n",
      "5         2           0  fifties  female_feminine      NaN      NaN     ta   \n",
      "6         2           0  fifties  female_feminine      NaN      NaN     ta   \n",
      "7         2           0  fifties  female_feminine      NaN      NaN     ta   \n",
      "8         3           0  fifties  female_feminine      NaN      NaN     ta   \n",
      "9         2           0  fifties  female_feminine      NaN      NaN     ta   \n",
      "\n",
      "   segment  \n",
      "0      NaN  \n",
      "1      NaN  \n",
      "2      NaN  \n",
      "3      NaN  \n",
      "4      NaN  \n",
      "5      NaN  \n",
      "6      NaN  \n",
      "7      NaN  \n",
      "8      NaN  \n",
      "9      NaN  \n",
      "Total rows: 45770\n",
      "Total columns: 13\n"
     ]
    }
   ],
   "source": [
    "train_tsv_file_path = \"/home/jovyan/work/Datasets/cv-corpus/cv-corpus-19.0-2024-09-13/ta/train.tsv\"\n",
    "df = pd.read_csv(train_tsv_file_path, sep='\\t') # Load and preview the TSV file\n",
    "print(df.head(10)) # Display the first 10 rows\n",
    "print(\"Total rows:\", df.shape[0]) # Show the number of rows and columns\n",
    "print(\"Total columns:\", df.shape[1])"
   ]
  },
  {
   "cell_type": "code",
   "execution_count": 115,
   "id": "322dff9e-713e-40ff-b2a7-f807d05fc3f8",
   "metadata": {},
   "outputs": [
    {
     "name": "stdout",
     "output_type": "stream",
     "text": [
      "                                           client_id  \\\n",
      "0  a1252dd9f1a6c970da7b1a330ad07f9546330b5007dcd8...   \n",
      "1  a1252dd9f1a6c970da7b1a330ad07f9546330b5007dcd8...   \n",
      "2  a1252dd9f1a6c970da7b1a330ad07f9546330b5007dcd8...   \n",
      "3  a1252dd9f1a6c970da7b1a330ad07f9546330b5007dcd8...   \n",
      "4  a1252dd9f1a6c970da7b1a330ad07f9546330b5007dcd8...   \n",
      "\n",
      "                           path  \\\n",
      "0  common_voice_ta_26650298.mp3   \n",
      "1  common_voice_ta_26650300.mp3   \n",
      "2  common_voice_ta_26650301.mp3   \n",
      "3  common_voice_ta_26650302.mp3   \n",
      "4  common_voice_ta_26650308.mp3   \n",
      "\n",
      "                                         sentence_id  \\\n",
      "0  a3b005b1247373349d5e0447e9e4902d604c3b76480084...   \n",
      "1  9bc81b349ef9bf803575b248f9a47fd042509e9f052086...   \n",
      "2  a0d04a925abcaccf483f41c140c2ddea640e19e32ce892...   \n",
      "3  a8064c6e96615d511ea238bb83a4e1e4dd23e02343d5f1...   \n",
      "4  a6db67c889502d5fe6f21d64e299495e55eef749532f46...   \n",
      "\n",
      "                                            sentence  sentence_domain  \\\n",
      "0  அவரைப் பொதுமக்கள் விடாமல் பின்னாலேயே துரத்திக்...              NaN   \n",
      "1                    மனிதனுடைய இன்பங்கள் இரண்டு வகை.              NaN   \n",
      "2  ஆனால் குடியிருக்கும் போதாவது அது நமக்கு முழுச்...              NaN   \n",
      "3  எட்டையபுர ஜமீன்தார் அவர்கள் தன்னுடைய பெரிய வீட...              NaN   \n",
      "4  கல்லிலே பெரும் பகுதியைப் பெருமானுக்கும் கருடனு...              NaN   \n",
      "\n",
      "   up_votes  down_votes      age           gender  accents  variant locale  \\\n",
      "0         2           0  fifties  female_feminine      NaN      NaN     ta   \n",
      "1         2           0  fifties  female_feminine      NaN      NaN     ta   \n",
      "2         2           0  fifties  female_feminine      NaN      NaN     ta   \n",
      "3         2           0  fifties  female_feminine      NaN      NaN     ta   \n",
      "4         2           0  fifties  female_feminine      NaN      NaN     ta   \n",
      "\n",
      "   segment  \n",
      "0      NaN  \n",
      "1      NaN  \n",
      "2      NaN  \n",
      "3      NaN  \n",
      "4      NaN  \n"
     ]
    }
   ],
   "source": [
    "print(df.head(5))"
   ]
  },
  {
   "cell_type": "code",
   "execution_count": 116,
   "id": "96653e07-8af3-4386-9f92-c2dec334e2c0",
   "metadata": {},
   "outputs": [
    {
     "name": "stdout",
     "output_type": "stream",
     "text": [
      "                                               client_id  \\\n",
      "45765  b85e0c9ae3d43b73fa66b1bff0f042a0498a6210f9bc87...   \n",
      "45766  b85e0c9ae3d43b73fa66b1bff0f042a0498a6210f9bc87...   \n",
      "45767  b85e0c9ae3d43b73fa66b1bff0f042a0498a6210f9bc87...   \n",
      "45768  b85e0c9ae3d43b73fa66b1bff0f042a0498a6210f9bc87...   \n",
      "45769  b85e0c9ae3d43b73fa66b1bff0f042a0498a6210f9bc87...   \n",
      "\n",
      "                               path  \\\n",
      "45765  common_voice_ta_34515372.mp3   \n",
      "45766  common_voice_ta_34515408.mp3   \n",
      "45767  common_voice_ta_34907643.mp3   \n",
      "45768  common_voice_ta_34959575.mp3   \n",
      "45769  common_voice_ta_35021699.mp3   \n",
      "\n",
      "                                             sentence_id  \\\n",
      "45765  a0ba9155d340a7d025ba4260c686fa7956cb883e5b2d1e...   \n",
      "45766  9c9b25412462a367d43c06e954aca7c5fb8a59aadbad25...   \n",
      "45767  a2584461cd52fcd496d129fb508c559d0524bfc1c8e5e8...   \n",
      "45768  a4dd3c96bd69a2df9376e8a283b173f603f2258e82ae3f...   \n",
      "45769  a3f6935f6d16899c6cb87f7bb44b1e6c940fb0cba0cf53...   \n",
      "\n",
      "                                                sentence  sentence_domain  \\\n",
      "45765  மின்னோட்டம், மின்தடை, மின்னழுத்தம் முதலியவற்றை...              NaN   \n",
      "45766  இந்திரனைச் சந்திரனை இலையாலே மறைப்பாள் எமதர்ம ர...              NaN   \n",
      "45767  வாழ்க்கையை மறுக்கும் அணியினர் பேச்சை அன்புகூர்...              NaN   \n",
      "45768              அந்தக் கடைதான் என்று முடிவு செய்தான்.              NaN   \n",
      "45769  நரகத்திற்குக் காவலாக ஒரு பெரிய நாய் இருந்து வந...              NaN   \n",
      "\n",
      "       up_votes  down_votes  age gender  accents  variant locale  segment  \n",
      "45765         2           0  NaN    NaN      NaN      NaN     ta      NaN  \n",
      "45766         2           0  NaN    NaN      NaN      NaN     ta      NaN  \n",
      "45767         2           0  NaN    NaN      NaN      NaN     ta      NaN  \n",
      "45768         2           0  NaN    NaN      NaN      NaN     ta      NaN  \n",
      "45769         2           0  NaN    NaN      NaN      NaN     ta      NaN  \n"
     ]
    }
   ],
   "source": [
    "print(df.tail(5))"
   ]
  },
  {
   "cell_type": "code",
   "execution_count": 117,
   "id": "35f5eabb-75f8-4cb9-8a0d-45c795c8490d",
   "metadata": {},
   "outputs": [
    {
     "name": "stdout",
     "output_type": "stream",
     "text": [
      "Total rows: 45770\n"
     ]
    }
   ],
   "source": [
    "print(\"Total rows:\", len(df))"
   ]
  },
  {
   "cell_type": "code",
   "execution_count": 118,
   "id": "a25d5c64-4a6d-4564-b732-e861a97865a1",
   "metadata": {},
   "outputs": [
    {
     "name": "stdout",
     "output_type": "stream",
     "text": [
      "Total lines (including header): 46069\n",
      "Total data rows: 46068\n"
     ]
    }
   ],
   "source": [
    "with open(train_tsv_file_path, 'r', encoding='utf-8') as file:\n",
    "    total_lines = sum(1 for line in file)\n",
    "print(\"Total lines (including header):\", total_lines)\n",
    "print(\"Total data rows:\", total_lines - 1)"
   ]
  },
  {
   "cell_type": "code",
   "execution_count": 119,
   "id": "0d7e6ffc-781e-456c-8ae5-c98cc2abc728",
   "metadata": {},
   "outputs": [
    {
     "name": "stdout",
     "output_type": "stream",
     "text": [
      "Number of bad lines: 0\n",
      "Example bad line: None\n"
     ]
    }
   ],
   "source": [
    "train_bad_lines = []\n",
    "with open(train_tsv_file_path, 'r', encoding='utf-8') as file:\n",
    "    for i, line in enumerate(file):\n",
    "        if line.count('\\t') != 12:  # 13 columns → 12 tabs\n",
    "            train_bad_lines.append((i, line.strip()))\n",
    "print(f\"Number of bad lines: {len(train_bad_lines)}\")\n",
    "print(\"Example bad line:\", train_bad_lines[0] if train_bad_lines else \"None\")"
   ]
  },
  {
   "cell_type": "code",
   "execution_count": 121,
   "id": "da4be568-fd1d-440f-adbd-1decb98517b8",
   "metadata": {},
   "outputs": [
    {
     "name": "stdout",
     "output_type": "stream",
     "text": [
      "Rows loaded: 45770\n",
      "Completely empty rows: 0\n",
      "Rows with missing sentence: 0\n",
      "Duplicate header rows: 0\n"
     ]
    }
   ],
   "source": [
    "df = pd.read_csv(train_tsv_file_path, sep='\\t', dtype=str)  # Keep all as string to avoid parsing issues\n",
    "print(\"Rows loaded:\", len(df)) # Check total number of rows loaded\n",
    "empty_rows = df.isnull().all(axis=1).sum() # Check how many rows are completely empty (NaN in all columns)\n",
    "print(\"Completely empty rows:\", empty_rows)\n",
    "nan_sentences = df['sentence'].isnull().sum() # Check for rows with NaN in essential columns (like 'sentence')\n",
    "print(\"Rows with missing sentence:\", nan_sentences)\n",
    "with open(train_tsv_file_path, \"r\", encoding=\"utf-8\") as f:\n",
    "    header_line = f.readline().strip()\n",
    "    duplicate_header_count = sum(1 for line in f if line.strip() == header_line)\n",
    "print(\"Duplicate header rows:\", duplicate_header_count)"
   ]
  },
  {
   "cell_type": "code",
   "execution_count": 122,
   "id": "8ce95eac-85b7-48d0-9f0a-085c9f368b06",
   "metadata": {},
   "outputs": [
    {
     "name": "stdout",
     "output_type": "stream",
     "text": [
      "Rows loaded (with warnings): 46068\n"
     ]
    }
   ],
   "source": [
    "df_train_all = pd.read_csv(\n",
    "    train_tsv_file_path,\n",
    "    sep='\\t',\n",
    "    quoting=3,  # Ignore quote handling\n",
    "    on_bad_lines='warn',\n",
    "    encoding='utf-8'\n",
    ")\n",
    "print(\"Rows loaded (with warnings):\", len(df_train_all))"
   ]
  },
  {
   "cell_type": "code",
   "execution_count": 123,
   "id": "648ae4df-8abb-45cf-910b-64bc5d093830",
   "metadata": {},
   "outputs": [
    {
     "name": "stdout",
     "output_type": "stream",
     "text": [
      "Columns:\n",
      " ['client_id', 'path', 'sentence_id', 'sentence', 'sentence_domain', 'up_votes', 'down_votes', 'age', 'gender', 'accents', 'variant', 'locale', 'segment']\n",
      "\n",
      "Shape (rows, columns): (45770, 13)\n",
      "\n",
      "Total Rows: 45770\n",
      "Total Columns: 13\n"
     ]
    }
   ],
   "source": [
    "#checking\n",
    "print(\"Columns:\\n\", df.columns.tolist()) # View column names\n",
    "print(\"\\nShape (rows, columns):\", df.shape) # View number of rows and columns\n",
    "print(\"\\nTotal Rows:\", df.shape[0])\n",
    "print(\"Total Columns:\", df.shape[1])"
   ]
  },
  {
   "cell_type": "code",
   "execution_count": 124,
   "id": "56a33e80-7f4a-47ba-a526-a452d4ae6aa5",
   "metadata": {},
   "outputs": [
    {
     "name": "stdout",
     "output_type": "stream",
     "text": [
      "Columns:\n",
      " ['client_id', 'path', 'sentence_id', 'sentence', 'sentence_domain', 'up_votes', 'down_votes', 'age', 'gender', 'accents', 'variant', 'locale', 'segment']\n",
      "\n",
      "Shape (rows, columns): (46068, 13)\n",
      "\n",
      "Total Rows: 46068\n",
      "Total Columns: 13\n"
     ]
    }
   ],
   "source": [
    "print(\"Columns:\\n\", df_train_all.columns.tolist()) # View column names\n",
    "print(\"\\nShape (rows, columns):\", df_train_all.shape) # View number of rows and columns\n",
    "print(\"\\nTotal Rows:\", df_train_all.shape[0])\n",
    "print(\"Total Columns:\", df_train_all.shape[1])"
   ]
  },
  {
   "cell_type": "code",
   "execution_count": 125,
   "id": "e5b36f1d-cd01-4cac-8f6f-70c264ffd0be",
   "metadata": {},
   "outputs": [
    {
     "name": "stdout",
     "output_type": "stream",
     "text": [
      "First 5 rows:\n"
     ]
    },
    {
     "data": {
      "text/html": [
       "<div>\n",
       "<style scoped>\n",
       "    .dataframe tbody tr th:only-of-type {\n",
       "        vertical-align: middle;\n",
       "    }\n",
       "\n",
       "    .dataframe tbody tr th {\n",
       "        vertical-align: top;\n",
       "    }\n",
       "\n",
       "    .dataframe thead th {\n",
       "        text-align: right;\n",
       "    }\n",
       "</style>\n",
       "<table border=\"1\" class=\"dataframe\">\n",
       "  <thead>\n",
       "    <tr style=\"text-align: right;\">\n",
       "      <th></th>\n",
       "      <th>path</th>\n",
       "      <th>sentence</th>\n",
       "    </tr>\n",
       "  </thead>\n",
       "  <tbody>\n",
       "    <tr>\n",
       "      <th>0</th>\n",
       "      <td>common_voice_ta_26650298.mp3</td>\n",
       "      <td>அவரைப் பொதுமக்கள் விடாமல் பின்னாலேயே துரத்திக்...</td>\n",
       "    </tr>\n",
       "    <tr>\n",
       "      <th>1</th>\n",
       "      <td>common_voice_ta_26650300.mp3</td>\n",
       "      <td>மனிதனுடைய இன்பங்கள் இரண்டு வகை.</td>\n",
       "    </tr>\n",
       "    <tr>\n",
       "      <th>2</th>\n",
       "      <td>common_voice_ta_26650301.mp3</td>\n",
       "      <td>ஆனால் குடியிருக்கும் போதாவது அது நமக்கு முழுச்...</td>\n",
       "    </tr>\n",
       "    <tr>\n",
       "      <th>3</th>\n",
       "      <td>common_voice_ta_26650302.mp3</td>\n",
       "      <td>எட்டையபுர ஜமீன்தார் அவர்கள் தன்னுடைய பெரிய வீட...</td>\n",
       "    </tr>\n",
       "    <tr>\n",
       "      <th>4</th>\n",
       "      <td>common_voice_ta_26650308.mp3</td>\n",
       "      <td>கல்லிலே பெரும் பகுதியைப் பெருமானுக்கும் கருடனு...</td>\n",
       "    </tr>\n",
       "  </tbody>\n",
       "</table>\n",
       "</div>"
      ],
      "text/plain": [
       "                           path  \\\n",
       "0  common_voice_ta_26650298.mp3   \n",
       "1  common_voice_ta_26650300.mp3   \n",
       "2  common_voice_ta_26650301.mp3   \n",
       "3  common_voice_ta_26650302.mp3   \n",
       "4  common_voice_ta_26650308.mp3   \n",
       "\n",
       "                                            sentence  \n",
       "0  அவரைப் பொதுமக்கள் விடாமல் பின்னாலேயே துரத்திக்...  \n",
       "1                    மனிதனுடைய இன்பங்கள் இரண்டு வகை.  \n",
       "2  ஆனால் குடியிருக்கும் போதாவது அது நமக்கு முழுச்...  \n",
       "3  எட்டையபுர ஜமீன்தார் அவர்கள் தன்னுடைய பெரிய வீட...  \n",
       "4  கல்லிலே பெரும் பகுதியைப் பெருமானுக்கும் கருடனு...  "
      ]
     },
     "metadata": {},
     "output_type": "display_data"
    },
    {
     "name": "stdout",
     "output_type": "stream",
     "text": [
      "None\n"
     ]
    }
   ],
   "source": [
    "print(\"First 5 rows:\") # Display first 5 rows of 'path' and 'sentence'\n",
    "print(display(df_train_all[['path', 'sentence']].head()))"
   ]
  },
  {
   "cell_type": "code",
   "execution_count": 126,
   "id": "399e200c-6576-4394-934c-8109cd817632",
   "metadata": {},
   "outputs": [
    {
     "name": "stdout",
     "output_type": "stream",
     "text": [
      "Last 5 rows:\n"
     ]
    },
    {
     "data": {
      "text/html": [
       "<div>\n",
       "<style scoped>\n",
       "    .dataframe tbody tr th:only-of-type {\n",
       "        vertical-align: middle;\n",
       "    }\n",
       "\n",
       "    .dataframe tbody tr th {\n",
       "        vertical-align: top;\n",
       "    }\n",
       "\n",
       "    .dataframe thead th {\n",
       "        text-align: right;\n",
       "    }\n",
       "</style>\n",
       "<table border=\"1\" class=\"dataframe\">\n",
       "  <thead>\n",
       "    <tr style=\"text-align: right;\">\n",
       "      <th></th>\n",
       "      <th>path</th>\n",
       "      <th>sentence</th>\n",
       "    </tr>\n",
       "  </thead>\n",
       "  <tbody>\n",
       "    <tr>\n",
       "      <th>46063</th>\n",
       "      <td>common_voice_ta_34515372.mp3</td>\n",
       "      <td>மின்னோட்டம், மின்தடை, மின்னழுத்தம் முதலியவற்றை...</td>\n",
       "    </tr>\n",
       "    <tr>\n",
       "      <th>46064</th>\n",
       "      <td>common_voice_ta_34515408.mp3</td>\n",
       "      <td>இந்திரனைச் சந்திரனை இலையாலே மறைப்பாள் எமதர்ம ர...</td>\n",
       "    </tr>\n",
       "    <tr>\n",
       "      <th>46065</th>\n",
       "      <td>common_voice_ta_34907643.mp3</td>\n",
       "      <td>வாழ்க்கையை மறுக்கும் அணியினர் பேச்சை அன்புகூர்...</td>\n",
       "    </tr>\n",
       "    <tr>\n",
       "      <th>46066</th>\n",
       "      <td>common_voice_ta_34959575.mp3</td>\n",
       "      <td>அந்தக் கடைதான் என்று முடிவு செய்தான்.</td>\n",
       "    </tr>\n",
       "    <tr>\n",
       "      <th>46067</th>\n",
       "      <td>common_voice_ta_35021699.mp3</td>\n",
       "      <td>நரகத்திற்குக் காவலாக ஒரு பெரிய நாய் இருந்து வந...</td>\n",
       "    </tr>\n",
       "  </tbody>\n",
       "</table>\n",
       "</div>"
      ],
      "text/plain": [
       "                               path  \\\n",
       "46063  common_voice_ta_34515372.mp3   \n",
       "46064  common_voice_ta_34515408.mp3   \n",
       "46065  common_voice_ta_34907643.mp3   \n",
       "46066  common_voice_ta_34959575.mp3   \n",
       "46067  common_voice_ta_35021699.mp3   \n",
       "\n",
       "                                                sentence  \n",
       "46063  மின்னோட்டம், மின்தடை, மின்னழுத்தம் முதலியவற்றை...  \n",
       "46064  இந்திரனைச் சந்திரனை இலையாலே மறைப்பாள் எமதர்ம ர...  \n",
       "46065  வாழ்க்கையை மறுக்கும் அணியினர் பேச்சை அன்புகூர்...  \n",
       "46066              அந்தக் கடைதான் என்று முடிவு செய்தான்.  \n",
       "46067  நரகத்திற்குக் காவலாக ஒரு பெரிய நாய் இருந்து வந...  "
      ]
     },
     "metadata": {},
     "output_type": "display_data"
    },
    {
     "name": "stdout",
     "output_type": "stream",
     "text": [
      "None\n"
     ]
    }
   ],
   "source": [
    "print(\"Last 5 rows:\") # Display last 5 rows of 'path' and 'sentence'\n",
    "print(display(df_train_all[['path', 'sentence']].tail()))"
   ]
  },
  {
   "cell_type": "markdown",
   "id": "4df5e6fc-6a27-4819-b616-2a4491e9db92",
   "metadata": {},
   "source": [
    "For train_path_sentence_updated csv file"
   ]
  },
  {
   "cell_type": "code",
   "execution_count": 127,
   "id": "6c690ab5-6959-4d15-8b10-72d779abf3ac",
   "metadata": {},
   "outputs": [],
   "source": [
    "df_train_path_sentence = df_train_all[['path', 'sentence']].copy() # Select only the 'path' and 'sentence' columns"
   ]
  },
  {
   "cell_type": "code",
   "execution_count": 128,
   "id": "79478656-73a7-4985-981b-564c3ca640ed",
   "metadata": {},
   "outputs": [
    {
     "name": "stdout",
     "output_type": "stream",
     "text": [
      "Shape: (46068, 2)\n"
     ]
    }
   ],
   "source": [
    "# Optional: Check the shape and preview to ensure data integrity\n",
    "print(\"Shape:\", df_train_path_sentence.shape)"
   ]
  },
  {
   "cell_type": "code",
   "execution_count": 129,
   "id": "4fffbbd4-75f2-4917-b704-579a72a28e6c",
   "metadata": {},
   "outputs": [],
   "source": [
    "df_train_path_sentence.index = range(1, len(df_train_path_sentence) + 1) # Reset the index and then set it to start from 1"
   ]
  },
  {
   "cell_type": "code",
   "execution_count": 130,
   "id": "94897018-ab6f-4c2c-94dc-94146d1da388",
   "metadata": {},
   "outputs": [
    {
     "name": "stdout",
     "output_type": "stream",
     "text": [
      "                           path  \\\n",
      "1  common_voice_ta_26650298.mp3   \n",
      "2  common_voice_ta_26650300.mp3   \n",
      "3  common_voice_ta_26650301.mp3   \n",
      "4  common_voice_ta_26650302.mp3   \n",
      "5  common_voice_ta_26650308.mp3   \n",
      "\n",
      "                                            sentence  \n",
      "1  அவரைப் பொதுமக்கள் விடாமல் பின்னாலேயே துரத்திக்...  \n",
      "2                    மனிதனுடைய இன்பங்கள் இரண்டு வகை.  \n",
      "3  ஆனால் குடியிருக்கும் போதாவது அது நமக்கு முழுச்...  \n",
      "4  எட்டையபுர ஜமீன்தார் அவர்கள் தன்னுடைய பெரிய வீட...  \n",
      "5  கல்லிலே பெரும் பகுதியைப் பெருமானுக்கும் கருடனு...  \n"
     ]
    }
   ],
   "source": [
    "print(df_train_path_sentence.head()) # Now if you print head or tail, index starts from 1"
   ]
  },
  {
   "cell_type": "code",
   "execution_count": 132,
   "id": "1c4ce7d4-69c9-47f2-acf0-19301927921b",
   "metadata": {},
   "outputs": [
    {
     "name": "stdout",
     "output_type": "stream",
     "text": [
      "                               path  \\\n",
      "46064  common_voice_ta_34515372.mp3   \n",
      "46065  common_voice_ta_34515408.mp3   \n",
      "46066  common_voice_ta_34907643.mp3   \n",
      "46067  common_voice_ta_34959575.mp3   \n",
      "46068  common_voice_ta_35021699.mp3   \n",
      "\n",
      "                                                sentence  \n",
      "46064  மின்னோட்டம், மின்தடை, மின்னழுத்தம் முதலியவற்றை...  \n",
      "46065  இந்திரனைச் சந்திரனை இலையாலே மறைப்பாள் எமதர்ம ர...  \n",
      "46066  வாழ்க்கையை மறுக்கும் அணியினர் பேச்சை அன்புகூர்...  \n",
      "46067              அந்தக் கடைதான் என்று முடிவு செய்தான்.  \n",
      "46068  நரகத்திற்குக் காவலாக ஒரு பெரிய நாய் இருந்து வந...  \n"
     ]
    }
   ],
   "source": [
    "print(df_train_path_sentence.tail())"
   ]
  },
  {
   "cell_type": "code",
   "execution_count": 133,
   "id": "87949ed0-fbe9-4629-af74-569c9e0272da",
   "metadata": {},
   "outputs": [],
   "source": [
    "df_train_path_sentence.to_csv('train_path_sentence_updated.csv', index=False) # Save to CSV, keep the index in the file"
   ]
  },
  {
   "cell_type": "markdown",
   "id": "6b517789-4d66-4441-8e71-3ff9b2c6c736",
   "metadata": {},
   "source": [
    "**For validated.tsv file**"
   ]
  },
  {
   "cell_type": "code",
   "execution_count": 134,
   "id": "bcdd8349-b1d7-4073-a9c9-ce4894cc8b6c",
   "metadata": {},
   "outputs": [
    {
     "name": "stdout",
     "output_type": "stream",
     "text": [
      "                                           client_id  \\\n",
      "0  01d7a8109646317f5c18c445cdc1455d3531ac1b63c19c...   \n",
      "1  031844188d789537f91c8368a4c2229289567727ff76d7...   \n",
      "2  049b3de3ae6801ef5033ec9f70f62ec00b5f76d907293d...   \n",
      "3  0d57f897226d23d7bcfd55f2322f195cfc3ccbd74b2199...   \n",
      "4  15eeac1471cd225a23830c8d11e23bd55972283274fca9...   \n",
      "5  1dd6f154f831155c19fbbc4aacf6240ecba021a4f0d4f9...   \n",
      "6  2812849479fbeedb77ef323bd4b2b584cf2fb2351a71cc...   \n",
      "7  32f319fef90857525e86d7208896001809972742bf85c2...   \n",
      "8  36c8e60e3f933bfd70de6359683546d72a35b337a1df1e...   \n",
      "9  424e6a8b49c709a75b609d505713ae1a594282a2385f6a...   \n",
      "\n",
      "                           path  \\\n",
      "0  common_voice_ta_28441667.mp3   \n",
      "1  common_voice_ta_30465365.mp3   \n",
      "2  common_voice_ta_26622621.mp3   \n",
      "3  common_voice_ta_24996970.mp3   \n",
      "4  common_voice_ta_27058221.mp3   \n",
      "5  common_voice_ta_28781016.mp3   \n",
      "6  common_voice_ta_37163911.mp3   \n",
      "7  common_voice_ta_29624933.mp3   \n",
      "8  common_voice_ta_34938447.mp3   \n",
      "9  common_voice_ta_38775030.mp3   \n",
      "\n",
      "                                         sentence_id  \\\n",
      "0  4ece3b00fb6122f171a053ba9b1d88dac709392f8f693b...   \n",
      "1  2290ed298076073a66ae3d299cd6d50cd977366f950dd6...   \n",
      "2  9ddf575639ea30252381fb38eb815bb0481e534a75dc65...   \n",
      "3  0f8d8590713f64c96711dac47a3717ae9d8d9d058a58eb...   \n",
      "4  177f22c6cb0eb06387af659e226b3ce32205da2fa35b5b...   \n",
      "5  95fb9d62d0ba605138d1032e871ed5cc662030a9280cab...   \n",
      "6  a36f2964c3f716e78a3c0ce5d4d8184745158a4f7ede67...   \n",
      "7  e7af2bfeab96bbaf48cdcdc9f97d357e8626c12059605d...   \n",
      "8  9da5fc3a340c276b6f67f474c9889086c345c66e868832...   \n",
      "9  b298beb8adf6668cc21e7aab3d725f58bc100483913fff...   \n",
      "\n",
      "                                            sentence  sentence_domain  \\\n",
      "0  மக்களிடையே மீண்டும் சாதீய மனோநிலைகளைத் தோற்றுவ...              NaN   \n",
      "1  கிரேக்கர்கள் இந்த மாதிரியான வீண் கனவு காண்பதில...              NaN   \n",
      "2                              உங்கள் நோக்கு புதிது.              NaN   \n",
      "3                  இந்த நாளில் அது மறைந்து வருகிறது.              NaN   \n",
      "4  அந்தப் பாட்டின் இரண்டாவது பகுதியில் இறைவனது தி...              NaN   \n",
      "5       இவர்களிடம் இன்சொல்லை எவ்வாறு எதிர்பார்ப்பது?              NaN   \n",
      "6                          இதைப் பிரித்தவர்கள் யார்?              NaN   \n",
      "7               இவர்கள் ஜரிஷ் புரட்சிக் கூட்டத்தார்.              NaN   \n",
      "8  நான் ஒடிப்போய் அதனிடமிருந்து தப்பிவரத் தாமதமாய...              NaN   \n",
      "9  மருத்துவத் துறையிலும் உணவுத் துறையிலும் பயன்பட...              NaN   \n",
      "\n",
      "   up_votes  down_votes       age           gender accents  variant locale  \\\n",
      "0         2           1  twenties   male_masculine     NaN      NaN     ta   \n",
      "1         2           0  thirties   male_masculine     NaN      NaN     ta   \n",
      "2         3           2       NaN              NaN     NaN      NaN     ta   \n",
      "3         2           0       NaN              NaN     NaN      NaN     ta   \n",
      "4         3           0  thirties   male_masculine     NaN      NaN     ta   \n",
      "5         2           0       NaN              NaN     NaN      NaN     ta   \n",
      "6         2           0  twenties   male_masculine     NaN      NaN     ta   \n",
      "7         2           0  twenties  female_feminine     NaN      NaN     ta   \n",
      "8         2           0  fourties   male_masculine     NaN      NaN     ta   \n",
      "9         2           0       NaN              NaN     NaN      NaN     ta   \n",
      "\n",
      "  segment  \n",
      "0     NaN  \n",
      "1     NaN  \n",
      "2     NaN  \n",
      "3     NaN  \n",
      "4     NaN  \n",
      "5     NaN  \n",
      "6     NaN  \n",
      "7     NaN  \n",
      "8     NaN  \n",
      "9     NaN  \n",
      "Total rows: 117086\n",
      "Total columns: 13\n"
     ]
    },
    {
     "name": "stderr",
     "output_type": "stream",
     "text": [
      "/tmp/ipykernel_1448709/1647130534.py:2: DtypeWarning: Columns (7,8,9,12) have mixed types. Specify dtype option on import or set low_memory=False.\n",
      "  df = pd.read_csv(validated_tsv_file_path, sep='\\t') # Load and preview the TSV file\n"
     ]
    }
   ],
   "source": [
    "validated_tsv_file_path = \"/home/jovyan/work/Datasets/cv-corpus/cv-corpus-19.0-2024-09-13/ta/validated.tsv\"\n",
    "df = pd.read_csv(validated_tsv_file_path, sep='\\t') # Load and preview the TSV file\n",
    "print(df.head(10)) # Display the first 10 rows\n",
    "print(\"Total rows:\", df.shape[0]) # Show the number of rows and columns\n",
    "print(\"Total columns:\", df.shape[1])"
   ]
  },
  {
   "cell_type": "code",
   "execution_count": 135,
   "id": "7b443d7c-c507-4515-aab1-1a98423aae2b",
   "metadata": {},
   "outputs": [
    {
     "name": "stdout",
     "output_type": "stream",
     "text": [
      "                                           client_id  \\\n",
      "0  01d7a8109646317f5c18c445cdc1455d3531ac1b63c19c...   \n",
      "1  031844188d789537f91c8368a4c2229289567727ff76d7...   \n",
      "2  049b3de3ae6801ef5033ec9f70f62ec00b5f76d907293d...   \n",
      "3  0d57f897226d23d7bcfd55f2322f195cfc3ccbd74b2199...   \n",
      "4  15eeac1471cd225a23830c8d11e23bd55972283274fca9...   \n",
      "\n",
      "                           path  \\\n",
      "0  common_voice_ta_28441667.mp3   \n",
      "1  common_voice_ta_30465365.mp3   \n",
      "2  common_voice_ta_26622621.mp3   \n",
      "3  common_voice_ta_24996970.mp3   \n",
      "4  common_voice_ta_27058221.mp3   \n",
      "\n",
      "                                         sentence_id  \\\n",
      "0  4ece3b00fb6122f171a053ba9b1d88dac709392f8f693b...   \n",
      "1  2290ed298076073a66ae3d299cd6d50cd977366f950dd6...   \n",
      "2  9ddf575639ea30252381fb38eb815bb0481e534a75dc65...   \n",
      "3  0f8d8590713f64c96711dac47a3717ae9d8d9d058a58eb...   \n",
      "4  177f22c6cb0eb06387af659e226b3ce32205da2fa35b5b...   \n",
      "\n",
      "                                            sentence  sentence_domain  \\\n",
      "0  மக்களிடையே மீண்டும் சாதீய மனோநிலைகளைத் தோற்றுவ...              NaN   \n",
      "1  கிரேக்கர்கள் இந்த மாதிரியான வீண் கனவு காண்பதில...              NaN   \n",
      "2                              உங்கள் நோக்கு புதிது.              NaN   \n",
      "3                  இந்த நாளில் அது மறைந்து வருகிறது.              NaN   \n",
      "4  அந்தப் பாட்டின் இரண்டாவது பகுதியில் இறைவனது தி...              NaN   \n",
      "\n",
      "   up_votes  down_votes       age          gender accents  variant locale  \\\n",
      "0         2           1  twenties  male_masculine     NaN      NaN     ta   \n",
      "1         2           0  thirties  male_masculine     NaN      NaN     ta   \n",
      "2         3           2       NaN             NaN     NaN      NaN     ta   \n",
      "3         2           0       NaN             NaN     NaN      NaN     ta   \n",
      "4         3           0  thirties  male_masculine     NaN      NaN     ta   \n",
      "\n",
      "  segment  \n",
      "0     NaN  \n",
      "1     NaN  \n",
      "2     NaN  \n",
      "3     NaN  \n",
      "4     NaN  \n"
     ]
    }
   ],
   "source": [
    "print(df.head(5))"
   ]
  },
  {
   "cell_type": "code",
   "execution_count": 136,
   "id": "5196e22b-3dc7-42b8-92fb-33b27dccb99a",
   "metadata": {},
   "outputs": [
    {
     "name": "stdout",
     "output_type": "stream",
     "text": [
      "                                                client_id  \\\n",
      "117081  b85e0c9ae3d43b73fa66b1bff0f042a0498a6210f9bc87...   \n",
      "117082  b85e0c9ae3d43b73fa66b1bff0f042a0498a6210f9bc87...   \n",
      "117083  b85e0c9ae3d43b73fa66b1bff0f042a0498a6210f9bc87...   \n",
      "117084  b85e0c9ae3d43b73fa66b1bff0f042a0498a6210f9bc87...   \n",
      "117085  b85e0c9ae3d43b73fa66b1bff0f042a0498a6210f9bc87...   \n",
      "\n",
      "                                path  \\\n",
      "117081  common_voice_ta_34515372.mp3   \n",
      "117082  common_voice_ta_34515408.mp3   \n",
      "117083  common_voice_ta_34907643.mp3   \n",
      "117084  common_voice_ta_34959575.mp3   \n",
      "117085  common_voice_ta_35021699.mp3   \n",
      "\n",
      "                                              sentence_id  \\\n",
      "117081  a0ba9155d340a7d025ba4260c686fa7956cb883e5b2d1e...   \n",
      "117082  9c9b25412462a367d43c06e954aca7c5fb8a59aadbad25...   \n",
      "117083  a2584461cd52fcd496d129fb508c559d0524bfc1c8e5e8...   \n",
      "117084  a4dd3c96bd69a2df9376e8a283b173f603f2258e82ae3f...   \n",
      "117085  a3f6935f6d16899c6cb87f7bb44b1e6c940fb0cba0cf53...   \n",
      "\n",
      "                                                 sentence  sentence_domain  \\\n",
      "117081  மின்னோட்டம், மின்தடை, மின்னழுத்தம் முதலியவற்றை...              NaN   \n",
      "117082  இந்திரனைச் சந்திரனை இலையாலே மறைப்பாள் எமதர்ம ர...              NaN   \n",
      "117083  வாழ்க்கையை மறுக்கும் அணியினர் பேச்சை அன்புகூர்...              NaN   \n",
      "117084              அந்தக் கடைதான் என்று முடிவு செய்தான்.              NaN   \n",
      "117085  நரகத்திற்குக் காவலாக ஒரு பெரிய நாய் இருந்து வந...              NaN   \n",
      "\n",
      "        up_votes  down_votes  age gender accents  variant locale segment  \n",
      "117081         2           0  NaN    NaN     NaN      NaN     ta     NaN  \n",
      "117082         2           0  NaN    NaN     NaN      NaN     ta     NaN  \n",
      "117083         2           0  NaN    NaN     NaN      NaN     ta     NaN  \n",
      "117084         2           0  NaN    NaN     NaN      NaN     ta     NaN  \n",
      "117085         2           0  NaN    NaN     NaN      NaN     ta     NaN  \n"
     ]
    }
   ],
   "source": [
    "print(df.tail(5))"
   ]
  },
  {
   "cell_type": "code",
   "execution_count": 137,
   "id": "879a3cf1-da06-4250-9417-39be9f6a1a90",
   "metadata": {},
   "outputs": [
    {
     "name": "stdout",
     "output_type": "stream",
     "text": [
      "Total rows: 117086\n"
     ]
    }
   ],
   "source": [
    "print(\"Total rows:\", len(df))"
   ]
  },
  {
   "cell_type": "code",
   "execution_count": 138,
   "id": "32cb49ef-7852-4b0e-9189-0ff364942ca9",
   "metadata": {},
   "outputs": [
    {
     "name": "stdout",
     "output_type": "stream",
     "text": [
      "Total lines (including header): 136082\n",
      "Total data rows: 136081\n"
     ]
    }
   ],
   "source": [
    "with open(validated_tsv_file_path, 'r', encoding='utf-8') as file:\n",
    "    total_lines = sum(1 for line in file)\n",
    "print(\"Total lines (including header):\", total_lines)\n",
    "print(\"Total data rows:\", total_lines - 1)"
   ]
  },
  {
   "cell_type": "code",
   "execution_count": 139,
   "id": "7215ee69-dbba-4600-946c-9b14a41eac94",
   "metadata": {},
   "outputs": [
    {
     "name": "stdout",
     "output_type": "stream",
     "text": [
      "Number of bad lines: 0\n",
      "Example bad line: None\n"
     ]
    }
   ],
   "source": [
    "validated_bad_lines = []\n",
    "with open(validated_tsv_file_path, 'r', encoding='utf-8') as file:\n",
    "    for i, line in enumerate(file):\n",
    "        if line.count('\\t') != 12:  # 13 columns → 12 tabs\n",
    "            validated_bad_lines.append((i, line.strip()))\n",
    "print(f\"Number of bad lines: {len(validated_bad_lines)}\")\n",
    "print(\"Example bad line:\", validated_bad_lines[0] if validated_bad_lines else \"None\")"
   ]
  },
  {
   "cell_type": "code",
   "execution_count": 140,
   "id": "c2edf005-c59b-4d17-a633-3d93a103be35",
   "metadata": {},
   "outputs": [
    {
     "name": "stdout",
     "output_type": "stream",
     "text": [
      "Rows loaded: 117086\n",
      "Completely empty rows: 0\n",
      "Rows with missing sentence: 0\n",
      "Duplicate header rows: 0\n"
     ]
    }
   ],
   "source": [
    "df = pd.read_csv(validated_tsv_file_path, sep='\\t', dtype=str)  # Keep all as string to avoid parsing issues\n",
    "print(\"Rows loaded:\", len(df)) # Check total number of rows loaded\n",
    "empty_rows = df.isnull().all(axis=1).sum() # Check how many rows are completely empty (NaN in all columns)\n",
    "print(\"Completely empty rows:\", empty_rows)\n",
    "nan_sentences = df['sentence'].isnull().sum() # Check for rows with NaN in essential columns (like 'sentence')\n",
    "print(\"Rows with missing sentence:\", nan_sentences)\n",
    "with open(validated_tsv_file_path, \"r\", encoding=\"utf-8\") as f:\n",
    "    header_line = f.readline().strip()\n",
    "    duplicate_header_count = sum(1 for line in f if line.strip() == header_line)\n",
    "print(\"Duplicate header rows:\", duplicate_header_count)"
   ]
  },
  {
   "cell_type": "code",
   "execution_count": 141,
   "id": "24e26f77-53cd-402e-a30c-3258a0dcbb9f",
   "metadata": {},
   "outputs": [
    {
     "name": "stdout",
     "output_type": "stream",
     "text": [
      "Rows loaded (with warnings): 136081\n"
     ]
    },
    {
     "name": "stderr",
     "output_type": "stream",
     "text": [
      "/tmp/ipykernel_1448709/588369486.py:1: DtypeWarning: Columns (7,8,9,12) have mixed types. Specify dtype option on import or set low_memory=False.\n",
      "  df_validated_all = pd.read_csv(\n"
     ]
    }
   ],
   "source": [
    "df_validated_all = pd.read_csv(\n",
    "    validated_tsv_file_path,\n",
    "    sep='\\t',\n",
    "    quoting=3,  # Ignore quote handling\n",
    "    on_bad_lines='warn',\n",
    "    encoding='utf-8'\n",
    ")\n",
    "print(\"Rows loaded (with warnings):\", len(df_validated_all))"
   ]
  },
  {
   "cell_type": "code",
   "execution_count": 142,
   "id": "c84377cb-e4ca-4d00-91f4-bae172ba0b69",
   "metadata": {},
   "outputs": [
    {
     "name": "stdout",
     "output_type": "stream",
     "text": [
      "Columns:\n",
      " ['client_id', 'path', 'sentence_id', 'sentence', 'sentence_domain', 'up_votes', 'down_votes', 'age', 'gender', 'accents', 'variant', 'locale', 'segment']\n",
      "\n",
      "Shape (rows, columns): (117086, 13)\n",
      "\n",
      "Total Rows: 117086\n",
      "Total Columns: 13\n"
     ]
    }
   ],
   "source": [
    "#checking\n",
    "print(\"Columns:\\n\", df.columns.tolist()) # View column names\n",
    "print(\"\\nShape (rows, columns):\", df.shape) # View number of rows and columns\n",
    "print(\"\\nTotal Rows:\", df.shape[0])\n",
    "print(\"Total Columns:\", df.shape[1])"
   ]
  },
  {
   "cell_type": "code",
   "execution_count": 143,
   "id": "b0dd511c-f3e7-4fb1-9368-1676dd99348e",
   "metadata": {},
   "outputs": [
    {
     "name": "stdout",
     "output_type": "stream",
     "text": [
      "Columns:\n",
      " ['client_id', 'path', 'sentence_id', 'sentence', 'sentence_domain', 'up_votes', 'down_votes', 'age', 'gender', 'accents', 'variant', 'locale', 'segment']\n",
      "\n",
      "Shape (rows, columns): (136081, 13)\n",
      "\n",
      "Total Rows: 136081\n",
      "Total Columns: 13\n"
     ]
    }
   ],
   "source": [
    "print(\"Columns:\\n\", df_validated_all.columns.tolist()) # View column names\n",
    "print(\"\\nShape (rows, columns):\", df_validated_all.shape) # View number of rows and columns\n",
    "print(\"\\nTotal Rows:\", df_validated_all.shape[0])\n",
    "print(\"Total Columns:\", df_validated_all.shape[1])"
   ]
  },
  {
   "cell_type": "code",
   "execution_count": 144,
   "id": "8053508c-5461-42d2-be0b-4df4cfeb73a8",
   "metadata": {},
   "outputs": [
    {
     "name": "stdout",
     "output_type": "stream",
     "text": [
      "First 5 rows:\n"
     ]
    },
    {
     "data": {
      "text/html": [
       "<div>\n",
       "<style scoped>\n",
       "    .dataframe tbody tr th:only-of-type {\n",
       "        vertical-align: middle;\n",
       "    }\n",
       "\n",
       "    .dataframe tbody tr th {\n",
       "        vertical-align: top;\n",
       "    }\n",
       "\n",
       "    .dataframe thead th {\n",
       "        text-align: right;\n",
       "    }\n",
       "</style>\n",
       "<table border=\"1\" class=\"dataframe\">\n",
       "  <thead>\n",
       "    <tr style=\"text-align: right;\">\n",
       "      <th></th>\n",
       "      <th>path</th>\n",
       "      <th>sentence</th>\n",
       "    </tr>\n",
       "  </thead>\n",
       "  <tbody>\n",
       "    <tr>\n",
       "      <th>0</th>\n",
       "      <td>common_voice_ta_28441667.mp3</td>\n",
       "      <td>மக்களிடையே மீண்டும் சாதீய மனோநிலைகளைத் தோற்றுவ...</td>\n",
       "    </tr>\n",
       "    <tr>\n",
       "      <th>1</th>\n",
       "      <td>common_voice_ta_30465365.mp3</td>\n",
       "      <td>கிரேக்கர்கள் இந்த மாதிரியான வீண் கனவு காண்பதில...</td>\n",
       "    </tr>\n",
       "    <tr>\n",
       "      <th>2</th>\n",
       "      <td>common_voice_ta_26622621.mp3</td>\n",
       "      <td>உங்கள் நோக்கு புதிது.</td>\n",
       "    </tr>\n",
       "    <tr>\n",
       "      <th>3</th>\n",
       "      <td>common_voice_ta_24996970.mp3</td>\n",
       "      <td>இந்த நாளில் அது மறைந்து வருகிறது.</td>\n",
       "    </tr>\n",
       "    <tr>\n",
       "      <th>4</th>\n",
       "      <td>common_voice_ta_27058221.mp3</td>\n",
       "      <td>அந்தப் பாட்டின் இரண்டாவது பகுதியில் இறைவனது தி...</td>\n",
       "    </tr>\n",
       "  </tbody>\n",
       "</table>\n",
       "</div>"
      ],
      "text/plain": [
       "                           path  \\\n",
       "0  common_voice_ta_28441667.mp3   \n",
       "1  common_voice_ta_30465365.mp3   \n",
       "2  common_voice_ta_26622621.mp3   \n",
       "3  common_voice_ta_24996970.mp3   \n",
       "4  common_voice_ta_27058221.mp3   \n",
       "\n",
       "                                            sentence  \n",
       "0  மக்களிடையே மீண்டும் சாதீய மனோநிலைகளைத் தோற்றுவ...  \n",
       "1  கிரேக்கர்கள் இந்த மாதிரியான வீண் கனவு காண்பதில...  \n",
       "2                              உங்கள் நோக்கு புதிது.  \n",
       "3                  இந்த நாளில் அது மறைந்து வருகிறது.  \n",
       "4  அந்தப் பாட்டின் இரண்டாவது பகுதியில் இறைவனது தி...  "
      ]
     },
     "metadata": {},
     "output_type": "display_data"
    },
    {
     "name": "stdout",
     "output_type": "stream",
     "text": [
      "None\n"
     ]
    }
   ],
   "source": [
    "print(\"First 5 rows:\") # Display first 5 rows of 'path' and 'sentence'\n",
    "print(display(df_validated_all[['path', 'sentence']].head()))"
   ]
  },
  {
   "cell_type": "code",
   "execution_count": 145,
   "id": "867c8c16-3b1f-416c-b6c3-5af4acfd1aa4",
   "metadata": {},
   "outputs": [
    {
     "name": "stdout",
     "output_type": "stream",
     "text": [
      "Last 5 rows:\n"
     ]
    },
    {
     "data": {
      "text/html": [
       "<div>\n",
       "<style scoped>\n",
       "    .dataframe tbody tr th:only-of-type {\n",
       "        vertical-align: middle;\n",
       "    }\n",
       "\n",
       "    .dataframe tbody tr th {\n",
       "        vertical-align: top;\n",
       "    }\n",
       "\n",
       "    .dataframe thead th {\n",
       "        text-align: right;\n",
       "    }\n",
       "</style>\n",
       "<table border=\"1\" class=\"dataframe\">\n",
       "  <thead>\n",
       "    <tr style=\"text-align: right;\">\n",
       "      <th></th>\n",
       "      <th>path</th>\n",
       "      <th>sentence</th>\n",
       "    </tr>\n",
       "  </thead>\n",
       "  <tbody>\n",
       "    <tr>\n",
       "      <th>136076</th>\n",
       "      <td>common_voice_ta_34515372.mp3</td>\n",
       "      <td>மின்னோட்டம், மின்தடை, மின்னழுத்தம் முதலியவற்றை...</td>\n",
       "    </tr>\n",
       "    <tr>\n",
       "      <th>136077</th>\n",
       "      <td>common_voice_ta_34515408.mp3</td>\n",
       "      <td>இந்திரனைச் சந்திரனை இலையாலே மறைப்பாள் எமதர்ம ர...</td>\n",
       "    </tr>\n",
       "    <tr>\n",
       "      <th>136078</th>\n",
       "      <td>common_voice_ta_34907643.mp3</td>\n",
       "      <td>வாழ்க்கையை மறுக்கும் அணியினர் பேச்சை அன்புகூர்...</td>\n",
       "    </tr>\n",
       "    <tr>\n",
       "      <th>136079</th>\n",
       "      <td>common_voice_ta_34959575.mp3</td>\n",
       "      <td>அந்தக் கடைதான் என்று முடிவு செய்தான்.</td>\n",
       "    </tr>\n",
       "    <tr>\n",
       "      <th>136080</th>\n",
       "      <td>common_voice_ta_35021699.mp3</td>\n",
       "      <td>நரகத்திற்குக் காவலாக ஒரு பெரிய நாய் இருந்து வந...</td>\n",
       "    </tr>\n",
       "  </tbody>\n",
       "</table>\n",
       "</div>"
      ],
      "text/plain": [
       "                                path  \\\n",
       "136076  common_voice_ta_34515372.mp3   \n",
       "136077  common_voice_ta_34515408.mp3   \n",
       "136078  common_voice_ta_34907643.mp3   \n",
       "136079  common_voice_ta_34959575.mp3   \n",
       "136080  common_voice_ta_35021699.mp3   \n",
       "\n",
       "                                                 sentence  \n",
       "136076  மின்னோட்டம், மின்தடை, மின்னழுத்தம் முதலியவற்றை...  \n",
       "136077  இந்திரனைச் சந்திரனை இலையாலே மறைப்பாள் எமதர்ம ர...  \n",
       "136078  வாழ்க்கையை மறுக்கும் அணியினர் பேச்சை அன்புகூர்...  \n",
       "136079              அந்தக் கடைதான் என்று முடிவு செய்தான்.  \n",
       "136080  நரகத்திற்குக் காவலாக ஒரு பெரிய நாய் இருந்து வந...  "
      ]
     },
     "metadata": {},
     "output_type": "display_data"
    },
    {
     "name": "stdout",
     "output_type": "stream",
     "text": [
      "None\n"
     ]
    }
   ],
   "source": [
    "print(\"Last 5 rows:\") # Display last 5 rows of 'path' and 'sentence'\n",
    "print(display(df_validated_all[['path', 'sentence']].tail()))"
   ]
  },
  {
   "cell_type": "markdown",
   "id": "80e9d2e1-da39-4326-bf47-3211ebb26a4a",
   "metadata": {},
   "source": [
    "For validated_path_sentence_updated csv file"
   ]
  },
  {
   "cell_type": "code",
   "execution_count": 146,
   "id": "f39d82a8-9375-4bdb-9a8c-0c91ec0a61bd",
   "metadata": {},
   "outputs": [],
   "source": [
    "df_validated_path_sentence = df_validated_all[['path', 'sentence']].copy() # Select only the 'path' and 'sentence' columns"
   ]
  },
  {
   "cell_type": "code",
   "execution_count": 147,
   "id": "1f0e9402-058b-4ca6-b43c-9823b2a23a67",
   "metadata": {},
   "outputs": [
    {
     "name": "stdout",
     "output_type": "stream",
     "text": [
      "Shape: (136081, 2)\n"
     ]
    }
   ],
   "source": [
    "# Optional: Check the shape and preview to ensure data integrity\n",
    "print(\"Shape:\", df_validated_path_sentence.shape)"
   ]
  },
  {
   "cell_type": "code",
   "execution_count": 148,
   "id": "ec29ef07-18ab-48a5-b989-c67011fe0475",
   "metadata": {},
   "outputs": [],
   "source": [
    "df_validated_path_sentence.index = range(1, len(df_validated_path_sentence) + 1) # Reset the index and then set it to start from 1"
   ]
  },
  {
   "cell_type": "code",
   "execution_count": 149,
   "id": "78428154-e1e7-4c02-b7af-86e994501bf9",
   "metadata": {},
   "outputs": [
    {
     "name": "stdout",
     "output_type": "stream",
     "text": [
      "                           path  \\\n",
      "1  common_voice_ta_28441667.mp3   \n",
      "2  common_voice_ta_30465365.mp3   \n",
      "3  common_voice_ta_26622621.mp3   \n",
      "4  common_voice_ta_24996970.mp3   \n",
      "5  common_voice_ta_27058221.mp3   \n",
      "\n",
      "                                            sentence  \n",
      "1  மக்களிடையே மீண்டும் சாதீய மனோநிலைகளைத் தோற்றுவ...  \n",
      "2  கிரேக்கர்கள் இந்த மாதிரியான வீண் கனவு காண்பதில...  \n",
      "3                              உங்கள் நோக்கு புதிது.  \n",
      "4                  இந்த நாளில் அது மறைந்து வருகிறது.  \n",
      "5  அந்தப் பாட்டின் இரண்டாவது பகுதியில் இறைவனது தி...  \n"
     ]
    }
   ],
   "source": [
    "print(df_validated_path_sentence.head()) # Now if you print head or tail, index starts from 1"
   ]
  },
  {
   "cell_type": "code",
   "execution_count": 150,
   "id": "ec22a414-6607-43d3-8d6d-bc60f6f2708b",
   "metadata": {},
   "outputs": [
    {
     "name": "stdout",
     "output_type": "stream",
     "text": [
      "                                path  \\\n",
      "136077  common_voice_ta_34515372.mp3   \n",
      "136078  common_voice_ta_34515408.mp3   \n",
      "136079  common_voice_ta_34907643.mp3   \n",
      "136080  common_voice_ta_34959575.mp3   \n",
      "136081  common_voice_ta_35021699.mp3   \n",
      "\n",
      "                                                 sentence  \n",
      "136077  மின்னோட்டம், மின்தடை, மின்னழுத்தம் முதலியவற்றை...  \n",
      "136078  இந்திரனைச் சந்திரனை இலையாலே மறைப்பாள் எமதர்ம ர...  \n",
      "136079  வாழ்க்கையை மறுக்கும் அணியினர் பேச்சை அன்புகூர்...  \n",
      "136080              அந்தக் கடைதான் என்று முடிவு செய்தான்.  \n",
      "136081  நரகத்திற்குக் காவலாக ஒரு பெரிய நாய் இருந்து வந...  \n"
     ]
    }
   ],
   "source": [
    "print(df_validated_path_sentence.tail())"
   ]
  },
  {
   "cell_type": "code",
   "execution_count": 151,
   "id": "967e3ed6-0d80-4a52-a80e-a991cf5867f2",
   "metadata": {},
   "outputs": [],
   "source": [
    "df_validated_path_sentence.to_csv('validated_path_sentence_updated.csv', index=False) # Save to CSV, keep the index in the file"
   ]
  },
  {
   "cell_type": "markdown",
   "id": "3ea75ca4-fced-47a0-b797-c0adb10b566b",
   "metadata": {},
   "source": [
    "**Verifying CSV files**"
   ]
  },
  {
   "cell_type": "code",
   "execution_count": 154,
   "id": "55c1d78f-0ffb-4c56-b655-88cb4790c4a1",
   "metadata": {},
   "outputs": [
    {
     "name": "stdout",
     "output_type": "stream",
     "text": [
      "\n",
      "--- Inspecting: dev_path_sentence_updated.csv ---\n",
      "Shape: (12111, 2)\n",
      "Columns: ['path', 'sentence']\n",
      "\n",
      "First 3 rows:\n",
      "                        path                                                                          sentence\n",
      "common_voice_ta_24959711.mp3                                             பாலாஜி என்பது பாலன் என்ற பொருளுடையது.\n",
      "common_voice_ta_24959713.mp3 சீக்கிரத்தில் ஐநூறு ரூபாய் செலவழித்து அவரது முழு உருவப்படமொன்று சபையில் வைத்தோம்.\n",
      "common_voice_ta_24959750.mp3                                                  பகலில் இயங்கிக் கொண்டே இருப்பர்.\n",
      "\n",
      "Last 3 rows:\n",
      "                        path                                                                                                       sentence\n",
      "common_voice_ta_26920966.mp3                எட்டுக் கரங்கள், சூலம், தனு, கசம், அங்குசம், சங்கு ஏந்திய கோலம், மகிஷன் தலைமேல் ஏறி நிற்கிறாள்.\n",
      "common_voice_ta_26921021.mp3 குமரன் அவ்வாறு வெளிப்படையாகத் தன்னுடைய மனத்திலிருந்ததைக் கேட்டதே அவர்களுடைய சந்தேகத்தைத் தணித்துவிட்டிருந்தது.\n",
      "common_voice_ta_26921028.mp3                                                            போதாக்குறைக்கு மதுபானக்கடையும் ஸ்தாபிக்கப் பெற்றது.\n",
      "\n",
      "--- Inspecting: invalidated_path_sentence_updated.csv ---\n",
      "Shape: (5705, 2)\n",
      "Columns: ['path', 'sentence']\n",
      "\n",
      "First 3 rows:\n",
      "                        path                         sentence\n",
      "common_voice_ta_19071681.mp3 துணைவன் இறந்தபின் வேறு துணைதேடச்\n",
      "common_voice_ta_19083966.mp3  சூரியன் ஒரு நடுவயது நட்சத்திரம்\n",
      "common_voice_ta_19083970.mp3                 நாங்கள், ஆண்மைச்\n",
      "\n",
      "Last 3 rows:\n",
      "                        path                                                                                      sentence\n",
      "common_voice_ta_37382533.mp3                               இதைத்தான் திருவள்ளுவர் உலகந் தழீஇயது ஒட்பம் என்று கூறுகின்றார்.\n",
      "common_voice_ta_38522355.mp3 அவளைப் பற்றிய விவரங்கள் யாவும் அடங்கிய ஓலை யொன்றையும் உதயணனிடமிருந்து யூகி பெற்றுக் கொண்டான்.\n",
      "common_voice_ta_38671127.mp3                                  அகத்தியனை முத்தமிழ் முனிவன் எனக் காஞ்சிப் புராணம் கூறுகிறது.\n",
      "\n",
      "--- Inspecting: other_path_sentence_updated.csv ---\n",
      "Shape: (105054, 2)\n",
      "Columns: ['path', 'sentence']\n",
      "\n",
      "First 3 rows:\n",
      "                        path                               sentence\n",
      "common_voice_ta_19924583.mp3                 குட்டை மனத்தாலே - அவர்\n",
      "common_voice_ta_19924634.mp3 என்றாள். \"வெந்நீர் இருக்குமா\" என்றான்.\n",
      "common_voice_ta_19924723.mp3    இதுஅதுவாய் மாறிவிடும் மறுக ணத்தில்.\n",
      "\n",
      "Last 3 rows:\n",
      "                        path                                                                              sentence\n",
      "common_voice_ta_41104915.mp3    அந்தத் துன்பத்தையும் மறக்க அவன் அவ்வப்போது வெளி ஊர்கள் செல்வதில் மனநிறைவு கண்டான்.\n",
      "common_voice_ta_41206047.mp3              பாட்னா நகர் சென்ற காந்தியார், ராஜன் பாபு வீட்டில் தங்குவதற்காக சென்றார்.\n",
      "common_voice_ta_41206048.mp3 கலை என்பது அழகு ணர்ச்சியிலே பிறந்து அவனுக்கு ஆனந்தம் அளிப்பது என்பார் மூன்றாவது நபர்.\n",
      "\n",
      "--- Inspecting: test_path_sentence_updated.csv ---\n",
      "Shape: (12189, 2)\n",
      "Columns: ['path', 'sentence']\n",
      "\n",
      "First 3 rows:\n",
      "                        path                                                                                       sentence\n",
      "common_voice_ta_28441667.mp3 மக்களிடையே மீண்டும் சாதீய மனோநிலைகளைத் தோற்றுவித்து அவர்களை மோதவிட்டு வேடிக்கை பார்க்கின்றனர்.\n",
      "common_voice_ta_30465365.mp3                              கிரேக்கர்கள் இந்த மாதிரியான வீண் கனவு காண்பதில் பெரிய ஆட்கள்தான்.\n",
      "common_voice_ta_26622621.mp3                                                                          உங்கள் நோக்கு புதிது.\n",
      "\n",
      "Last 3 rows:\n",
      "                        path                                                                                          sentence\n",
      "common_voice_ta_27638647.mp3                                  மரங்கள் மண்ணிலிருந்து தண்ணிர், உரம் எடுத்துக் கொண்டு வளர்கின்றன.\n",
      "common_voice_ta_27638648.mp3 நாங்கள் சைதாப் பேட்டைக்கு வந்த நாளிலிருந்தே பாவலரின் தரகர்கள் எங்களுக்கு வலைவீசத் தொடங்கினார்கள்.\n",
      "common_voice_ta_27638650.mp3                               அவருக்கு மட்டுமன்று பெருநோய் அவருடைய அன்பு மகளுக்கு வந்தது பசிநோய்!\n",
      "\n",
      "--- Inspecting: train_path_sentence_updated.csv ---\n",
      "Shape: (46068, 2)\n",
      "Columns: ['path', 'sentence']\n",
      "\n",
      "First 3 rows:\n",
      "                        path                                                            sentence\n",
      "common_voice_ta_26650298.mp3   அவரைப் பொதுமக்கள் விடாமல் பின்னாலேயே துரத்திக் கொண்டே ஓடினார்கள்.\n",
      "common_voice_ta_26650300.mp3                                     மனிதனுடைய இன்பங்கள் இரண்டு வகை.\n",
      "common_voice_ta_26650301.mp3 ஆனால் குடியிருக்கும் போதாவது அது நமக்கு முழுச் சொந்தமாக இருக்கிறதா?\n",
      "\n",
      "Last 3 rows:\n",
      "                        path                                                           sentence\n",
      "common_voice_ta_34907643.mp3 வாழ்க்கையை மறுக்கும் அணியினர் பேச்சை அன்புகூர்ந்து கேட்க வேண்டாம்!\n",
      "common_voice_ta_34959575.mp3                              அந்தக் கடைதான் என்று முடிவு செய்தான்.\n",
      "common_voice_ta_35021699.mp3                நரகத்திற்குக் காவலாக ஒரு பெரிய நாய் இருந்து வந்தது.\n",
      "\n",
      "--- Inspecting: validated_path_sentence_updated.csv ---\n",
      "Shape: (136081, 2)\n",
      "Columns: ['path', 'sentence']\n",
      "\n",
      "First 3 rows:\n",
      "                        path                                                                                       sentence\n",
      "common_voice_ta_28441667.mp3 மக்களிடையே மீண்டும் சாதீய மனோநிலைகளைத் தோற்றுவித்து அவர்களை மோதவிட்டு வேடிக்கை பார்க்கின்றனர்.\n",
      "common_voice_ta_30465365.mp3                              கிரேக்கர்கள் இந்த மாதிரியான வீண் கனவு காண்பதில் பெரிய ஆட்கள்தான்.\n",
      "common_voice_ta_26622621.mp3                                                                          உங்கள் நோக்கு புதிது.\n",
      "\n",
      "Last 3 rows:\n",
      "                        path                                                           sentence\n",
      "common_voice_ta_34907643.mp3 வாழ்க்கையை மறுக்கும் அணியினர் பேச்சை அன்புகூர்ந்து கேட்க வேண்டாம்!\n",
      "common_voice_ta_34959575.mp3                              அந்தக் கடைதான் என்று முடிவு செய்தான்.\n",
      "common_voice_ta_35021699.mp3                நரகத்திற்குக் காவலாக ஒரு பெரிய நாய் இருந்து வந்தது.\n"
     ]
    }
   ],
   "source": [
    "# List of CSV file paths\n",
    "csv_paths = [\n",
    "    \"dev_path_sentence_updated.csv\",\n",
    "    \"invalidated_path_sentence_updated.csv\",\n",
    "    \"other_path_sentence_updated.csv\",\n",
    "    \"test_path_sentence_updated.csv\",\n",
    "    \"train_path_sentence_updated.csv\",\n",
    "    \"validated_path_sentence_updated.csv\"\n",
    "]\n",
    "def inspect_csv_files(paths): # Function to analyze each file\n",
    "    for path in paths:\n",
    "        print(f\"\\n--- Inspecting: {path} ---\")\n",
    "        if os.path.exists(path):\n",
    "            try:\n",
    "                df = pd.read_csv(path)\n",
    "                print(f\"Shape: {df.shape}\")\n",
    "                print(f\"Columns: {list(df.columns)}\")\n",
    "                print(\"\\nFirst 3 rows:\")\n",
    "                print(df.head(3).to_string(index=False))\n",
    "                print(\"\\nLast 3 rows:\")\n",
    "                print(df.tail(3).to_string(index=False))\n",
    "            except Exception as e:\n",
    "                print(f\"Error reading {path}: {e}\")\n",
    "        else:\n",
    "            print(\"File not found.\")\n",
    "inspect_csv_files(csv_paths)"
   ]
  },
  {
   "cell_type": "code",
   "execution_count": 155,
   "id": "c36549ab-7b43-4432-8aab-53e657a9d2f6",
   "metadata": {},
   "outputs": [
    {
     "name": "stdout",
     "output_type": "stream",
     "text": [
      "Merged successfully. Final shape: (317208, 2)\n"
     ]
    }
   ],
   "source": [
    "# Read all into a list of DataFrames\n",
    "dfs = [pd.read_csv(path) for path in csv_paths]\n",
    "merged_df = pd.concat(dfs, ignore_index=True) # Concatenate them into a single DataFrame\n",
    "# Optionally drop duplicates\n",
    "#merged_df.drop_duplicates(subset=['path', 'sentence'], inplace=True)\n",
    "merged_df.to_csv(\"merged_path_sentence.csv\", index=False) # Save to a new CSV\n",
    "print(\"Merged successfully. Final shape:\", merged_df.shape)"
   ]
  },
  {
   "cell_type": "code",
   "execution_count": null,
   "id": "e7ffe441-d38a-4357-90c7-0f15b84bed7f",
   "metadata": {},
   "outputs": [],
   "source": []
  },
  {
   "cell_type": "markdown",
   "id": "795d985b-6713-4692-8368-95245958c6ea",
   "metadata": {},
   "source": [
    "**Merged file**"
   ]
  },
  {
   "cell_type": "code",
   "execution_count": 198,
   "id": "d47224ca-7dab-4150-a23a-64e6bd8b1622",
   "metadata": {},
   "outputs": [],
   "source": [
    "merged_file = \"merged_path_sentence.csv\" # Load merged file\n",
    "m_df = pd.read_csv(merged_file)"
   ]
  },
  {
   "cell_type": "code",
   "execution_count": 157,
   "id": "0d1c2d70-eb86-4140-a18f-088323af9dc9",
   "metadata": {},
   "outputs": [
    {
     "name": "stdout",
     "output_type": "stream",
     "text": [
      "File Info:\n",
      "<class 'pandas.core.frame.DataFrame'>\n",
      "RangeIndex: 317208 entries, 0 to 317207\n",
      "Data columns (total 2 columns):\n",
      " #   Column    Non-Null Count   Dtype \n",
      "---  ------    --------------   ----- \n",
      " 0   path      317208 non-null  object\n",
      " 1   sentence  317208 non-null  object\n",
      "dtypes: object(2)\n",
      "memory usage: 4.8+ MB\n",
      "None\n",
      "\n"
     ]
    }
   ],
   "source": [
    "print(\"File Info:\") # Basic info\n",
    "print(m_df.info(), end=\"\\n\\n\")"
   ]
  },
  {
   "cell_type": "code",
   "execution_count": 158,
   "id": "975cd611-1586-4d8e-9397-313c75aa86d3",
   "metadata": {},
   "outputs": [
    {
     "name": "stdout",
     "output_type": "stream",
     "text": [
      "Total Rows: 317208\n",
      "Total Columns: 2\n",
      "\n"
     ]
    }
   ],
   "source": [
    "print(f\"Total Rows: {m_df.shape[0]}\") # Shape\n",
    "print(f\"Total Columns: {m_df.shape[1]}\\n\")"
   ]
  },
  {
   "cell_type": "code",
   "execution_count": 159,
   "id": "168f069b-90df-43c5-a7c4-4db9fc080fba",
   "metadata": {},
   "outputs": [
    {
     "name": "stdout",
     "output_type": "stream",
     "text": [
      "Column Names: ['path', 'sentence'] \n",
      "\n"
     ]
    }
   ],
   "source": [
    "print(\"Column Names:\", m_df.columns.tolist(), \"\\n\") # Column names"
   ]
  },
  {
   "cell_type": "code",
   "execution_count": 160,
   "id": "bc2bff38-b025-4c27-a758-779c8ff6228a",
   "metadata": {},
   "outputs": [
    {
     "name": "stdout",
     "output_type": "stream",
     "text": [
      "Sample Data:\n",
      "                           path  \\\n",
      "0  common_voice_ta_24959711.mp3   \n",
      "1  common_voice_ta_24959713.mp3   \n",
      "2  common_voice_ta_24959750.mp3   \n",
      "3  common_voice_ta_24959754.mp3   \n",
      "4  common_voice_ta_24959762.mp3   \n",
      "\n",
      "                                            sentence  \n",
      "0              பாலாஜி என்பது பாலன் என்ற பொருளுடையது.  \n",
      "1  சீக்கிரத்தில் ஐநூறு ரூபாய் செலவழித்து அவரது மு...  \n",
      "2                   பகலில் இயங்கிக் கொண்டே இருப்பர்.  \n",
      "3                          மிகுதியும் பயன் விளையும்.  \n",
      "4      புதுப்புனலில் பாய்ந்து நீந்தி விளையாடுகிறாள்.   \n",
      "\n"
     ]
    }
   ],
   "source": [
    "print(\"Sample Data:\") # Sample rows\n",
    "print(m_df.head(5), \"\\n\")"
   ]
  },
  {
   "cell_type": "code",
   "execution_count": 161,
   "id": "be4d69e6-7e1a-4f98-ad4c-79c4dffa1da7",
   "metadata": {},
   "outputs": [
    {
     "name": "stdout",
     "output_type": "stream",
     "text": [
      "                                path  \\\n",
      "317203  common_voice_ta_34515372.mp3   \n",
      "317204  common_voice_ta_34515408.mp3   \n",
      "317205  common_voice_ta_34907643.mp3   \n",
      "317206  common_voice_ta_34959575.mp3   \n",
      "317207  common_voice_ta_35021699.mp3   \n",
      "\n",
      "                                                 sentence  \n",
      "317203  மின்னோட்டம், மின்தடை, மின்னழுத்தம் முதலியவற்றை...  \n",
      "317204  இந்திரனைச் சந்திரனை இலையாலே மறைப்பாள் எமதர்ம ர...  \n",
      "317205  வாழ்க்கையை மறுக்கும் அணியினர் பேச்சை அன்புகூர்...  \n",
      "317206              அந்தக் கடைதான் என்று முடிவு செய்தான்.  \n",
      "317207  நரகத்திற்குக் காவலாக ஒரு பெரிய நாய் இருந்து வந...  \n"
     ]
    }
   ],
   "source": [
    "print(m_df.tail())"
   ]
  },
  {
   "cell_type": "code",
   "execution_count": 162,
   "id": "979a3df7-26dc-459c-9fcc-07a5af8927b8",
   "metadata": {},
   "outputs": [
    {
     "name": "stdout",
     "output_type": "stream",
     "text": [
      "Missing Values:\n",
      "path        0\n",
      "sentence    0\n",
      "dtype: int64 \n",
      "\n"
     ]
    }
   ],
   "source": [
    "print(\"Missing Values:\") # Missing values\n",
    "print(m_df.isnull().sum(), \"\\n\")"
   ]
  },
  {
   "cell_type": "code",
   "execution_count": 163,
   "id": "85e690d2-4b69-4052-99af-20a2dc555a72",
   "metadata": {},
   "outputs": [
    {
     "name": "stdout",
     "output_type": "stream",
     "text": [
      "Sentence Length Stats:\n",
      "count    317208.000000\n",
      "mean         63.955048\n",
      "std          29.011705\n",
      "min           2.000000\n",
      "25%          40.000000\n",
      "50%          60.000000\n",
      "75%          84.000000\n",
      "max         227.000000\n",
      "Name: sentence_length, dtype: float64\n"
     ]
    }
   ],
   "source": [
    "m_df['sentence_length'] = m_df['sentence'].astype(str).apply(len) # Sentence length stats\n",
    "print(\"Sentence Length Stats:\")\n",
    "print(m_df['sentence_length'].describe())"
   ]
  },
  {
   "cell_type": "code",
   "execution_count": 164,
   "id": "aa14e821-24a2-417b-abe9-7b6bfcaea565",
   "metadata": {},
   "outputs": [
    {
     "data": {
      "text/html": [
       "<div>\n",
       "<style scoped>\n",
       "    .dataframe tbody tr th:only-of-type {\n",
       "        vertical-align: middle;\n",
       "    }\n",
       "\n",
       "    .dataframe tbody tr th {\n",
       "        vertical-align: top;\n",
       "    }\n",
       "\n",
       "    .dataframe thead th {\n",
       "        text-align: right;\n",
       "    }\n",
       "</style>\n",
       "<table border=\"1\" class=\"dataframe\">\n",
       "  <thead>\n",
       "    <tr style=\"text-align: right;\">\n",
       "      <th></th>\n",
       "      <th>sentence_length</th>\n",
       "    </tr>\n",
       "  </thead>\n",
       "  <tbody>\n",
       "    <tr>\n",
       "      <th>count</th>\n",
       "      <td>317208.000000</td>\n",
       "    </tr>\n",
       "    <tr>\n",
       "      <th>mean</th>\n",
       "      <td>63.955048</td>\n",
       "    </tr>\n",
       "    <tr>\n",
       "      <th>std</th>\n",
       "      <td>29.011705</td>\n",
       "    </tr>\n",
       "    <tr>\n",
       "      <th>min</th>\n",
       "      <td>2.000000</td>\n",
       "    </tr>\n",
       "    <tr>\n",
       "      <th>25%</th>\n",
       "      <td>40.000000</td>\n",
       "    </tr>\n",
       "    <tr>\n",
       "      <th>50%</th>\n",
       "      <td>60.000000</td>\n",
       "    </tr>\n",
       "    <tr>\n",
       "      <th>75%</th>\n",
       "      <td>84.000000</td>\n",
       "    </tr>\n",
       "    <tr>\n",
       "      <th>max</th>\n",
       "      <td>227.000000</td>\n",
       "    </tr>\n",
       "  </tbody>\n",
       "</table>\n",
       "</div>"
      ],
      "text/plain": [
       "       sentence_length\n",
       "count    317208.000000\n",
       "mean         63.955048\n",
       "std          29.011705\n",
       "min           2.000000\n",
       "25%          40.000000\n",
       "50%          60.000000\n",
       "75%          84.000000\n",
       "max         227.000000"
      ]
     },
     "execution_count": 164,
     "metadata": {},
     "output_type": "execute_result"
    }
   ],
   "source": [
    "m_df.describe()"
   ]
  },
  {
   "cell_type": "markdown",
   "id": "7775426b-72fd-44fe-9799-34cdbc6c3534",
   "metadata": {},
   "source": [
    "**Filtering the merged file**"
   ]
  },
  {
   "cell_type": "code",
   "execution_count": 167,
   "id": "f6b1a449-d0dc-4da3-a9d9-a4a5a16d3043",
   "metadata": {},
   "outputs": [
    {
     "name": "stdout",
     "output_type": "stream",
     "text": [
      "Total files in 'clips': 246840\n",
      "\n",
      "File types and counts:\n",
      ".mp3: 246840\n",
      "\n",
      "Sample files:\n",
      "['common_voice_ta_19071679.mp3', 'common_voice_ta_19071680.mp3', 'common_voice_ta_19071681.mp3', 'common_voice_ta_19071682.mp3', 'common_voice_ta_19071683.mp3']\n"
     ]
    }
   ],
   "source": [
    "clips_path = \"/home/jovyan/work/Datasets/cv-corpus/cv-corpus-19.0-2024-09-13/ta/clips\"\n",
    "all_files = os.listdir(clips_path) # List all files in the directory\n",
    "total_files = len(all_files) # Total number of files\n",
    "from collections import Counter # Group by file extensions\n",
    "file_types = Counter([os.path.splitext(f)[1] for f in all_files])\n",
    "print(f\"Total files in 'clips': {total_files}\") # Display\n",
    "print(\"\\nFile types and counts:\")\n",
    "for ext, count in file_types.items():\n",
    "    print(f\"{ext or 'No Extension'}: {count}\")\n",
    "print(\"\\nSample files:\") #preview first 5 file names\n",
    "print(all_files[:5])"
   ]
  },
  {
   "cell_type": "code",
   "execution_count": 170,
   "id": "e6ce0261-78cb-4330-932a-ef4f5772b86d",
   "metadata": {},
   "outputs": [
    {
     "name": "stdout",
     "output_type": "stream",
     "text": [
      "Total .mp3 files (including subfolders): 246840\n"
     ]
    }
   ],
   "source": [
    "mp3_files = []\n",
    "for root, dirs, files in os.walk(clips_path):\n",
    "    for file in files:\n",
    "        if file.endswith(\".mp3\"):\n",
    "            mp3_files.append(file)\n",
    "\n",
    "print(f\"Total .mp3 files (including subfolders): {len(mp3_files)}\")"
   ]
  },
  {
   "cell_type": "code",
   "execution_count": 171,
   "id": "c97ab596-09c8-4020-8a74-d1cc9d0a1fa0",
   "metadata": {},
   "outputs": [
    {
     "data": {
      "text/plain": [
       "0    common_voice_ta_24959711.mp3\n",
       "1    common_voice_ta_24959713.mp3\n",
       "2    common_voice_ta_24959750.mp3\n",
       "3    common_voice_ta_24959754.mp3\n",
       "4    common_voice_ta_24959762.mp3\n",
       "Name: path, dtype: object"
      ]
     },
     "execution_count": 171,
     "metadata": {},
     "output_type": "execute_result"
    }
   ],
   "source": [
    "m_df['path'].head()"
   ]
  },
  {
   "cell_type": "code",
   "execution_count": 179,
   "id": "14b8c6bf-fef8-4358-9e72-8e294b710a0e",
   "metadata": {},
   "outputs": [],
   "source": [
    "clips_path = \"/home/jovyan/work/Datasets/cv-corpus/cv-corpus-19.0-2024-09-13/ta/clips\"\n",
    "available_files = set()\n",
    "for root, dirs, files in os.walk(clips_path):\n",
    "    for file in files:\n",
    "        if file.endswith(\".mp3\"):\n",
    "            available_files.add(file)"
   ]
  },
  {
   "cell_type": "code",
   "execution_count": 180,
   "id": "9d6f99a6-5715-4c0f-8e90-cc1faffbd9d7",
   "metadata": {},
   "outputs": [
    {
     "name": "stdout",
     "output_type": "stream",
     "text": [
      "Number of files in available_files: 246840\n"
     ]
    }
   ],
   "source": [
    "print(f\"Number of files in available_files: {len(available_files)}\")  # Should be 246840"
   ]
  },
  {
   "cell_type": "code",
   "execution_count": 190,
   "id": "eaed3879-e783-4404-bb47-289b563c24c2",
   "metadata": {},
   "outputs": [
    {
     "name": "stdout",
     "output_type": "stream",
     "text": [
      "Examples of available_files:\n",
      "['common_voice_ta_29810789.mp3', 'common_voice_ta_25453180.mp3', 'common_voice_ta_25470576.mp3', 'common_voice_ta_28754888.mp3', 'common_voice_ta_28960797.mp3']\n",
      "\n",
      "Examples from m_df['path']:\n",
      "['common_voice_ta_24959711.mp3', 'common_voice_ta_24959713.mp3', 'common_voice_ta_24959750.mp3', 'common_voice_ta_24959754.mp3', 'common_voice_ta_24959762.mp3']\n",
      "\n",
      "Is 'common_voice_ta_26717326.mp3' in available_files? => True\n"
     ]
    }
   ],
   "source": [
    "print(\"Examples of available_files:\")\n",
    "print(list(available_files)[:5])  # show what's actually in the set\n",
    "print(\"\\nExamples from m_df['path']:\")\n",
    "print(m_df['path'].head(5).tolist())\n",
    "sample_file = m_df['path'].iloc[0] # Compare one explicitly\n",
    "print(f\"\\nIs '{sample_file}' in available_files? => {sample_file in available_files}\")"
   ]
  },
  {
   "cell_type": "code",
   "execution_count": 192,
   "id": "cdfff2e5-6776-46e2-b007-326ff71b01b4",
   "metadata": {},
   "outputs": [
    {
     "name": "stdout",
     "output_type": "stream",
     "text": [
      "<class 'set'>\n"
     ]
    }
   ],
   "source": [
    "print(type(available_files))"
   ]
  },
  {
   "cell_type": "markdown",
   "id": "17301889-24b6-424f-b08f-57e9e8c4508c",
   "metadata": {},
   "source": [
    "Finding unique files"
   ]
  },
  {
   "cell_type": "code",
   "execution_count": 210,
   "id": "65178517-842f-493c-b330-3b182558bd4f",
   "metadata": {},
   "outputs": [
    {
     "name": "stdout",
     "output_type": "stream",
     "text": [
      "Unique paths in merged dataset: 246840\n"
     ]
    }
   ],
   "source": [
    "unique_paths = m_df[\"path\"].nunique()\n",
    "print(f\"Unique paths in merged dataset: {unique_paths}\")"
   ]
  },
  {
   "cell_type": "code",
   "execution_count": 211,
   "id": "1102995c-4416-4b17-bc84-b0a84139862d",
   "metadata": {},
   "outputs": [
    {
     "name": "stdout",
     "output_type": "stream",
     "text": [
      "Total rows in CSV: 317208\n",
      "Unique audio paths: 246840\n",
      "Duplicate rows (same audio used multiple times): 70368\n"
     ]
    }
   ],
   "source": [
    "total_rows = len(m_df)\n",
    "unique_paths = m_df[\"path\"].nunique()\n",
    "duplicate_paths = total_rows - unique_paths\n",
    "print(f\"Total rows in CSV: {total_rows}\")\n",
    "print(f\"Unique audio paths: {unique_paths}\")\n",
    "print(f\"Duplicate rows (same audio used multiple times): {duplicate_paths}\")"
   ]
  },
  {
   "cell_type": "code",
   "execution_count": 217,
   "id": "3c50d31b-ef86-4089-82d7-d824e8d51257",
   "metadata": {},
   "outputs": [],
   "source": [
    "original_df = m_df.copy() # Don't modify original m_df"
   ]
  },
  {
   "cell_type": "markdown",
   "id": "37655790-5a18-48c7-acc2-b490cae1f644",
   "metadata": {},
   "source": [
    "Remove Duplicate path Entries , keeping first only"
   ]
  },
  {
   "cell_type": "code",
   "execution_count": 218,
   "id": "cf57868f-df6a-4575-a1ca-f913a71ccc44",
   "metadata": {},
   "outputs": [
    {
     "name": "stdout",
     "output_type": "stream",
     "text": [
      "Deduplicated DataFrame rows: 246840\n"
     ]
    }
   ],
   "source": [
    "dedup_df = original_df.drop_duplicates(subset='path', keep='first') # One row per unique audio file (first occurrence)\n",
    "print(f\"Deduplicated DataFrame rows: {len(dedup_df)}\")"
   ]
  },
  {
   "cell_type": "code",
   "execution_count": 219,
   "id": "de2b77d2-15c0-4307-a4d9-028aa89bc4e5",
   "metadata": {},
   "outputs": [],
   "source": [
    "dedup_df.to_csv(\"unique_audio_first_occurrence.csv\", index=False)"
   ]
  },
  {
   "cell_type": "markdown",
   "id": "c5d10334-9610-4be8-ac5a-776949d9c94a",
   "metadata": {},
   "source": [
    "Group All Sentences for Same Audio Path"
   ]
  },
  {
   "cell_type": "code",
   "execution_count": 220,
   "id": "76ec6a56-8b7d-406d-9e01-aa74676990e4",
   "metadata": {},
   "outputs": [
    {
     "name": "stdout",
     "output_type": "stream",
     "text": [
      "Grouped by path (with sentence list): 246840 rows\n"
     ]
    }
   ],
   "source": [
    "grouped_df = original_df.groupby('path')['sentence'].apply(list).reset_index() # Aggregate all sentences for each .mp3\n",
    "print(f\"Grouped by path (with sentence list): {len(grouped_df)} rows\")"
   ]
  },
  {
   "cell_type": "code",
   "execution_count": 221,
   "id": "55bab9ba-5edb-4ec1-83ec-773a10eeffe7",
   "metadata": {},
   "outputs": [],
   "source": [
    "grouped_df.to_csv(\"grouped_sentences_by_path.csv\", index=False)"
   ]
  },
  {
   "cell_type": "markdown",
   "id": "5fce1e91-2642-492f-b78a-e1c07ac70f85",
   "metadata": {},
   "source": [
    "Filter Entries That Exist in clips Folder"
   ]
  },
  {
   "cell_type": "code",
   "execution_count": 216,
   "id": "a1d2d26c-a7f2-4dd3-a966-51b70cb217bb",
   "metadata": {},
   "outputs": [
    {
     "name": "stdout",
     "output_type": "stream",
     "text": [
      "Filtered rows with matching files: 246840\n"
     ]
    }
   ],
   "source": [
    "# Path to clips folder\n",
    "clips_path = \"/home/jovyan/work/Datasets/cv-corpus/cv-corpus-19.0-2024-09-13/ta/clips\"\n",
    "available_files = set(os.listdir(clips_path)) # Get set of files actually present in folder\n",
    "#filtered_df = original_df[original_df['path'].isin(available_files)].copy() # Filter original DataFrame to only include existing files\n",
    "filtered_df = dedup_df[dedup_df['path'].isin(available_files)].copy()\n",
    "print(f\"Filtered rows with matching files: {len(filtered_df)}\")"
   ]
  },
  {
   "cell_type": "code",
   "execution_count": 222,
   "id": "1f09b05b-387f-402b-b5cd-5a8dcdf4c0fa",
   "metadata": {},
   "outputs": [],
   "source": [
    "filtered_df.to_csv(\"filtered_existing_audio_files.csv\", index=False)"
   ]
  },
  {
   "cell_type": "code",
   "execution_count": 224,
   "id": "c545039e-7100-467d-8c45-74fc9074577c",
   "metadata": {},
   "outputs": [
    {
     "name": "stdout",
     "output_type": "stream",
     "text": [
      "Total duplicate rows saved: 140736\n"
     ]
    }
   ],
   "source": [
    "duplicates_df = original_df[original_df.duplicated(subset='path', keep=False)] # Get duplicates based on 'path' column\n",
    "print(f\"Total duplicate rows saved: {len(duplicates_df)}\")"
   ]
  },
  {
   "cell_type": "markdown",
   "id": "dc7a2837-0453-4977-a940-5ebaa91d7ca2",
   "metadata": {},
   "source": [
    "Finding duplicates"
   ]
  },
  {
   "cell_type": "code",
   "execution_count": 226,
   "id": "21cb48ac-3eb0-40d3-bc73-48affba1e0eb",
   "metadata": {},
   "outputs": [
    {
     "name": "stdout",
     "output_type": "stream",
     "text": [
      "Total duplicate entries found: 140736\n",
      "Unique files with duplicates: 70368\n"
     ]
    }
   ],
   "source": [
    "duplicate_paths = m_df[m_df.duplicated(subset=[\"path\"], keep=False)] # Identify duplicate paths\n",
    "print(f\"Total duplicate entries found: {duplicate_paths.shape[0]}\") # Display summary\n",
    "print(f\"Unique files with duplicates: {duplicate_paths['path'].nunique()}\")"
   ]
  },
  {
   "cell_type": "code",
   "execution_count": null,
   "id": "d1967e90-893a-4eab-a6a6-c0df9a600d27",
   "metadata": {},
   "outputs": [],
   "source": [
    "duplicate_paths.to_csv(\"duplicate_audio_entries.csv\", index=False)"
   ]
  },
  {
   "cell_type": "markdown",
   "id": "f60713d2-d7f2-4110-8f88-7a2f2b841e53",
   "metadata": {},
   "source": [
    "**For Filtered data**"
   ]
  },
  {
   "cell_type": "code",
   "execution_count": 237,
   "id": "7459b271-72ab-4580-9c93-157a1f6774db",
   "metadata": {},
   "outputs": [],
   "source": [
    "filtered_file = \"filtered_existing_audio_files.csv\""
   ]
  },
  {
   "cell_type": "code",
   "execution_count": 238,
   "id": "1a0c16a7-385e-4da9-a848-aa9cb7292548",
   "metadata": {},
   "outputs": [],
   "source": [
    "filtered_data_df= pd.read_csv(filtered_file)"
   ]
  },
  {
   "cell_type": "code",
   "execution_count": 239,
   "id": "d99f54fb-e224-4900-a1d3-1564ae8ab0ec",
   "metadata": {},
   "outputs": [
    {
     "name": "stdout",
     "output_type": "stream",
     "text": [
      "Total Rows: 246840\n",
      "Total Columns: 3\n",
      "\n"
     ]
    }
   ],
   "source": [
    "print(f\"Total Rows: {filtered_data_df.shape[0]}\") # Shape\n",
    "print(f\"Total Columns: {filtered_data_df.shape[1]}\\n\")"
   ]
  },
  {
   "cell_type": "code",
   "execution_count": 241,
   "id": "7c25088b-6470-48d3-8daf-a5d1b87ff21f",
   "metadata": {},
   "outputs": [
    {
     "name": "stdout",
     "output_type": "stream",
     "text": [
      "Total duplicate entries found: 0\n",
      "Unique files with duplicates: 0\n"
     ]
    }
   ],
   "source": [
    "filter_duplicate_paths = filtered_data_df[filtered_data_df.duplicated(subset=[\"path\"], keep=False)] # Identify duplicate paths\n",
    "print(f\"Total duplicate entries found: {filter_duplicate_paths.shape[0]}\") # Display summary\n",
    "print(f\"Unique files with duplicates: {filter_duplicate_paths['path'].nunique()}\")"
   ]
  },
  {
   "cell_type": "code",
   "execution_count": 242,
   "id": "4c32269c-511f-400f-bcdf-62ac607cb824",
   "metadata": {},
   "outputs": [
    {
     "name": "stdout",
     "output_type": "stream",
     "text": [
      "<class 'pandas.core.frame.DataFrame'>\n",
      "RangeIndex: 246840 entries, 0 to 246839\n",
      "Data columns (total 3 columns):\n",
      " #   Column    Non-Null Count   Dtype \n",
      "---  ------    --------------   ----- \n",
      " 0   path      246840 non-null  object\n",
      " 1   sentence  246840 non-null  object\n",
      " 2   Found     246840 non-null  object\n",
      "dtypes: object(3)\n",
      "memory usage: 5.6+ MB\n",
      "None\n"
     ]
    }
   ],
   "source": [
    "print(filtered_data_df.info())"
   ]
  },
  {
   "cell_type": "code",
   "execution_count": 245,
   "id": "d5361694-ce4a-4b3d-a9ed-3175178524b2",
   "metadata": {},
   "outputs": [
    {
     "name": "stdout",
     "output_type": "stream",
     "text": [
      "columns: ['path', 'sentence', 'Found']\n"
     ]
    }
   ],
   "source": [
    "print(\"columns:\", filtered_data_df.columns.tolist())"
   ]
  },
  {
   "cell_type": "code",
   "execution_count": 246,
   "id": "492cd6a6-f424-4e6d-860d-83060ff9ca4e",
   "metadata": {},
   "outputs": [
    {
     "data": {
      "text/html": [
       "<div>\n",
       "<style scoped>\n",
       "    .dataframe tbody tr th:only-of-type {\n",
       "        vertical-align: middle;\n",
       "    }\n",
       "\n",
       "    .dataframe tbody tr th {\n",
       "        vertical-align: top;\n",
       "    }\n",
       "\n",
       "    .dataframe thead th {\n",
       "        text-align: right;\n",
       "    }\n",
       "</style>\n",
       "<table border=\"1\" class=\"dataframe\">\n",
       "  <thead>\n",
       "    <tr style=\"text-align: right;\">\n",
       "      <th></th>\n",
       "      <th>path</th>\n",
       "      <th>sentence</th>\n",
       "      <th>Found</th>\n",
       "    </tr>\n",
       "  </thead>\n",
       "  <tbody>\n",
       "    <tr>\n",
       "      <th>0</th>\n",
       "      <td>common_voice_ta_24959711.mp3</td>\n",
       "      <td>பாலாஜி என்பது பாலன் என்ற பொருளுடையது.</td>\n",
       "      <td>Yes</td>\n",
       "    </tr>\n",
       "    <tr>\n",
       "      <th>1</th>\n",
       "      <td>common_voice_ta_24959713.mp3</td>\n",
       "      <td>சீக்கிரத்தில் ஐநூறு ரூபாய் செலவழித்து அவரது மு...</td>\n",
       "      <td>Yes</td>\n",
       "    </tr>\n",
       "    <tr>\n",
       "      <th>2</th>\n",
       "      <td>common_voice_ta_24959750.mp3</td>\n",
       "      <td>பகலில் இயங்கிக் கொண்டே இருப்பர்.</td>\n",
       "      <td>Yes</td>\n",
       "    </tr>\n",
       "    <tr>\n",
       "      <th>3</th>\n",
       "      <td>common_voice_ta_24959754.mp3</td>\n",
       "      <td>மிகுதியும் பயன் விளையும்.</td>\n",
       "      <td>Yes</td>\n",
       "    </tr>\n",
       "    <tr>\n",
       "      <th>4</th>\n",
       "      <td>common_voice_ta_24959762.mp3</td>\n",
       "      <td>புதுப்புனலில் பாய்ந்து நீந்தி விளையாடுகிறாள்.</td>\n",
       "      <td>Yes</td>\n",
       "    </tr>\n",
       "  </tbody>\n",
       "</table>\n",
       "</div>"
      ],
      "text/plain": [
       "                           path  \\\n",
       "0  common_voice_ta_24959711.mp3   \n",
       "1  common_voice_ta_24959713.mp3   \n",
       "2  common_voice_ta_24959750.mp3   \n",
       "3  common_voice_ta_24959754.mp3   \n",
       "4  common_voice_ta_24959762.mp3   \n",
       "\n",
       "                                            sentence Found  \n",
       "0              பாலாஜி என்பது பாலன் என்ற பொருளுடையது.   Yes  \n",
       "1  சீக்கிரத்தில் ஐநூறு ரூபாய் செலவழித்து அவரது மு...   Yes  \n",
       "2                   பகலில் இயங்கிக் கொண்டே இருப்பர்.   Yes  \n",
       "3                          மிகுதியும் பயன் விளையும்.   Yes  \n",
       "4      புதுப்புனலில் பாய்ந்து நீந்தி விளையாடுகிறாள்.   Yes  "
      ]
     },
     "execution_count": 246,
     "metadata": {},
     "output_type": "execute_result"
    }
   ],
   "source": [
    "filtered_data_df.head()"
   ]
  },
  {
   "cell_type": "code",
   "execution_count": 247,
   "id": "f7a1f171-7dd8-4f96-b325-3517d4b4e274",
   "metadata": {},
   "outputs": [
    {
     "data": {
      "text/html": [
       "<div>\n",
       "<style scoped>\n",
       "    .dataframe tbody tr th:only-of-type {\n",
       "        vertical-align: middle;\n",
       "    }\n",
       "\n",
       "    .dataframe tbody tr th {\n",
       "        vertical-align: top;\n",
       "    }\n",
       "\n",
       "    .dataframe thead th {\n",
       "        text-align: right;\n",
       "    }\n",
       "</style>\n",
       "<table border=\"1\" class=\"dataframe\">\n",
       "  <thead>\n",
       "    <tr style=\"text-align: right;\">\n",
       "      <th></th>\n",
       "      <th>path</th>\n",
       "      <th>sentence</th>\n",
       "      <th>Found</th>\n",
       "    </tr>\n",
       "  </thead>\n",
       "  <tbody>\n",
       "    <tr>\n",
       "      <th>246835</th>\n",
       "      <td>common_voice_ta_32120972.mp3</td>\n",
       "      <td>அவற்றை நம்மால் மறக்க முடியவில்லை.</td>\n",
       "      <td>Yes</td>\n",
       "    </tr>\n",
       "    <tr>\n",
       "      <th>246836</th>\n",
       "      <td>common_voice_ta_32194272.mp3</td>\n",
       "      <td>அதே பழைய மணவறை மாடத்தில் பதுமையும் அவனும் தொடர...</td>\n",
       "      <td>Yes</td>\n",
       "    </tr>\n",
       "    <tr>\n",
       "      <th>246837</th>\n",
       "      <td>common_voice_ta_32194389.mp3</td>\n",
       "      <td>எடுத்துக் கூறும் உறுதி மொழிகள் சாத்தியமானவையா?</td>\n",
       "      <td>Yes</td>\n",
       "    </tr>\n",
       "    <tr>\n",
       "      <th>246838</th>\n",
       "      <td>common_voice_ta_32350384.mp3</td>\n",
       "      <td>வெளிச்சம் இருந்தால் இருட்டும் இருக்கும்.</td>\n",
       "      <td>Yes</td>\n",
       "    </tr>\n",
       "    <tr>\n",
       "      <th>246839</th>\n",
       "      <td>common_voice_ta_34439322.mp3</td>\n",
       "      <td>யாரும் மனம் நோகாதபடி பார்த்துக் கொள்ளவேண்டும்.</td>\n",
       "      <td>Yes</td>\n",
       "    </tr>\n",
       "  </tbody>\n",
       "</table>\n",
       "</div>"
      ],
      "text/plain": [
       "                                path  \\\n",
       "246835  common_voice_ta_32120972.mp3   \n",
       "246836  common_voice_ta_32194272.mp3   \n",
       "246837  common_voice_ta_32194389.mp3   \n",
       "246838  common_voice_ta_32350384.mp3   \n",
       "246839  common_voice_ta_34439322.mp3   \n",
       "\n",
       "                                                 sentence Found  \n",
       "246835                  அவற்றை நம்மால் மறக்க முடியவில்லை.   Yes  \n",
       "246836  அதே பழைய மணவறை மாடத்தில் பதுமையும் அவனும் தொடர...   Yes  \n",
       "246837     எடுத்துக் கூறும் உறுதி மொழிகள் சாத்தியமானவையா?   Yes  \n",
       "246838           வெளிச்சம் இருந்தால் இருட்டும் இருக்கும்.   Yes  \n",
       "246839     யாரும் மனம் நோகாதபடி பார்த்துக் கொள்ளவேண்டும்.   Yes  "
      ]
     },
     "execution_count": 247,
     "metadata": {},
     "output_type": "execute_result"
    }
   ],
   "source": [
    "filtered_data_df.tail()"
   ]
  },
  {
   "cell_type": "code",
   "execution_count": 248,
   "id": "a9f64020-c876-4f28-bb8a-1d51665ad654",
   "metadata": {},
   "outputs": [
    {
     "data": {
      "text/plain": [
       "path        0\n",
       "sentence    0\n",
       "Found       0\n",
       "dtype: int64"
      ]
     },
     "execution_count": 248,
     "metadata": {},
     "output_type": "execute_result"
    }
   ],
   "source": [
    "filtered_data_df.isnull().sum()"
   ]
  },
  {
   "cell_type": "code",
   "execution_count": 249,
   "id": "b051f8d8-787f-4a05-b0a6-242c2e71c4d8",
   "metadata": {},
   "outputs": [
    {
     "data": {
      "text/html": [
       "<div>\n",
       "<style scoped>\n",
       "    .dataframe tbody tr th:only-of-type {\n",
       "        vertical-align: middle;\n",
       "    }\n",
       "\n",
       "    .dataframe tbody tr th {\n",
       "        vertical-align: top;\n",
       "    }\n",
       "\n",
       "    .dataframe thead th {\n",
       "        text-align: right;\n",
       "    }\n",
       "</style>\n",
       "<table border=\"1\" class=\"dataframe\">\n",
       "  <thead>\n",
       "    <tr style=\"text-align: right;\">\n",
       "      <th></th>\n",
       "      <th>path</th>\n",
       "      <th>sentence</th>\n",
       "      <th>Found</th>\n",
       "    </tr>\n",
       "  </thead>\n",
       "  <tbody>\n",
       "    <tr>\n",
       "      <th>count</th>\n",
       "      <td>246840</td>\n",
       "      <td>246840</td>\n",
       "      <td>246840</td>\n",
       "    </tr>\n",
       "    <tr>\n",
       "      <th>unique</th>\n",
       "      <td>246840</td>\n",
       "      <td>118041</td>\n",
       "      <td>1</td>\n",
       "    </tr>\n",
       "    <tr>\n",
       "      <th>top</th>\n",
       "      <td>common_voice_ta_34439322.mp3</td>\n",
       "      <td>கம்மது, கிறிஸ்து-எனும் பலபேர் சொல்லிச்</td>\n",
       "      <td>Yes</td>\n",
       "    </tr>\n",
       "    <tr>\n",
       "      <th>freq</th>\n",
       "      <td>1</td>\n",
       "      <td>32</td>\n",
       "      <td>246840</td>\n",
       "    </tr>\n",
       "  </tbody>\n",
       "</table>\n",
       "</div>"
      ],
      "text/plain": [
       "                                path                                sentence  \\\n",
       "count                         246840                                  246840   \n",
       "unique                        246840                                  118041   \n",
       "top     common_voice_ta_34439322.mp3  கம்மது, கிறிஸ்து-எனும் பலபேர் சொல்லிச்   \n",
       "freq                               1                                      32   \n",
       "\n",
       "         Found  \n",
       "count   246840  \n",
       "unique       1  \n",
       "top        Yes  \n",
       "freq    246840  "
      ]
     },
     "execution_count": 249,
     "metadata": {},
     "output_type": "execute_result"
    }
   ],
   "source": [
    "filtered_data_df.describe()"
   ]
  },
  {
   "cell_type": "code",
   "execution_count": 250,
   "id": "919a9cc8-3111-426c-b65b-d8c264772117",
   "metadata": {},
   "outputs": [
    {
     "name": "stdout",
     "output_type": "stream",
     "text": [
      "Sentence Length Stats:\n",
      "count    246840.000000\n",
      "mean         63.687883\n",
      "std          29.131591\n",
      "min           2.000000\n",
      "25%          40.000000\n",
      "50%          59.000000\n",
      "75%          84.000000\n",
      "max         227.000000\n",
      "Name: sentence_length, dtype: float64\n"
     ]
    }
   ],
   "source": [
    "filtered_data_df['sentence_length'] = filtered_data_df['sentence'].astype(str).apply(len) # Sentence length stats\n",
    "print(\"Sentence Length Stats:\")\n",
    "print(filtered_data_df['sentence_length'].describe())"
   ]
  },
  {
   "cell_type": "code",
   "execution_count": 251,
   "id": "ead5fcf7-13be-44b3-9bc2-51b8e9aff3dc",
   "metadata": {},
   "outputs": [
    {
     "name": "stdout",
     "output_type": "stream",
     "text": [
      "paths Stats:\n",
      "count    246840.0\n",
      "mean         28.0\n",
      "std           0.0\n",
      "min          28.0\n",
      "25%          28.0\n",
      "50%          28.0\n",
      "75%          28.0\n",
      "max          28.0\n",
      "Name: paths, dtype: float64\n"
     ]
    }
   ],
   "source": [
    "filtered_data_df['paths'] = filtered_data_df['path'].astype(str).apply(len) # Sentence length stats\n",
    "print(\"paths Stats:\")\n",
    "print(filtered_data_df['paths'].describe())"
   ]
  },
  {
   "cell_type": "code",
   "execution_count": 254,
   "id": "56debb7c-2c64-418b-a35b-4627bb22c37c",
   "metadata": {},
   "outputs": [
    {
     "name": "stdout",
     "output_type": "stream",
     "text": [
      "Found Stats:\n",
      "count    246840.0\n",
      "mean          3.0\n",
      "std           0.0\n",
      "min           3.0\n",
      "25%           3.0\n",
      "50%           3.0\n",
      "75%           3.0\n",
      "max           3.0\n",
      "Name: founds column, dtype: float64\n"
     ]
    }
   ],
   "source": [
    "filtered_data_df['founds column'] = filtered_data_df['Found'].astype(str).apply(len) # Sentence length stats\n",
    "print(\"Found Stats:\")\n",
    "print(filtered_data_df['founds column'].describe())"
   ]
  },
  {
   "cell_type": "markdown",
   "id": "a4a9a292-f8c5-4a83-ae38-75c26ba1a404",
   "metadata": {},
   "source": [
    "**Adding durations to the filtered data**"
   ]
  },
  {
   "cell_type": "code",
   "execution_count": 274,
   "id": "68e9e818-b1ef-4d69-bfca-f16d892c0192",
   "metadata": {},
   "outputs": [],
   "source": [
    "import pandas as pd\n",
    "import librosa\n",
    "import os\n",
    "\n",
    "# Load the original CSV\n",
    "original_file = \"/home/jovyan/work/Datasets/filtered_existing_audio_files.csv\"\n",
    "filtered_df = pd.read_csv(original_file)\n",
    "\n",
    "# Make a copy so original is untouched\n",
    "filtered_copy = filtered_df.copy()\n",
    "\n",
    "# Define audio directory where the mp3 files are actually stored\n",
    "audio_dir = \"/home/jovyan/work/Datasets/cv-corpus/cv-corpus-19.0-2024-09-13/ta/clips/\"\n",
    "\n",
    "# Function to get duration\n",
    "def get_duration_librosa(audio_filename):\n",
    "    full_path = os.path.join(audio_dir, audio_filename)\n",
    "    try:\n",
    "        duration = librosa.get_duration(path=full_path)\n",
    "        return round(duration, 2)\n",
    "    except Exception as e:\n",
    "        print(f\"Error loading {audio_filename}: {e}\")\n",
    "        return None\n",
    "\n",
    "# Apply the function to create a new column with durations\n",
    "filtered_copy['duration'] = filtered_copy['path'].apply(get_duration_librosa)\n"
   ]
  },
  {
   "cell_type": "code",
   "execution_count": 275,
   "id": "be5510ca-2d75-4a8e-827d-e6ebc200153a",
   "metadata": {},
   "outputs": [],
   "source": [
    "filtered_copy.to_csv(\"/home/jovyan/work/Datasets/filtered_with_duration.csv\", index=False)"
   ]
  },
  {
   "cell_type": "code",
   "execution_count": 276,
   "id": "84aa20d1-3095-47ea-bf41-6ddedc999d2b",
   "metadata": {},
   "outputs": [],
   "source": [
    "# Load the original CSV\n",
    "filtered_file_path = '/home/jovyan/work/Datasets/filtered_existing_audio_files.csv'\n",
    "filtered_df = pd.read_csv(filtered_file_path)\n",
    "filtered_df_copy = filtered_df.copy() # Make a copy to preserve the original\n",
    "audio_dir = '/home/jovyan/work/Datasets/cv-corpus/cv-corpus-19.0-2024-09-13/ta/clips' # Base directory where audio files are located\n",
    "durations_full = [] # List to store durations\n",
    "durations_rounded = []\n",
    "for idx, filename in enumerate(filtered_df_copy['path']): # Loop through each file path in the 'path' column\n",
    "    file_path = os.path.join(audio_dir, filename)\n",
    "    try:\n",
    "        y, sr = librosa.load(file_path, sr=None) # Load the file and get duration (full float)\n",
    "        duration = librosa.get_duration(y=y, sr=sr)\n",
    "        durations_full.append(duration)  # full float\n",
    "        durations_rounded.append(round(duration, 2))  # optional rounded value\n",
    "    except Exception as e:\n",
    "        print(f\"Error loading {filename}: {e}\")\n",
    "        durations_full.append(None)\n",
    "        durations_rounded.append(None)\n",
    "\n",
    "# Add columns to the copied dataframe\n",
    "filtered_df_copy['duration'] = durations_full\n",
    "filtered_df_copy['duration_rounded'] = durations_rounded"
   ]
  },
  {
   "cell_type": "code",
   "execution_count": 277,
   "id": "fd3059e9-a611-4f27-bf91-146c080dcd80",
   "metadata": {},
   "outputs": [
    {
     "name": "stdout",
     "output_type": "stream",
     "text": [
      "Duration columns added successfully.\n"
     ]
    }
   ],
   "source": [
    "# (Optional) Save to a new CSV for later reference\n",
    "filtered_df_copy.to_csv('/home/jovyan/work/Datasets/filtered_with_durations.csv', index=False)\n",
    "print(\"Duration columns added successfully.\")"
   ]
  },
  {
   "cell_type": "code",
   "execution_count": 279,
   "id": "908ac19a-8fc3-4bcf-ba5a-66e32a367066",
   "metadata": {},
   "outputs": [
    {
     "name": "stdout",
     "output_type": "stream",
     "text": [
      "Duration in milliseconds added successfully (no rounding).\n"
     ]
    }
   ],
   "source": [
    "if 'duration' in filtered_df_copy.columns: # Make sure 'duration' column exists\n",
    "    filtered_df_copy['duration_milliseconds'] = filtered_df_copy['duration'].apply( \n",
    "        lambda x: x * 1000 if pd.notnull(x) else None # Add duration in milliseconds (without rounding)\n",
    "    )\n",
    "    filtered_df_copy.to_csv('/home/jovyan/work/Datasets/filtered_with_durations.csv', index=False) #Save updated DataFrame\n",
    "\n",
    "    print(\"Duration in milliseconds added successfully (no rounding).\")\n",
    "else:\n",
    "    print(\" 'duration' column not found. Please calculate it first.\")"
   ]
  },
  {
   "cell_type": "code",
   "execution_count": 280,
   "id": "ede7d9e4-57f3-4fd6-97e2-2181df76a186",
   "metadata": {},
   "outputs": [
    {
     "name": "stdout",
     "output_type": "stream",
     "text": [
      "Total duration: 1530036.1199999996\n",
      "Total duration_rounded: 1530384.6299999994\n",
      "Total duration_milliseconds: 1530036120.0\n"
     ]
    }
   ],
   "source": [
    "columns_to_check = ['duration', 'duration_rounded', 'duration_milliseconds'] # Ensure the columns exist\n",
    "\n",
    "for col in columns_to_check:\n",
    "    if col in filtered_df_copy.columns:\n",
    "        total = filtered_df_copy[col].sum()\n",
    "        print(f\"Total {col}: {total}\")\n",
    "    else:\n",
    "        print(f\" Column '{col}' not found in the DataFrame.\")"
   ]
  },
  {
   "cell_type": "markdown",
   "id": "773499bf-4a2a-44cc-996f-87a49aef5d65",
   "metadata": {},
   "source": [
    "**Consider filtered_with_durations.csv file as final updated file**"
   ]
  },
  {
   "cell_type": "markdown",
   "id": "43cec870-d12d-4aec-9f48-ce7f9771120f",
   "metadata": {},
   "source": [
    "**Final Dataset analysis**"
   ]
  },
  {
   "cell_type": "code",
   "execution_count": 281,
   "id": "be55620e-5ce7-485b-bbed-e8bbda23ae56",
   "metadata": {},
   "outputs": [],
   "source": [
    "final_dataset_path = \"/home/jovyan/work/Datasets/filtered_with_durations.csv\" # Load the final dataset\n",
    "final_df = pd.read_csv(final_dataset_path)"
   ]
  },
  {
   "cell_type": "code",
   "execution_count": 282,
   "id": "891e8d2f-b562-452c-95df-90561835719d",
   "metadata": {},
   "outputs": [
    {
     "name": "stdout",
     "output_type": "stream",
     "text": [
      "Head of the DataFrame:\n",
      "                           path  \\\n",
      "0  common_voice_ta_24959711.mp3   \n",
      "1  common_voice_ta_24959713.mp3   \n",
      "2  common_voice_ta_24959750.mp3   \n",
      "3  common_voice_ta_24959754.mp3   \n",
      "4  common_voice_ta_24959762.mp3   \n",
      "\n",
      "                                            sentence Found  duration  \\\n",
      "0              பாலாஜி என்பது பாலன் என்ற பொருளுடையது.   Yes     6.696   \n",
      "1  சீக்கிரத்தில் ஐநூறு ரூபாய் செலவழித்து அவரது மு...   Yes     7.380   \n",
      "2                   பகலில் இயங்கிக் கொண்டே இருப்பர்.   Yes     3.960   \n",
      "3                          மிகுதியும் பயன் விளையும்.   Yes     3.456   \n",
      "4      புதுப்புனலில் பாய்ந்து நீந்தி விளையாடுகிறாள்.   Yes     4.428   \n",
      "\n",
      "   duration_rounded  duration_milliseconds  \n",
      "0              6.70                 6696.0  \n",
      "1              7.38                 7380.0  \n",
      "2              3.96                 3960.0  \n",
      "3              3.46                 3456.0  \n",
      "4              4.43                 4428.0  \n"
     ]
    }
   ],
   "source": [
    "print(\"Head of the DataFrame:\") # Preview the first few rows\n",
    "print(final_df.head())"
   ]
  },
  {
   "cell_type": "code",
   "execution_count": 283,
   "id": "48348720-375c-49d8-b2d4-6c45b72ba974",
   "metadata": {},
   "outputs": [
    {
     "name": "stdout",
     "output_type": "stream",
     "text": [
      "Tail of the DataFrame:\n",
      "                                path  \\\n",
      "246835  common_voice_ta_32120972.mp3   \n",
      "246836  common_voice_ta_32194272.mp3   \n",
      "246837  common_voice_ta_32194389.mp3   \n",
      "246838  common_voice_ta_32350384.mp3   \n",
      "246839  common_voice_ta_34439322.mp3   \n",
      "\n",
      "                                                 sentence Found  duration  \\\n",
      "246835                  அவற்றை நம்மால் மறக்க முடியவில்லை.   Yes     4.068   \n",
      "246836  அதே பழைய மணவறை மாடத்தில் பதுமையும் அவனும் தொடர...   Yes     8.388   \n",
      "246837     எடுத்துக் கூறும் உறுதி மொழிகள் சாத்தியமானவையா?   Yes     5.400   \n",
      "246838           வெளிச்சம் இருந்தால் இருட்டும் இருக்கும்.   Yes     4.068   \n",
      "246839     யாரும் மனம் நோகாதபடி பார்த்துக் கொள்ளவேண்டும்.   Yes     5.040   \n",
      "\n",
      "        duration_rounded  duration_milliseconds  \n",
      "246835              4.07                 4068.0  \n",
      "246836              8.39                 8388.0  \n",
      "246837              5.40                 5400.0  \n",
      "246838              4.07                 4068.0  \n",
      "246839              5.04                 5040.0  \n"
     ]
    }
   ],
   "source": [
    "print(\"Tail of the DataFrame:\") # Preview the last few rows\n",
    "print(final_df.tail())"
   ]
  },
  {
   "cell_type": "code",
   "execution_count": 285,
   "id": "f176464f-26d7-4fea-8f98-9f9f58c3f67e",
   "metadata": {},
   "outputs": [
    {
     "name": "stdout",
     "output_type": "stream",
     "text": [
      "DataFrame Info:\n",
      "<class 'pandas.core.frame.DataFrame'>\n",
      "RangeIndex: 246840 entries, 0 to 246839\n",
      "Data columns (total 6 columns):\n",
      " #   Column                 Non-Null Count   Dtype  \n",
      "---  ------                 --------------   -----  \n",
      " 0   path                   246840 non-null  object \n",
      " 1   sentence               246840 non-null  object \n",
      " 2   Found                  246840 non-null  object \n",
      " 3   duration               246840 non-null  float64\n",
      " 4   duration_rounded       246840 non-null  float64\n",
      " 5   duration_milliseconds  246840 non-null  float64\n",
      "dtypes: float64(3), object(3)\n",
      "memory usage: 11.3+ MB\n",
      "None\n"
     ]
    }
   ],
   "source": [
    "print(\"DataFrame Info:\") # Info about the DataFrame\n",
    "print(final_df.info())"
   ]
  },
  {
   "cell_type": "code",
   "execution_count": 287,
   "id": "d6f5a511-e7eb-42be-acb9-afb4691238c4",
   "metadata": {},
   "outputs": [
    {
     "name": "stdout",
     "output_type": "stream",
     "text": [
      "Descriptive Statistics (Numerical Columns):\n",
      "            duration  duration_rounded  duration_milliseconds\n",
      "count  246840.000000     246840.000000          246840.000000\n",
      "mean        6.198493          6.199905            6198.493437\n",
      "std         2.495943          2.496045            2495.942646\n",
      "min         0.072000          0.070000              72.000000\n",
      "25%         4.464000          4.460000            4464.000000\n",
      "50%         5.940000          5.940000            5940.000000\n",
      "75%         7.848000          7.850000            7848.000000\n",
      "max       203.004000        203.000000          203004.000000\n"
     ]
    }
   ],
   "source": [
    "print(\"Descriptive Statistics (Numerical Columns):\") # Describe numerical columns\n",
    "print(final_df.describe())"
   ]
  },
  {
   "cell_type": "code",
   "execution_count": 289,
   "id": "2c25a6a7-d513-4d48-a06f-1fd062215e34",
   "metadata": {},
   "outputs": [
    {
     "name": "stdout",
     "output_type": "stream",
     "text": [
      "Descriptive Statistics (Categorical Columns):\n",
      "                                path                                sentence  \\\n",
      "count                         246840                                  246840   \n",
      "unique                        246840                                  118041   \n",
      "top     common_voice_ta_34439322.mp3  கம்மது, கிறிஸ்து-எனும் பலபேர் சொல்லிச்   \n",
      "freq                               1                                      32   \n",
      "\n",
      "         Found  \n",
      "count   246840  \n",
      "unique       1  \n",
      "top        Yes  \n",
      "freq    246840  \n"
     ]
    }
   ],
   "source": [
    "print(\"Descriptive Statistics (Categorical Columns):\") #Describe categorical columns (object types)\n",
    "print(final_df.describe(include=['object']))"
   ]
  },
  {
   "cell_type": "code",
   "execution_count": 290,
   "id": "ba496fac-8db3-49ba-8489-3c7e0c0bc35c",
   "metadata": {},
   "outputs": [
    {
     "name": "stdout",
     "output_type": "stream",
     "text": [
      "Null Values Count:\n",
      "path                     0\n",
      "sentence                 0\n",
      "Found                    0\n",
      "duration                 0\n",
      "duration_rounded         0\n",
      "duration_milliseconds    0\n",
      "dtype: int64\n"
     ]
    }
   ],
   "source": [
    "print(\"Null Values Count:\")\n",
    "print(final_df.isnull().sum())"
   ]
  },
  {
   "cell_type": "code",
   "execution_count": 292,
   "id": "e4aa180f-b727-449c-8eed-d5bbe395fbcb",
   "metadata": {},
   "outputs": [
    {
     "name": "stdout",
     "output_type": "stream",
     "text": [
      "Unique Values per Column:\n",
      "path: 246840\n",
      "sentence: 118041\n",
      "Found: 1\n",
      "duration: 763\n",
      "duration_rounded: 703\n",
      "duration_milliseconds: 763\n"
     ]
    }
   ],
   "source": [
    "print(\"Unique Values per Column:\") # Unique values in each column\n",
    "for col in final_df.columns:\n",
    "    print(f\"{col}: {final_df[col].nunique()}\")"
   ]
  },
  {
   "cell_type": "code",
   "execution_count": 293,
   "id": "79933252-7376-4835-b0e4-4376460e6127",
   "metadata": {},
   "outputs": [
    {
     "name": "stdout",
     "output_type": "stream",
     "text": [
      "Most Frequent Values (Mode):\n",
      "path: common_voice_ta_19071679.mp3\n",
      "sentence: கம்மது, கிறிஸ்து-எனும் பலபேர் சொல்லிச்\n",
      "Found: Yes\n",
      "duration: 4.896\n",
      "duration_rounded: 4.9\n",
      "duration_milliseconds: 4896.0\n"
     ]
    }
   ],
   "source": [
    "print(\"Most Frequent Values (Mode):\") # Most frequent values (mode) in each column\n",
    "for col in final_df.columns:\n",
    "    print(f\"{col}: {final_df[col].mode().values[0]}\")"
   ]
  },
  {
   "cell_type": "code",
   "execution_count": 295,
   "id": "679b9b11-22bf-4089-99af-d16a4f15ad5c",
   "metadata": {},
   "outputs": [
    {
     "name": "stdout",
     "output_type": "stream",
     "text": [
      " Total Durations Summary:\n",
      "Total duration (seconds): 1530036.1199999996\n",
      "Total rounded duration (seconds): 1530384.6299999994\n",
      "Total duration (milliseconds): 1530036120.0\n"
     ]
    }
   ],
   "source": [
    "print(\" Total Durations Summary:\") # Summary of 'duration', 'duration_rounded', 'duration_milliseconds'\n",
    "if 'duration' in final_df.columns:\n",
    "    print(f\"Total duration (seconds): {final_df['duration'].sum()}\")\n",
    "if 'duration_rounded' in final_df.columns:\n",
    "    print(f\"Total rounded duration (seconds): {final_df['duration_rounded'].sum()}\")\n",
    "if 'duration_milliseconds' in final_df.columns:\n",
    "    print(f\"Total duration (milliseconds): {final_df['duration_milliseconds'].sum()}\")"
   ]
  },
  {
   "cell_type": "code",
   "execution_count": null,
   "id": "1f652038-3d6d-45c2-9503-1b9f143524b8",
   "metadata": {},
   "outputs": [],
   "source": []
  }
 ],
 "metadata": {
  "kernelspec": {
   "display_name": "Python 3 (ipykernel)",
   "language": "python",
   "name": "python3"
  },
  "language_info": {
   "codemirror_mode": {
    "name": "ipython",
    "version": 3
   },
   "file_extension": ".py",
   "mimetype": "text/x-python",
   "name": "python",
   "nbconvert_exporter": "python",
   "pygments_lexer": "ipython3",
   "version": "3.12.10"
  }
 },
 "nbformat": 4,
 "nbformat_minor": 5
}
